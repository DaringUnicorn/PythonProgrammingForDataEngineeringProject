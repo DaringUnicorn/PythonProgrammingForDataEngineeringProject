{
  "nbformat": 4,
  "nbformat_minor": 0,
  "metadata": {
    "colab": {
      "provenance": [],
      "authorship_tag": "ABX9TyOdmhbVzA21auLZlUsR4AWC",
      "include_colab_link": true
    },
    "kernelspec": {
      "name": "python3",
      "display_name": "Python 3"
    },
    "language_info": {
      "name": "python"
    }
  },
  "cells": [
    {
      "cell_type": "markdown",
      "metadata": {
        "id": "view-in-github",
        "colab_type": "text"
      },
      "source": [
        "<a href=\"https://colab.research.google.com/github/DaringUnicorn/PythonProgrammingForDataEngineeringProject/blob/main/Python_for_Data_Analysis_1_4.ipynb\" target=\"_parent\"><img src=\"https://colab.research.google.com/assets/colab-badge.svg\" alt=\"Open In Colab\"/></a>"
      ]
    },
    {
      "cell_type": "markdown",
      "source": [
        "To exemplify the performance difference of a list and a numpy array, let's consider a NumPy array of one million integers, and the equivalent Python list:\n"
      ],
      "metadata": {
        "id": "Sv1ysKZEMcwb"
      }
    },
    {
      "cell_type": "code",
      "source": [
        "import numpy as np"
      ],
      "metadata": {
        "id": "2_K0bVjxDMbO"
      },
      "execution_count": null,
      "outputs": []
    },
    {
      "cell_type": "code",
      "source": [
        "myArray = np.array(1_000_000)\n",
        "myList = list(range(1_000_000))"
      ],
      "metadata": {
        "id": "qxBSEw9Xk_H6"
      },
      "execution_count": null,
      "outputs": []
    },
    {
      "cell_type": "code",
      "source": [
        "%timeit myArray2 = myArray * 2\n"
      ],
      "metadata": {
        "colab": {
          "base_uri": "https://localhost:8080/"
        },
        "id": "t5Do0wVwMa_J",
        "outputId": "7ff3a4a5-2038-4c0c-b1ff-2597ab8cbfea"
      },
      "execution_count": null,
      "outputs": [
        {
          "output_type": "stream",
          "name": "stdout",
          "text": [
            "The slowest run took 4.18 times longer than the fastest. This could mean that an intermediate result is being cached.\n",
            "2.51 µs ± 1.24 µs per loop (mean ± std. dev. of 7 runs, 1000000 loops each)\n"
          ]
        }
      ]
    },
    {
      "cell_type": "code",
      "source": [
        "%timeit myList2 = [x * 2 for x in myList]"
      ],
      "metadata": {
        "colab": {
          "base_uri": "https://localhost:8080/"
        },
        "id": "xKA0ltzZM8J7",
        "outputId": "ea135b15-8692-465b-a2d7-d8c25a4c1a96"
      },
      "execution_count": null,
      "outputs": [
        {
          "output_type": "stream",
          "name": "stdout",
          "text": [
            "54.7 ms ± 1.35 ms per loop (mean ± std. dev. of 7 runs, 10 loops each)\n"
          ]
        }
      ]
    },
    {
      "cell_type": "code",
      "source": [
        "data = np.array([[1.5, -0.1, 3], [0, -3, 6.5]])\n",
        "data"
      ],
      "metadata": {
        "colab": {
          "base_uri": "https://localhost:8080/"
        },
        "id": "4vVFAN7NVKN-",
        "outputId": "bb97bc1e-0166-4a53-90aa-f05cc6d9ce30"
      },
      "execution_count": null,
      "outputs": [
        {
          "output_type": "execute_result",
          "data": {
            "text/plain": [
              "array([[ 1.5, -0.1,  3. ],\n",
              "       [ 0. , -3. ,  6.5]])"
            ]
          },
          "metadata": {},
          "execution_count": 5
        }
      ]
    },
    {
      "cell_type": "code",
      "source": [
        "data * 10"
      ],
      "metadata": {
        "colab": {
          "base_uri": "https://localhost:8080/"
        },
        "id": "RI0efYIUVTlp",
        "outputId": "15c9a485-01b4-42fe-dc54-f61d542d09cb"
      },
      "execution_count": null,
      "outputs": [
        {
          "output_type": "execute_result",
          "data": {
            "text/plain": [
              "array([[ 15.,  -1.,  30.],\n",
              "       [  0., -30.,  65.]])"
            ]
          },
          "metadata": {},
          "execution_count": 6
        }
      ]
    },
    {
      "cell_type": "code",
      "source": [
        "data + data"
      ],
      "metadata": {
        "colab": {
          "base_uri": "https://localhost:8080/"
        },
        "id": "5cq2A8hiVozz",
        "outputId": "e1fd82aa-b73e-46b4-ce1e-debc1444261c"
      },
      "execution_count": null,
      "outputs": [
        {
          "output_type": "execute_result",
          "data": {
            "text/plain": [
              "array([[ 3. , -0.2,  6. ],\n",
              "       [ 0. , -6. , 13. ]])"
            ]
          },
          "metadata": {},
          "execution_count": 7
        }
      ]
    },
    {
      "cell_type": "code",
      "source": [
        "data.shape"
      ],
      "metadata": {
        "colab": {
          "base_uri": "https://localhost:8080/"
        },
        "id": "8ILLQTSoVqb_",
        "outputId": "ca5c3b7c-9f0d-4aa0-bd2c-52ab1e20cf7e"
      },
      "execution_count": null,
      "outputs": [
        {
          "output_type": "execute_result",
          "data": {
            "text/plain": [
              "(2, 3)"
            ]
          },
          "metadata": {},
          "execution_count": 8
        }
      ]
    },
    {
      "cell_type": "code",
      "source": [
        "data.dtype"
      ],
      "metadata": {
        "colab": {
          "base_uri": "https://localhost:8080/"
        },
        "id": "Hs0Jc80rWE8f",
        "outputId": "c24ff8c0-7cd5-4c31-ccf3-dae52c1bb1cf"
      },
      "execution_count": null,
      "outputs": [
        {
          "output_type": "execute_result",
          "data": {
            "text/plain": [
              "dtype('float64')"
            ]
          },
          "metadata": {},
          "execution_count": 9
        }
      ]
    },
    {
      "cell_type": "markdown",
      "source": [
        "### Creating ndarrays\n",
        "  The easiest way to create an array is to use the **array** function. This accepts any sequence-like object (including other arrays) and produces a new NumPy array containing the passed data. For example, a list is a good candidate for conversion:\n",
        "   "
      ],
      "metadata": {
        "id": "45mL73ZpX3hu"
      }
    },
    {
      "cell_type": "code",
      "source": [
        "data1 = [6, 7.5, 8, 0, 1]"
      ],
      "metadata": {
        "id": "05nxLWMKWGwr"
      },
      "execution_count": null,
      "outputs": []
    },
    {
      "cell_type": "code",
      "source": [
        "array1 = np.array(data)\n",
        "array1"
      ],
      "metadata": {
        "colab": {
          "base_uri": "https://localhost:8080/"
        },
        "id": "oVOspReTYWV5",
        "outputId": "5fcbbc50-3a84-41e1-9b46-b32e1c226fab"
      },
      "execution_count": null,
      "outputs": [
        {
          "output_type": "execute_result",
          "data": {
            "text/plain": [
              "array([[ 1.5, -0.1,  3. ],\n",
              "       [ 0. , -3. ,  6.5]])"
            ]
          },
          "metadata": {},
          "execution_count": 11
        }
      ]
    },
    {
      "cell_type": "code",
      "source": [
        "data2 =[[1, 2, 3, 4 ], [5, 6, 7, 8]]"
      ],
      "metadata": {
        "id": "FINbH3wsYY1K"
      },
      "execution_count": null,
      "outputs": []
    },
    {
      "cell_type": "code",
      "source": [
        "array2 = np.array(data2)\n",
        "array2"
      ],
      "metadata": {
        "colab": {
          "base_uri": "https://localhost:8080/"
        },
        "id": "jkR7T7abYmNE",
        "outputId": "21242ce1-5c88-40c4-c209-5913f50178b6"
      },
      "execution_count": null,
      "outputs": [
        {
          "output_type": "execute_result",
          "data": {
            "text/plain": [
              "array([[1, 2, 3, 4],\n",
              "       [5, 6, 7, 8]])"
            ]
          },
          "metadata": {},
          "execution_count": 13
        }
      ]
    },
    {
      "cell_type": "markdown",
      "source": [
        "Since **data2** was a list of lists, the NumPy array **array2** has two dimensions, with shape inferred from the data. We can confirm thi by inspecting the **ndim** and **shape** attributes:"
      ],
      "metadata": {
        "id": "ruXYCK-9ZKB1"
      }
    },
    {
      "cell_type": "code",
      "source": [
        "array2.ndim"
      ],
      "metadata": {
        "colab": {
          "base_uri": "https://localhost:8080/"
        },
        "id": "bfKwBPy_YoXV",
        "outputId": "254e1460-8bf4-4724-ef2d-c70f01174de1"
      },
      "execution_count": null,
      "outputs": [
        {
          "output_type": "execute_result",
          "data": {
            "text/plain": [
              "2"
            ]
          },
          "metadata": {},
          "execution_count": 14
        }
      ]
    },
    {
      "cell_type": "code",
      "source": [
        "array2.shape"
      ],
      "metadata": {
        "colab": {
          "base_uri": "https://localhost:8080/"
        },
        "id": "mkLW5VTXZZrz",
        "outputId": "25052ef0-29ba-44bb-a955-68ff98f1bd67"
      },
      "execution_count": null,
      "outputs": [
        {
          "output_type": "execute_result",
          "data": {
            "text/plain": [
              "(2, 4)"
            ]
          },
          "metadata": {},
          "execution_count": 15
        }
      ]
    },
    {
      "cell_type": "code",
      "source": [
        "array1.dtype"
      ],
      "metadata": {
        "colab": {
          "base_uri": "https://localhost:8080/"
        },
        "id": "ttjZNlJPZa2K",
        "outputId": "c9895a27-f40b-407f-d9d4-8a2b0d3de384"
      },
      "execution_count": null,
      "outputs": [
        {
          "output_type": "execute_result",
          "data": {
            "text/plain": [
              "dtype('float64')"
            ]
          },
          "metadata": {},
          "execution_count": 16
        }
      ]
    },
    {
      "cell_type": "code",
      "source": [
        "array2.dtype"
      ],
      "metadata": {
        "colab": {
          "base_uri": "https://localhost:8080/"
        },
        "id": "TKok6dMRZquI",
        "outputId": "cfce9c6b-1492-45b3-9831-ccb1f9bc561b"
      },
      "execution_count": null,
      "outputs": [
        {
          "output_type": "execute_result",
          "data": {
            "text/plain": [
              "dtype('int64')"
            ]
          },
          "metadata": {},
          "execution_count": 17
        }
      ]
    },
    {
      "cell_type": "code",
      "source": [
        "np.zeros(10)"
      ],
      "metadata": {
        "colab": {
          "base_uri": "https://localhost:8080/"
        },
        "id": "iDJL3IjKZrsa",
        "outputId": "805bd8f8-716b-4bba-b903-393b247aca9b"
      },
      "execution_count": null,
      "outputs": [
        {
          "output_type": "execute_result",
          "data": {
            "text/plain": [
              "array([0., 0., 0., 0., 0., 0., 0., 0., 0., 0.])"
            ]
          },
          "metadata": {},
          "execution_count": 18
        }
      ]
    },
    {
      "cell_type": "code",
      "source": [
        "np.zeros((3,6))"
      ],
      "metadata": {
        "colab": {
          "base_uri": "https://localhost:8080/"
        },
        "id": "-1pCaiypZvTf",
        "outputId": "54b238a9-9e28-4b33-f116-4373eb7c102c"
      },
      "execution_count": null,
      "outputs": [
        {
          "output_type": "execute_result",
          "data": {
            "text/plain": [
              "array([[0., 0., 0., 0., 0., 0.],\n",
              "       [0., 0., 0., 0., 0., 0.],\n",
              "       [0., 0., 0., 0., 0., 0.]])"
            ]
          },
          "metadata": {},
          "execution_count": 19
        }
      ]
    },
    {
      "cell_type": "code",
      "source": [
        "np.empty((2,3,2))"
      ],
      "metadata": {
        "colab": {
          "base_uri": "https://localhost:8080/"
        },
        "id": "J3DEVDKzZyy-",
        "outputId": "a29e0db4-e4d0-411a-b5a7-2f1fc9797201"
      },
      "execution_count": null,
      "outputs": [
        {
          "output_type": "execute_result",
          "data": {
            "text/plain": [
              "array([[[1.66149183e-313, 0.00000000e+000],\n",
              "        [0.00000000e+000, 0.00000000e+000],\n",
              "        [0.00000000e+000, 0.00000000e+000]],\n",
              "\n",
              "       [[0.00000000e+000, 0.00000000e+000],\n",
              "        [0.00000000e+000, 0.00000000e+000],\n",
              "        [0.00000000e+000, 0.00000000e+000]]])"
            ]
          },
          "metadata": {},
          "execution_count": 20
        }
      ]
    },
    {
      "cell_type": "markdown",
      "source": [
        "**numpy.arange** is an array-valued version of thr built-in Python **range** function:"
      ],
      "metadata": {
        "id": "rjhtH7oiaEPw"
      }
    },
    {
      "cell_type": "code",
      "source": [
        "np.arange(15)"
      ],
      "metadata": {
        "colab": {
          "base_uri": "https://localhost:8080/"
        },
        "id": "rMnpSritZ4ux",
        "outputId": "2125cc4d-b31e-41ca-c31e-f883a5e8a0ce"
      },
      "execution_count": null,
      "outputs": [
        {
          "output_type": "execute_result",
          "data": {
            "text/plain": [
              "array([ 0,  1,  2,  3,  4,  5,  6,  7,  8,  9, 10, 11, 12, 13, 14])"
            ]
          },
          "metadata": {},
          "execution_count": 21
        }
      ]
    },
    {
      "cell_type": "markdown",
      "source": [
        "![image.png](data:image/png;base64,iVBORw0KGgoAAAANSUhEUgAAApAAAAKWCAYAAAD+7KlNAAAAAXNSR0IArs4c6QAAAARnQU1BAACxjwv8YQUAAAAJcEhZcwAADsMAAA7DAcdvqGQAAP+lSURBVHhe7N1/dBvlnS/+dxJLCUgmxBDLhoDTjBZyvwX71tRZS0trKJQEwmYrt9Hh7tpbzGHrbGruRhtnT7U0jdPLds4hzhrOCjbmLNfLynfvPc6t1ZttutFpe2/cslJODN7GLVtDJYiJwZEpSoMlkkgm+f5RPU9nHv2asWVZtj+vc3xaZkbz43meeeYzz4/Jik2bNl0DIYQQQgghGq0UFxBCCCGEEJILBZCEEEIIIUQXCiAJIYQQQoguFEASQgghhBBdKIAkhBBCCCG6rCjULOxwOCwuIoQQQgghC0CSJHFRQRUsgCSEEEIIIcsDdWETQgghhBBdKIAkhBBCCCG6UABJCCGEEEJ0oQCSEEIIIYToQgEkIYQQQgjRhQJIQgghhBCiCwWQhBBCCCFEFwogCSGEEEKILhRAEkIIIYQQXSiAJIQQQgghulAASQghhBBCdKEAkhBCCCGE6EIBJCGEEEII0YUCyCyeeuopvPHGGxgaGoLNZhNXkyXAZrNhaGgIb7zxBp566ilx9axQuSGEELIcFDWAlGUZ4XA465/X6xV/Mu8+9alP4W//9m/x93//96rlW7ZswZo1a2CxWNDY2KhaRzLLlr9vvfUWfvKTn+DAgQOoqqoSf7ZgGhsbYbFYsGbNGmzZskVcnROVG0IIIctZUQNIZmZmBuFwGGNjY6q/d999V9x03t199934whe+gE2bNqmWHzt2DJOTk/j5z3+Of/mXf1GtI7mJ+fub3/wGt9xyC1pbW/GP//iP+P3f/33xJwviX/7lX/Dzn/8ck5OTOHbsmLg6Jyo3hBBClrMVmzZtuiYunC+yLMPpdCIej+PAgQPw+XziJkX31FNPYffu3Xj33XexdetWcTXRIVf+fv3rX8ef/dmfoby8HL/85S/x1FNP4Z133lH9fjGhckMIIWQ5W5AWyFy8Xm9ad7bD4cDo6ChGR0fhcDj4dm+99Ra6u7tx/PhxvPXWWwiFQvjhD3+IBx98kP/2M5/5DP7pn/4J//Ef/8G7U7/3ve/h85//PHw+H5566ikYjUZYrVaEw2F+DJfLhbGxMQQCAdVYtvb2dgwNDfHjnTlzBs8//zzvmmXnevLkSRw6dAg/+9nPEA6H8Ytf/ALf+c53YDKZ+L6WkxdeeAEDAwOYmZmB1WrFl770Jb6uvb0dgUAAoVAIoVAIgUAA7e3tfP2XvvQl/OhHP+Jp/vrrr+PAgQM8LXPlMcuPf/u3f8N3vvMdjIyMIBwOo7e3FzabDYFAAGNjY3C5XECqXP3qV7/Cd77zHfyv//W/MDY2hlAohB//+Mf8nKncEEIIWe5KLoDUY9WqVfijP/oj3HrrrTh79iwSiQQ2bdqEv/zLv8SnPvUpWK1WPPPMM/iDP/gDrFy5Eu+88w4++ugjfPrTn8bjjz+O8fFxTE1NAQBisRjGxsbw1ltv4Te/+Y14KADA3r178Rd/8Re49dZb8etf/xpnz57F6tWrsX37djz77LOqh/ytt96KP/qjP8JvfvMbTE1NYc2aNWhubsbXvvY11T6Xk5/85CeIRqMwGAyoq6sDFGl68803Y2JiAhMTE7j55pvxX//rf8WuXbvwmc98Bnv27MGnPvUpTE9PIxwOY/Xq1Xj00Udx//33581jprKyEl/5ylfw0Ucf4T/+4z/w+uuvK85MbeXKlfjKV76Cu+66CxMTE7h8+TI2btyIPXv24DOf+QyVG0IIIcveggSQJpMJ3d3dqokWfr9f3EyTt99+G21tbXjooYfwj//4j5iZmcEtt9yCu+++Gy0tLbjjjjswPT2N//bf/hsefPBBNDU1YdeuXfjrv/5r7NmzBz/96U8BAOfPn8f27dvxla98Bf/v//0/8TD4zGc+gz/6oz/C6tWrcerUKXzxi1/Egw8+iBdffBGJRAKf/exn8ad/+qd8+08++QT//b//d9x333344z/+Y7zzzjuqwGk5evXVV/HRRx8BAKqrq3maGgwGfP/738d9992H++67D/39/TAYDHjkkUewceNGVFRUIB6P45lnnsHWrVvx4IMPYteuXfj+97+fN4+V2DH+8A//EC+99JJqneiDDz7A17/+dTz44IM4dOgQPv74Y9xyyy3Ytm0blRtCCCHL3oIEkOIki7GxMbz99tviZppMTU3h3//93wEAv/rVr3DlyhWsXLkSq1atwqc//WmsXLkS7777Lv7H//gfAIB4PI4f//jHOH/+vLCn3O6++26sW7cOly9fxk9+8hPE43EAwMmTJ/HBBx9g9erV+E//6T/x7ROJBN58800AwDvvvMOPt2rVKr7NcsfS9OrVq7jrrrtw/PhxHD9+HPfeey+uXbuGm266CTfffDMuXbqE66+/Hnv37sU3vvENmM1m3oKoNY8vXbrEgz4t3n77bQwNDQGpltMPPvgAq1atwsaNG8VNc6JyQwghZClakADyypUr+Pu//3ts376d//35n/+5uNmc3XDDDQCAixcviqt0u+mmm2AwGPDJJ5/ggw8+4MtHR0dx+fJlAMC6desUvyCie++9l+fJ5OQkT9OysjJIkoTNmzdj8+bNkCQJZWVlAICf/exneOmll/DrX/8aVVVV+LM/+zN8//vfx9/93d/BZDIVNI+zeeedd5BMJgEA119/vbg6Jyo3hBBClqIFCSCLhXWXrl27Vlyl24cffohkMolVq1Zh/fr1fHltbS3WrFkDALhw4YLiF0T0+c9/HhUVFUgmkzhz5gwmJiaQTCbx8ccf4xvf+AYkSVL9/cEf/AGGh4fx8ssvo7GxEX/5l3+J06dPY+XKlfjCF76AP/mTPyloHmczlzymckMIIWQpKrkA8pNPPgEAVFVV4VOf+hQAQJIkGI1GYcv8xsbGcPXqVdx+++34kz/5EyA1/vIv/uIv0r5FaDAY+PEy+fnPf44LFy5gzZo1+PznP88nPtx3331Yv349rly5gl/+8pfiz0jK17/+dTidTpSVlSEUCuF73/seXnvtNZw/fx7XXXcd/vAP/5Cnqclkwp/92Z/h93//92EymfDVr34Vv//7v49jx47hhRdewIcffohVq1bBZDLpymM9rrvuOn4+Dz30ECwWS8Y8pnJDCCFkOSq5APLMmTNIJpP41Kc+hX/+53/GyZMn8bWvfW1WY8BeeeUVvPXWWygvL8f+/fvxox/9CENDQ3jqqaewd+9eINX6MzMzg9tvvx3Hjh3DyZMnM/4TdP/+7/+O//N//g+uXLmCxsZG/PCHP8SPfvQj7N69G0ajEa+99hr+6Z/+SfzZsrR69Wr8+Z//OR/TePr0abhcLpjNZrz99ts4dOgQ3nnnHbzzzjs4ceIEEokE7HY7hoaG8K//+q/4t3/7N3zjG9+A2+3G7t278Vd/9Vd45ZVX8KMf/QiHDh3C+vXrEY1GcerUKU15PBv/+T//ZwwNDeFHP/oRnnzySRgMBrz99ts4ceIEQOWGEELIMldyAeRLL72EwcFBXL58GZWVlbjhhhtw9OhRvPfee+KmeYVCIXz729/mk2w+9alPYc2aNQgEApBlGQAwODiIn//857h69SpWr16NTz75BBs2bBD29FuHDx/G888/j/feew8333wzNm7ciCtXruD48eP4q7/6Kz5BYrkTxzTeeOONeP/99+H1etHa2sonpyCVpocPH8Z7772HG264AXfccQdWrVqFkydP4uDBg/B6vThx4gQ+/vhjbNy4ETfddBPOnj2LZ599FsFgUFMez0Y4HMbMzAyfNPNv//Zv2L9/P//4OZUbQgghy1lR/yUaQkqd1+uF3W5HIBBAa2uruJoQQgghpdgCSQghhBBCShsFkIQQQgghRBfqwiaEEEIIIbpQCyQhhBBCCNGFAkhCCCGEEKILBZCEEEIIIUQXCiAJIYQQQoguFEASQgghhBBdKIAkhBBCCCG6UABJCCGEEEJ0oQCSEEIIIYToQgEkIYQQQgjRhQJIQgghhBCiCwWQhBBCCCFEl4L9W9jhcFhcRAghhBBCFoAkSeKigipYAEkIIYQQQpYH6sImhBBCCCG6UABJCCGEEEJ0oQCSEEIIIYToQgEkIYQQQgjRhQJIQgghhBCiCwWQhBBCCCFEFwogCSGEEEKILhRAEkIIIYQQXSiAJIQQQgghulAASQghhBBCdCn6P2W4YsUKlJWVoaysTFxVUmZmZjAzM4Nr14qaPIQQQgghJa+oLZArVqzA6tWrSz54BICysjKsXr0aK1asEFcRQgghhCxrRQ0gy8rKFlVAxlpLCSGEEELI7xQ9gFxsFuM5E7JYORwO2Gw2cTEhhCwIqpOyK2oASZYPl8uFsbExhMNh/jc6OgqHwyFuumTYbDYEAgEEAoFFWeHIsoyxsTG4XC5xVVHYbDbs27cPXV1dQOp8wuEwZFnm6xdz+jJL5TqWEq/Xu6Bln5QmsU4iahRAkoLz+/3o6OhANBpFS0sLJElCZ2cnAKC7uxter1f8ScljD30WzGRSVVUFs9mMiooKNDY2iquLxuv1wu/3i4vnhZZ00WrHjh2oqKjAiRMnxFXALNNXlmXdgZrD4cBrr71GwcQSRHm7+MzmHi6UYDCIoaEh1NTU5Cwzy7VcUQBJCsrv98NqtWJgYAB2ux3BYBAA4PP5UFtbC0mS0NraKv6s5LHgJRd2jZs3b0ZPT4+4umgqKyvFRfNGS7poVV9fj/Hx8axpN5v03bBhg7gor40bN8JoNIqLyRJAebv4zOYeLqRjx44hGo2ivr5eXMUt13JFASQpGJfLhZqaGoRCIbjdbnH1orZYKgibzYby8nJx8bwpVLo4HA5UV1djZGREXDUnswmmKysrC3JNpPRQ3i4+s7mHCykYDCIcDkOSpKytoMu1XFEASQqGvaFl64LMxOFwYHR0lI+TFMchybKM0dFRPPHEEwgEAnw71kXLfp+pi0McQyceSxyT6fV6MTo6ij179vDtAoEAfvKTn6CjowMGgwFOp1N1fCVxbBv7b6/Xy88l1zU6HA74/X6+nfKa2JhSsauYnbPD4YAsy+jv74fFYoHVas14jUper1d1TlarVdwkbSyr8pzYUIVs6aK8ZnGdaMuWLTAajZiamhJXcWL6Isf5seVWqxUWiwX9/f1p6S5i+3c6nTAYDOjo6EA4HIbX6+VlRxx+IY4b1ZKX2eQrn/kojxdWlHsoznP//v38PlKWm2zrcu2XlR+xTGbKp2yUZTCcoYxkuycz7ZcdN9O55spbpcrKSlUeiOvFY4hlKl9aKuW7P/Kth5B+o6OjvPyxc1LWDwy7BnF/uY7HyqYsy2nHFK8tXznOt57Jdg/39vZiVEOdr+deFMuhmO8TExMwm82oqqpSLddSrsTrFcvMYkYBJCmYyspKJBIJnD17VlyVkcvlgizLiMVifKzk+Pg4Ojo6VA8lk8mEp59+GuHUW+DAwACsViu8Xi98Ph/OnDmTcVxcfX09IpEIjh07xo81OTkJSZIgSRImJydx8OBBVeVlMpmwa9cu9PX1QZIk2O12fP7zn8fAwAAAYGBgAJIkYevWrYoj5Wa327F9+3Z0dnaipaUF0WgUbW1tacft7u7GyMgIv0aLxaJr8Lbb7UZnZyfi8ThCoRAkSUJtbS18Pp+4KbxeL+x2OwKBACRJQm9vL+6++27VNrIso6OjA+Pj45AkCR6PBxUVFfyctm7dmjVdvF4vnE4n378yz7LRU3aQqpjb2tr4WNuWlhYAwO7du9HT04O2tjZEIhFEIhG0tLTk7foOBoM8TZLJJDwez6yGXMwmL7WWz0zYQ6ympoafcygUgsPhUD2oDAYDHn/8cQwNDaWVjUzrzp8/n3O/L774IiKRSFrXXmNjIyoqKjA0NMSHsGTi9/tht9t52fF4PKipqUl7wGe6J8X9OhwO9Pb2wmw2o7OzE5Ik8Qe71+vVlLfsRej48eP893a7nddF7BgAeH01PDyM9vZ2zenMuFwuOBwOfp92dnaiurqaH4vdPyxt2HplUCfew319fXA4HLNqCdNyPABwOp2QJAktLS18XPu+fftUL3RinT45Ocm30VPOs93D7e3tOH78eN46HxrvRb/fj4aGBl4mPB4PGhoaVHUVe7HduHEjXwYNdUam9Mj0jFusFjSAvOX6TWi/4zvo2HwYHZsPw7lxD4wr1/D1j9zaBtv6R2Bb/wjfxrb+Ec3r2TZsXcfmw7hz7T0AgHLDOrRZv5W2vW39I2nnQebHtm3bEI1GsXfvXv5A6OrqQiQSQVNTk+ohMjAwwG9Kt9vNK16bzYbBwUEkEgnVg8yV6k5nD7Ft27ZhfHxcFfh1dXUhFouhubmZL0NqrF2uQEOvSCSC9vZ2+Hw+BINBHD16FEajEVu2bFFtNzAwwLv+3W43f3gX+m3V4XCgrq4OgUCAp2lPT0/aQ87tdkNSBIU9PT0YHh5GdXV1WmUvam1tVVWkYp6JNmzYgFgshvPnz4ursmKtlkePHkUwGOSVud6Abz7ozUs95VPErlsZIB85ciTtngCAQCCQdXiJuC7fflnXnnhd7L5mD/FM2P2pTCdWBi0WC3bs2KHaPt89ydLowIEDvBy3trYiFAqhrq4ub3kFwAMAdj5igNzc3IxYLKaqr1pbWzE+Po5t27ap9iWmpai+vh6JRAJHjhwBFON73W43vz+VaePz+dDX14fq6moefGq5h7XQcjwmFArxAN7n86UFctu2bUMikcChQ4d4Gm3dupX/Zi7lXOn06dNIJBKqdBfrfCbXvehyuVBdXY3e3l5evlg6KssNe7HV252u5xm3GC1YAGlcuQa/V/4Z9IW+Dc/YXrwSfgamshtwz01fUG13z00P4DbTHXjpracx+O4L2Ly2Abdcv0nT+jvX3oNwbBSesb3wjO3F6x/+GPb121FuWIfp5AWMXXwNt5nu4MFiuWEdNq/9LM5c+CkSVy/zY5DCc6TGvIXDYdXNzh5Kmd4us/H5fPyNlt2QrII+ffo0Pxbr1mV/rLtXKZlM5uxGLaaJiQkYDAbdlVY+W7ZsgclkwsTEhLhqUWEPEbE1txTlyks95XOucuV5rnXZiC9v2e5rkfL+VDp9+jTi8bgq8M13T9psNt6SJQZQIyMjMJlMaS9rerFjsK5UZT5lGvqRLy1HRkZgNBpVrXcMuz/ZsBD219HRwVsXC3kPazmeFizvM+WDcn0hyrkv1fOkfJnNVqZEynuxvr4eJpOJdz2zP6fTKf5Mt2z3wmyecaVqwQLIxNXLGIp8lwdq08kLiFw6h3VGdUGaunwO33v3CBJXL2M6eQHANZQb1mla/+bF1/Hmxdf5tuPxMQAr+Prx+BhMZWtx85pbgFSLKAC8//Hb/DdEu6mpKRiNxrRmfr1mUymOjIzwlotsDxTW1SP+lUKLVSZTU1NIJpPi4oLI91BmWPcoq1jtdru4SVYOYexPpgftXPh8PrS3tyMWi6G7uxvhLOPESoGWvJxr+VSOYevu7obJZBI3mZVc+xVf3ligNjg4qNiDdufPn0csFhMXz5qWdNeDtaKLf3qGtCDVyuV2u2E2m3lAquwyVXaHKv+UrcFa72EttBxPq3znNNdyzrAgfMuWLbzOP3PmTMbgVUksE/F4nA97UP5lGnpQKLN5xpWiBQsgkeouVnYvbyq/S9wEseRFVZDZF/q2KijMtZ51U7P9N9/+dRhXrua/ff/jtxG59C5qTJsBAJK5FmMXX0sFokQvNoNW7M7RazafbTh27BjvbmpsbITZbE6bzJOp9aeUsfPNVyHPFzk1KUccV6aF1+tFd3e3auxPKBQSN+OyDVLPh3WzShrHWS4ULXk52/LJgnzlmFM2FnYutO73xIkTqKiowGOPPYampqa0Fzc9CvlZKKTS1GAwiItnrby8PK3FcLZYtzW7r5TjLbO1Vs+XQh4v337yrdeqp6cH4+PjaGpqwmOPPYaKigpNX3EQ70UtjR5sfa77V4/ZPONK0YIFkHeuvQe16+7F4Lsv8C7mt6d/IW42a8aVa/DwrV9F5NI5vv/Bd19A4uoV1Xbh2ChuM92Bm1ZXwWxYi1/8Jnu3C8mN3dBWqzXrAGG2XGy5YNibZDQaxalTpxS/zI11C1RXV2Pnzp2IxWL89+xYWsbulRLWJXP27FmcPXsWiUSiIBUPqwTF8XGi+vp6hEIh3W/iLA/ZQzFXV6aSloo8F/YSUagHlBJrGZvtvpV5KZpr+WQvTB6PR3crTi5a93vq1ClEo1Hcf//9GV/cMlG2Himx7lQtgQCjvPfF9Kuvr0c8Hs/brZnPfHc7Dg4OIh6PY8OGDRm78UVa7+GJiYm895WW42mRrxznWz8bIyMjqKiowP3335/zG7JKynuRlbN8187u+0z3bzaFfsaVogULICuMFkW3828DykwtkLO1etV1MJXdgAuJCJAKKO+t3KFqgQSAd6bfAABsu/VxnIu/Ra2Pc8QGCDudTlV3oiv1SQY2KxKKlovDhw/zG6yrqwsWiyVtILQW7KFksVjSxp2cOHECRqNRNduPfbohW7CrxLo9NmzYAIfDgeeff17cZM62b9+uOjer1cq7ZFgA09DQwAe1s1msSmw71lLy0ksvpbWYsEBf2eLBZmGKlBMk2KxPpVzpohyE7k99YD4bNp5RT4AmC5/Q2bFjBywWC38oBINBTE9P85bN559/Ho7UZ2vELkMl5Rgpl8uF/fv3830pX46ypRny5GUm+conu3+yddEbjUbe8u9wOHDw4MGCdGFr2W8w9a91mEwm1YtbrnNmZdDpdPL0ZJNDlLNotWJd5mL6iemeKW+1YuM9lbOu85WlbLzC53Wam5thNBoxMjICX2p8n9Vq5WnHWoPZb7TewyzQ3LlzJ2w2GxypmeTKMYdajqcVK8fKsZ1+vx+B1Mz6fOVclO0eZthHvnO9dOS6F5XpyPLQkeHTcPkm+WUrV4V+xpWaBQsgX//w/yI+8xG+Kn0THZsPo27d5/DzC9q6x7SYTl5A4IPjuOemB9Cx+TC+dsffIDQ9ivjMR6rtElcv41z8LZjLbkiNkSRzwboUWXciGzul/KcNlbMGxXFA7JMhuWYwZsMqg3g8njYGix0LqX9OMZwazzcwMJCza5VRVjTd3d24//77dVWsWrz55pv8gWRPfRqCpVUwGMShQ4eQSCT4gO+pqSkMpD6jw7CHORvs/8ADD6TNaIUQ6IfDYVRWVsLj8SCRSPBt2IxbdjwAadtkSpeqqio+05yl9cjISNq5KrG39XwtAUqhUAjDw8P8/NhnSJRlhz2wuru78eijj6K5uZkHvdmCVdaS6XQ60dHRgYcffhg2m01TmjG58jKTfOWTtUBn6kLtSc2OZ/fbwYMHceDAAU3lOhc9+2WtWMqHYq5zRmp2LusiZ3UEK0t6H6y+DONhWfop0z1b3mrBjhGNRlVlLhAI4OTJk+LmOZ08eRKTk5P8XBsaGlQzgVtbW1V1KBtK8txzz/F9ZCqP4j3Wo5jZ3t/fD1mW0dfXl5aHWo6nRU9PD3p7e1FRUcHr9PLycrz88st8fa5ynkmme5hhLcO5Xjry3YusHNrtdoRT43xjsRg/Z9ZiGM4xMSxbuSr0M67UrNi0adM1ceF8ue6668RFJcG2/hHcZrqDT8YRXbp0SVxESMHIspwx+FluZFnmLSTsQTpfWGtDrqBuNuYzL2VZRn19ve4JG8Xg9XpRV1en+owOSvycl6Ji3kOlgLWKnzlzJu1eLtS9uNzSVI8Fa4EsFbdcvwmb1zbg1aljGYNHQkhxsO6ouU7CykeWZUiShBdffFFcVbJcLhe++MUv8u8GlhLWQiN20ZfyOZOlYa6z/vOx2WxoamrSPL5yuVm2AeSda+/hM7MDH3yfPt1DyAJj3fS5/sWWQnC73bPqJl1IPT09+OxnP5t1DOVC2r17d8YZsKV8zmTxczgc2L59+5xm/edTrDppsaIubA2oC5sQQggh5HeK2gI5MzMjLip5i/GcCSGEEELmU9EDyGvXitbgOWfXrl2jAJIQQgghRFDUAPLatWu4cuXKogjKZmZmcOXKlUUV8BJCCCGEFENRx0ASQgghhJDFr6gtkIQQQgghZPGjAJIQQgghhOhCASQhhBBCCNGFAkhCCCGEEKILBZBkyXI4HBgdHeX/7vFS4/f7MTo6CofDIa5SYeng9/vFVfNGlmWMjY3B5XKJq2bN5XJhbGxsVvlps9kQCAQQDoc1pdlczOU8i22p3yPLhSzLCIfDkGUZmEUZZPdHIBCAzWYTV6vo3XepynYdLC3D4XDaumzE9F8uKIAkZBGy2WwoLy+HyWTi/x4sUhWZlofAYlRZWQmDwQBJknRdn81mw+HDh2E2m9HZ2Yna2tp5+6fPMIfzXEwKVc4cDgdee+21gr5oEP1lsKqqCmazGRUVFWhsbOTLvV5vUV88iylTGsmyDKfTiUAgAEmS0NraKv4sow0bNgAA6uvrxVVLGgWQhCxCwWAQdrsdkiTB7Xbz5awiW4rcbjckSdL971izh+OZM2fmNXBkZnuei0mhytnGjRthNBrFxWSO9JZBn8+H2tpabN68GT09PXx5ZWWlarulJFMabdiwAfF4HIODg+LmObW2tkKSJGzdulVctaRRAEnIErKUK/zZYkHKxMSEuIrMUqHKWWVlJQWQJYr1ciwnlZWViMViOH/+vLiKZEABJCkoNq6EjSFRdnOxcTZer1c1ziTXWDk2RkuWZXi9Xv6bTOPYxGO3tbWp1kMYC5fp2Gzs3v79+9PGzHm9XoyOjmLPnj0YHR1VXV+u/bLzFsfH5Bt3pEyjcDic1pWkHAPJrt1qtcJisaC/vz/t2qA4l2xpyNI70zbsfP1+v+ZxQmazWZUu7BrY7zP9NtvYTnHMkpay4fV60dHRAYPBAKfTibBQJnOlca7rVY4dVB5bluW089RT7pX7Uv5lSg9kKPPZyhIjbq/3HslXznL9Volt53Q6YTAY0NHRgXA4jGPHjiEQCGS8XmW6KvM+X5rmyuNMxHtA3GeuvM9EzFNWLth5ieejvDf0XKeSWAaZbGkh1kWyLKO/vx8WiwVWqxXhLGWQ/S7TumznoFzHzkNZbr1eLwKBABwOR8a6Qylb2jK5ymOm8qQs1+FwGD/60Y8y7hdCPcXSlZUBLXWTcjvlNWS7llJEASQpGFmW0dHRgfHxcUiSBI/Hg4qKCnR1dam2s9vt2L59Ozo7O9HS0oJoNIq2tra0CkjJ6XRCkiS0tLSgs7MTALBv3z5e6bhcLrS3tyMajaKlpQUtLS24+eabYTKZ+D4cDgd6e3v5WLhsxzYYDHj88ccxNDQESZJUY+ZMJhN27dqFvr4+3v1RVVWVc78vvvgiIpFI2viYxsZGVFRUYGhoKK2byev1wul0YmBgAJIkobOzE9XV1RkrUQDo6elBW1sbIpEIIpEIWlpa0rqjrFZr3jSUZRmTk5OQJAmSJGFychIHDx5UpY/VakVTUxNaWlpyjhMS03FgYABWqxV+vx9utxuhUAiSMEbL4XCgurpaV3dzrrLR2toKj8eDZDKJQGpcE+uy0prGua7XbrejsrKSp5dyOIEoX7mXZRl2u52fDzvvZDKJvr6+tPTQer8xhbhHcpWzfL9VYkMwAoEAkskkPB4PJEnCjh07cPToURiNRtXYXqTGlyUSCVX3otPpRH19Pc+/RCKhOp7WPGbYPRCLxXh+j4+Po6OjIy1A1JL3fr8fDQ0N/Po8Hg8aGhrg9Xrhdrv5PaEMPLZv345AIKAqZ/muUwuWFuw+YGmRKVBxu93o7OxEPB7n92mmscPBYFBXfiF1jW1tbapyCAC7d+/m21gsFsiyjKNHj0KSJAQCAVitVtW55kpbdhxleZQkCcPDwxnTjXXhh0IhxONxvv2DDz44p3oqV91ks9mwb98+VVkLhUIAgFAolLVeLSUUQJKCYWNK2DiQnp4eDA8Po7q6WnXDRiIRtLe3w+fz5ayAlEKhEH/w+3w+HD9+XDXge9u2bYhGo9i7dy+CwSCCwSAOHTqEeDzO98EqCVYR5jp2IBDI+EBAaj/KwCzffoPBIMLhMGpqalStBuycjx07xpchVTnV1dVhYGCAn4PP50NfXx+qq6tztjzkoiUNx8fHVeN4urq6EIvF0NzczJfF43EcOnQoLegVscCAXQMLGll5GBkZgcViwY4dO/hv2HHEh04u+a4rEz1pnOt6I5FI1oBNlK/c19fXIxKJ8PLA7p9oNIpTp04Je9N+vzGFvkdEc/mt0qlTpxCNRtHU1MQf2iy/xAd2KBTi18/yz2g0orm5WVceM2IaIXUPRCIR1flAQ967XC5UV1ejt7eX1xc9PT3w+Xyoq6uDw+Hg98T27dvhcDiwa9cuxGIxvPjii6p95bpOLVhaKAMTll9zDVT05BcAbNmyBUajEUePHuXl0G63q84jmUyq0q21tRWhUIinm5a0bW5uhtFoVL18tba2ZgyEc5lLPZWrbsrUgHDkyBHE43GMjIyIuypJFECSRY+9DU5PT2d8yM9GtvFyyWQSU1NT4uK8BgcHkUgkeCskO+dwOJx2zlu2bIHJZOJdruyvo6Nj3saLsfNh3VXsj3VjKc1ljNDIyAiMRiM2btyIY8eOqVpmbTYbpFSrp54Kfjb0pHGu6y1kmZuamlIFviw9CnGM+bhH5kswGMTQ0JAqLVjQke/BevbsWSQSCVRWVurKY+S4J4OpF0DxpSRfWtbX18NkMvHuefbndDpV2x05cgQA0N3djZqaGh5Y5aK8Ti1YWuRLv9nQm1+nT5+eVQvq1NQUrzvypS3rbcn28qXHfNVTLA+VPVMs3WbzjFkIFECSghLHnNjtdnGTeaP1plOOSWHj4woh1359Ph/vGrbZbLxFJtsbrLJbT/kndksXGuveEv/m2kqRCXswsxazxsZGmM1mnDhxQtx0XixUGmfT2tqK4eFh/lDs7++H2WzmAUYmeu+3Ytwjc/ktw4IM9nCtr6/H+Ph43nw5f/48YrEY/+9C5XG2F8p8lN2hyj9lK5jP58OZM2cAQHPAI16nFrN9+dVCT375fD60t7cjFouhu7sb4SzjG0ViHuRK21dffRXQEORrMV/1lM/nw4EDB/hLSzgVAA8PD2dMt1JEASQpGDbwWjnmJBAIiJstGEdqwHKmcWZzoXW/J06cQEVFBR577DE0NTXlfIM1GAyaWxcKab6PKX7+hQXQzc3N2LZtG2KxmKYHaCEsVBpn43K5UFdXpwp4cnW3zcf9prUsZzKX34pYUFVXVwdZllFTU5OxNUvEPtnEAqVC5bFYbrViLWa5uFwuNDQ04Ny5c6ioqFB1lWYjXqcWhUqLTPTmV1DxGTI2DjTTWEylDRs2IJFI4OzZs4DGtC0vL1cNO5it+aqndu3apRpzLs3Ty/p8oQCSFEx9fT1CoVDOh958YG/jUp6P5rJWv87OzqzjG2dD637ZWKH7778/5xvs6dOnEY/HVV0b8421kGYbP1colZWVqlYWdty6ujrU1NRknFA0HxYijfPR+0kbPfdbMe6Rufw2Ezbc4aGHHso4VjgT1lU7MTGhO4/FXgKGdVlqbR1kWACV6/g2mw07d+5ENBqF2+3G+Pg4Hw+Zi/I6tdCbFrMxm/yCoos4V3DL8oANJ8mXttmGHczWfNRTtiXwmSQKIElBKSeKeL3evF1qhcDG4FgsFj6onc2mVM4wRWoWNRsAzWalzqaLTaRlv+w8TSZTzjdY9jbPZiwjz+cymGAwiOnpaZjNZlRVVeH555/Pum0mJ06cgNFoVM26Zt2R4gxULQwGg2qck9/vh9VqTat82XETiQROnz6t2MP8mW0azyfWDSiO68p1Plrvt0LeI7nKWb7fiiYmJnjLmMvlwv79+/m6np4ejI+P48Ybb0Q4w1hhpMa6sbLpcrngcDj4RKTZ5DHrJTh8+DAPIru6umCxWNLKbT7s/O12u2pm8OjoKAKpz9bs3r0bFRUVfNwjG66wa9cu1b5yXacWyrQQzyVbyx976WCteC+99FLOlw8t+QXFp9JYud2xYwcsFouqxdJgMGDnzp1Z80BL2rJx5+Ks/Gx5n0+h6ykW5IrjzsOL5BM+oACSFNKRI0dUD0AA8Hg8SCQS4qYF53a7+acewqnv2z377LOIRCKqbdisuHA4jJ07d8Ltdqu2mQ09+2UtAfkeRq2trbxrJ6wYD/fcc8+Jm6qwSq67uxuPPvqo5lmaSD0AWMsRG5vEuiPZ5yX0iMfjOH78OOTUN9KsVqtqRizDWmYzzdicT7NN4/mSqTvL4/HAaDSmBRSYxf1WyHskUznT+lsl1vrkdDrR0dGBhx9+WBWkjIyM5PyXQc6dO4empiaEU+MtxRnUevOY3QNms5l/C7Cmpkb1NQE9tm7dikAgwNOku7sbsVgML7/8MtxuN+x2u2rMmy81U1cZ9ELDdWrR2tqadi5nzpzByZMnxU0B4aWjv78fDzzwQN7u9Xz5hdTMZOVYX/aZJWX6JpNJvPfeezwPMtUdudIWijGGUNRndXV1WfM+n0LXU5mGrEipT/k0NDTwALuUrdi0adM1cSEhZH54vV7U1dXhwIEDBamElgJZluFIfbNtsQweLzSHw4GDBw/i+PHjaYEKCySW2z+TZkv9G+bT09Np187Sa3JyMm3dUrKYrjNXfunh9XrR0NBQcvVBoespr9cLSZLSXgRcLhfa2trQ19dXkOPMJ2qBJKRI2DieQr3BLhW5ZmwuF6y7UBz/5vf7UVNTk3W87FJWqNmupDiWen4Vup6amJiAxWJRfUCdDfuYnJws2HHmEwWQhBQJG++Ua3biciPLMqxW67JPk2AwiL1796o+bRJOfTrE7XYviodJIbHJJbnGCpPSsdTzaz7qKXfqXyJiXfBseMLw8PCcWnCLibqwCSGEEEKILtQCSQghhBBCdKEAkhBCCCGE6EIBJCGEEEII0YUCSEIIIYQQogsFkIQQQgghRBcKIAkhhBBCiC4UQBJCCCGEEF0ogCSEEEIIIbpQAEkIIYQQQnShAJKUFJvNhkAgAL/fL64iReZyuTA2Ngav1yuumlcOhwOjo6MFLwOyLCMcDkOWZXFVyVvo+8Lv9yMQCMBms4mrCorl/WzKHMvfcDg8q99ns1D3ASGljgJIsiTIslyQB5zD4cBrr70Gl8slrlp2KisrYTAYIEnSnNM1G6/XW7SgaMOGDQCA+vp6cVXRsECwWEHscinPsizD6XQiEAhAkiS0traKmxTUcklXQnKhAJIsCSw4mKuNGzfCaDSKi5clt9sNSZJgt9sRDAbF1QVRWVkpLpo3ra2tkCQJW7duFVcVTVVVFcxms7h43iyX8rxhwwbE43EMDg6Kq+bFcklXQnKhAJIsCYUKRCorK+nBUCQ2mw3l5eXi4iWt2IHHcinPlZWViMViOH/+vLhqXiyXdCUkFwogSUGx8UJsLFK+bmU25oltn61rz+/3822U27HjWa1WWCwW9Pf3Y2xsjHctsS5D9jvlOiW2ndPphMFgQEdHB8LhMI4dO4ZAIIDR0VE4HA7Vb5Rjo9h1yLKsGouV6XjiNYv79vv9actEXq9XlR7K8VniNYvpytZ7vd60/FJul23sV65jQxiLFg6HM3ZRy7KM/v5+WCwWWK3WjOkA4ViZ1udLSyVxDKQyz3Idx+v1IhAIwOFwqNJVeV1erzftd+K4Rb/fj46ODhgMBjidzrR9KInXpfe+yFaelXmV7be5PPjggxnLC0s/cR/sPLLVA2L5a2trEzcBcpQ5lk7K+195HrnKIvttpvKb6b6FxnQlZLmgAJIUjCzL6OjowPj4OCRJgsfjQUVFBbq6usRNgVQFfvDgQQBAZ2cnJEnClStXYLFY+Daswq6pqYHH44EkSQiFQnA4HHC5XOjp6UFbWxsikQgikQhaWlqwefNm9PT0wOFwoLe3F2azGZ2dnWhpaUE0GkVbW1takBEMBmG32xEIBJBMJvmxduzYgaNHj8JoNGLLli2q39TX1yORSKi6zZxOJ+rr6yFJEjo7O5FIJFTHc7lckGUZk5OTkCQJkiRhcnISBw8ehMPh4K1yRqMRGzduVBztd/x+P+x2OwYGBng6NzQ0QJbltGuWJIk/8MSHnN1ux86dO9HW1oaWlhZEIhGertn4/X40NDTw9GHHZvt2uVxwOBwIhUI8Daqrq9MCC7fbjc7OTsTjcb5tbW0tfD4f38ZqtUKSJLS0tKCzsxMAsG/fPh6I5EtLrZxOZ87jAIDFYoEsyzh69ChPU6vVmpamuWzduhUDAwMAwPMuU3d6Ie6LbOW5tbU172+zsVgs2LlzJx/aEAqF4HQ6IcsyXnzxRUQikbTxpY2NjaioqMDQ0FDaMAiXy4X29nZEo1G0tLSgpaUFN998M0wmk2q7XGXO5/OhtrYWoVAI8Xicp5fb7YbX61WNixwYGNCdZ6Jc6UrIckMBJCkY9mBhD8Wenh4MDw+juro64wO9ubkZAHDgwAEeOHR1dSESifBtWIXNgkIAOHLkCBKJRNrDSsQeLiwwCQaDWYPBXE6dOoVoNIqmpiYeVDgcDtTV1eHMmTOqoCcUCvHr9/l86Ovrg9Fo5Ne6bds2jI+PqwKHrq4uxGIxNDc3Z7xeJZfLhZqaGgQCAbjdbiCVzps3b4bb7c6Ypq2trQiFQqirq1PlQyQSwd69exEMBhEMBnHo0CEkEgls27aNb6PkcrlQXV2N3t5efm49PT3w+Xx83yyoPnLkCKDIA3aueoRCIT7+0ufz4fjx46ioqEBjYyOgIS21ynccAEgmk6rrzpamhZApDwt5X8z2t5FIBO3t7fycjhw5gng8jvr6egSDQYTDYdTU1KiC0G3btiEajeLYsWOKPanXiWUwHo/zbbSUuWzYmFcW3Lndbv6ykqk1lBCiDwWQZEHYbDZIklTUcUuzFQwGMTQ0pAoqtmzZAqPRiJGREXFzlbNnzyKRSKCyshIOhwPV1dW8y5b9sa5cLdgDPtNxWZpOTk6qglqktjeZTDkD5/PnzyMWi6G8vDzjA7a+vh4mk4l327E/p9PJtxkZGYHRaExrwSu0QqTlXE1NTeVsKZ6NxXRf+Hw+TE5O8vIyODioCkJZHoXD4bTWR7Zueno6bZ2SljJHCFkYFECSgmLdY6yit9vt4iYq+R4gjHIsU3d3d1o3Vy7K8VNsDJpep0+fVj0c6+vrMT4+nrGVUIkFZUqsS03809oNlkgkcPbsWXFxTlNTU0gmk+JilWAwiOnpaXGxirKbUPnHWnl7enrgdrthNpv5eLS5dBnmM9e0nIuJiQlxUcEU476Yy28zYQGllGrhYy8ruWZGT01NiYvS5CtzuTiEsaRWq1XchBAySxRAkoKRUxMjxPF3c8ECUuVYJjZ2Lh/28BDHC+YLpDLx+Xw4c+YM6urqIMsyampqMrYCithnW5QPyrnOGJ9Nqxf7pmMubPxlruBFy7FZtzXLf7vdnjYGslDmmpZzsWHDhlkF84Uwl/tiLr9VYuVF6cSJE6ioqMBjjz2GpqamjK3hemkpc5l4vV50d3cjFouhpaUFUmrcJiGkMCiAJAVTX1+PUCikqWWAtXZlGx/JNDY2wmw2w+Px6G5VYi0gnZ2dsxqDJ2Ldsw899FDWcV2iLVu2wGQyYWJigrfQ5LvmXFjQmmmsGhuHlmn/9fX1iMfjOH36tGq5EpvwkK1VKNexsxkcHEQ8Hi/YdzqZQqTlXIhdzRMTE7MOdJSKcV/M5bdK7OUorOiiZuOF77//fpjNZpw4cUL8GaBomWetldnMpsxBkT/sBSbTCxE7h4V8CSFkMaMAkhSUchC91+vN2YV94sQJ1Xg5R2oGsTiGzWg08okdjtQMVWV3G3voms1mVFVV4fnnn+cPX5PJxCclsFmfuVriJiYmYDAYUFlZCZfLhf379/N1PT09GB8fx4033qh6aCpZrVbe2sZmJEciER5ssmtWzhRWfgKFtQ6Jn4Rh2DkoW/VcqU+hyLLMuwvF/Vut1rQJPxaLBbt37wZS6drW1pY2q1xJeWzxMyqB1GdavMLnbJqbm7OOFRXHXL700ks5gwlRvrQsJIPBgJ07d/Lz6+rqgsVi4bOLWdDNtslWltlQgg0bNsDhcOD5559XrUcB7wvkKM9afiuyWCz8iwrsNxC6qNl4YZPJhFgshlOnTvF1Smw75T7ZrHrleWgpc7koJ9r4/X5VFzarN5T3LJu5nU+2dCVkOaEAkhQMm8nJBrwDgMfjQSKREDcFFLMp2ffbZFlGX1+fqpupJzWTm02WOHjwIA4cOJDWFcUeut3d3Xj00UfR3NzMZ13a7XaEw2H+CRLlbFbRsWPHEIlE4HQ60dHRgYcfflj1kBoZGcn5L16cO3cOTU1NfLylcpYpUtfDWkO7u7sRTo0THRgYQCgU4g+1XK1ZW7du5Z9QYcfx+XwIhULw+Xxob29HLBZL27/Y2hSJRHDbbbfxMXAQZv5msnXrVt6qw34Xi8Xw8ssvAwBOnjyJyclJfuyGhgbVDFolZRDR39+PBx54ADt27BA3yypfWhZSMpnEe++9x8d1Wq1WDAwMqGbC5yvLbDsWEHV3d+P+++9Pe1HQsi+t90Wm8nzq1ClNvxWFQiFMTU3lLS+nT59GPB7P+OkeJbfbjUDqc0jh1Dcgn3322bT7M1+ZyySo+OICKxsjIyP8M0oMm93O7qXKysqcdRaTKV3zBbOELDUrNm3adE1cSAhJZ7PZcPjwYUxPT6d9v4+1yExOTqat08tms+Ev//Iv8bd/+7c5H8Czxa4DgCq4JZl5vd6cgTBR83q9qKuryxhcEkKWDmqBJEQjNnYs27iuQmDBHWuNJGQxYWMPxeEShJClhwJIQjSw2WzYuXNnznFdhRBMfeS5EJN+CCm23bt3o6KiIuOYV0LI0kJd2IQQQgghRBdqgSSEEEIIIbpQAEkIIYQQQnShAJIQQgghhOhCASQhhBBCCNGFAkhCCCGEEKILBZCEEEIIIUQXCiAJIYQQQoguFEASQgghhBBdKIAkhBBCCCG6UABJCCGEEEJ0oQCSEEIIIYToUrB/CzscDouLCCGEEELIApAkSVxUUAULIAkhhBBCyPJAXdiEEEIIIUQXCiAJIYQQQoguFEASQgghhBBdKIAkhBBCCCG6UABJCCGEEEJ0oQCSEEIIIYToQgEkIYQQQgjRhQJIQgghhBCiCwWQhBBCCCFEl6L/SzQrVqxAWVkZysrKxFVLzszMDGZmZnDtWlGTmBBCCCFkXhW1BXLFihVYvXr1sggeAaCsrAyrV6/GihUrxFWEEEIIIYtWUQPIsrKyZRdMsRZXQgghhJClougB5HK0XK+bEEIIIUtTUQNIsny4XC6MjY0hHA7zv9HRUTgcDnHTJcNmsyEQCCAQCMBms4mriYCll9/vF1ctGqVyDQ6HA6Ojo/B6veIqMgus/hLTU1mv6clzr9eLsbExuFwucdWc+P3+RVGvyrKMcDgMWZbFVXNWKvVuqdQFxUQBJCk4v9+Pjo4ORKNRtLS0QJIkdHZ2AgC6u7vTKuXFgFUOuSrAqqoqmM1mVFRUoLGxUVxdNF6vN28lpuV6SPE5HA689tprBQ80FoIsywv+UJ+tyspKGAwGSJLEz9/lcqG9vR3j4+OQJAlbt24Vf1bU+8pms6G8vBwmkwlbtmwRVxeNlnzesGEDAKC+vl5cRRYxCiBJQfn9flitVgwMDMButyMYDAIAfD4famtrIUkSWltbxZ+VPBYc5sKucfPmzejp6RFXF01lZaW4KI2W6yHFt3HjRhiNRnHxosSChsXI7XZDkiRVHcbuqxMnTghb/04x76tgMAi73Q5JkuB2u8XVRaMln1tbW7MG3WTxogCSFIzL5UJNTQ1CodCCVmjzYbE82FmrRD6L5XqWm8rKyiWTL1peZBaTDRs2IJFI4OzZs+IqbjneV0stn4l2FECSgmHdE7ne0EVs7BYbJymOE5JlGaOjo3jiiScQCAT4dqyLlv0+UxeKOO5GPJY4dsjr9WJ0dBR79uzh2wUCAfzkJz9BR0cHDAYDnE5n1vFP4lgc9t9er5efS65rdDgc8Pv9fDvlNbGxV2LXGDtnh8MBWZbR398Pi8UCq9Wa8RqhGGKQ7XrEdBLPV0nrNSLDfsVrYZRpIG4nyzLGxsawf/9+Xh6U159tXa79er3etOMgQ37mk+v6/X5/2n6U4xbZsZxOJwwGAzo6OhAOh7MO9xDHGLe1tYmbAIprY3+Zyi2T714Tt1XuN1NZtVqtsFgs6O/vT0sPJXFf4vHE9WI65rt/2O8zpaU/yxhC5RhIljd2ux0mkwnd3d0Z95fvvkIq2FLeA+I+kCHPMm3DiOfv9XoRCATwxBNPZD0OK3eyLM+pzOrJZ3Yc5T2W7X7MRCwDYrqKWL0o1uXsWrTsL9/55arPWJnJV7YWOwogScFUVlbmfUNXcrlckGUZsViMj5UcHx9HR0eH6mY0mUx4+umnEQ6HIUkSBgYGYLVa4fV64fP5cObMmYzjDuvr6xGJRHDs2DF+rMnJSUiSBEmSMDk5iYMHD6pucJPJhF27dqGvr493YX3+85/HwMAAAGBgYEB3V4zdbsf27dvR2dmJlpYWRKNRtLW1pR23u7sbIyMj/BotFgu6urpU+8rF7Xajs7MT8XgcoVAIkiShtrYWPp9Ptd3WrVuzXo/WPBHlu0aHw4GDBw8CADo7OyFJEq5cuQKLxcL3wSrdmpoaeDweSJKEUCgEh8OheigZDAY8/vjjGBoaSrvGTOvOnz+fc78vvvgiIpFI2visxsZGVFRUYGhoiHdjZmO1WtHU1ISWlhZ+/e3t7Rkfppmw7shAIIBkMsnPM9NwD1dqLB4bY9zS0oKbb74ZJpNJtZ3f74fdbud57PF4UFNTkxYUKOW61xiv1wun04lAIAApNb7ZbDajt7cXDocDPT09aGtrQyQSQSQSQUtLS9ZhHZn2VV1dzY+Xab3yWEyu+8ftdvP7QQyGqqurcebMmbR7RElr3uS6r5Aqm06nE8ePH4ckSTwoFYOqhoYGfgyPx4OGhgZdwYbFYsHTTz+d8zgA4HQ6UV9fz9M1kUik1Uu56Mlnkdfr5UOdWH5t374947HFMpCpTGaSqS4PBoN8f+zYrMyxIFJLPZSvPgsGgzh69CiMRmPa+NT6+nokEgkMDg6qli9GCxpA3nL9JrTf8R10bD6Mjs2H4dy4B8aVa/h648o1cG7cw9d3bD6MO9fek3V9+x3fwS3Xb+LrbesfwSO3tuHOtffwbR659Xdv6rdcvwktm76BW67/FNqs30LH5sNos34L5YZ1fBvlb5W/Z8dW7o9tL+6DZLZt2zZEo1Hs3buXP6C7uroQiUTQ1NSkquwHBgZ4hS0+EAYHB5FIJFQBgCvVnc4e/tu2bcP4+LiqQu/q6kIsFkNzczNfhtRYRi2VoFaRSATt7e3w+Xw5K5aBgQHe9e92u3klpjUIKQQ9eaKU7xpZGh84cIA/rNl+GfagVj6Ejhw5kpa3ABAIBLIOkxDX5dtvMBhEOBxOS2uWFseOHePLsgmFQvwBxa4f8zRpQMyjYDCIQ4cOIR6P821Y+VeWqZ6eHvh8PlgsFuzYsUOxR7Vc95rD4UBdXR0CgQDfxufzoa+vD0ajMe1eyoXtKxQKqfZVW1uL1tZW3cfKdf+MjIykXTf7fbEe5Cz4ZOcovri4XC5UV1ejt7eXl1OWZ3V1dRmDq0zyHYcJhUK8PsyVroVms9l4UKbMr0wvu1CMn8xWJnMR63JWppRlhV17dXU1XC5X3voCGuuzU6dOIRqNqupNdvx8Ly2LxYIFkMaVa/B75Z9BX+jb8IztxSvhZ2AquwH33PQFvs2D1f8FseRFeMb28r83L77O19+1zo5Xp47xdefiv8K9lTtUQeim8rtgX78dr4SfwSvhZ2C57jZVEGoquwHNt3cg8MFxeMb2InLpHD5X+SUAQLlhHarW1PD9D777Am4z/R7uXHsPElcv48yFn8Jy3W08WDSuXIO6dZ/D2MXXMJ28wI9B0rG3/3A4zAMVpB724XA4Y4tiNj6fj7csshuVveWdPn2aH4t167I/1t2rlEwmMTU1pVq2UCYmJmAwGIo2xqiQeaLEHhixWAznz58XV8/KxMSEuIjLtS4b8SUkW1poxR4ehc47dl7T09M5z0tZ/pVOnz6NeDyeFkxotWXLFhiNRoyMjKiWs+vV8lBntmzZApPJlLYvZq7HUt4/x44dUwVRrExOTk6WzIO8vr4eJpOJD19gf06nU9x0Xpw9exaJRKLgZVbE6hMtrYhzkakuZ2WODTFgfx0dHZrHrmqtz4LBIIaGhlT1ZrYyvVgtWACZuHoZQ5HvInH1MgBgOnkBkUvnsM6ofqArAzTRyIf/F+9//Db/73BsFKayG7B61XV8WXzmIv73+N9hOnkBVz65hPjMR6gQjvHDyX/mgemFRARmw1oYV67BdPIChiK/ezv99eX3cSExxX/Pjs1aPW9ecwtMZWsxHh/jv1lOpqamYDQasXHjRnGVLrMJAJQtDNkeDqwLRPwTu6JKxdTUFJLJpLh4QcwmT0T5gh5GOT6pu7s7rWt2tnLtV3wJYS2nxWqd0kt8MGp1/vx5xGIxcfGcBYNBTE9Pi4vzyvSQz0frsZT3Dwtaqqur4XA40NjYCLPZrGu8djHE43HeJar8y9Y6V0jzVTYyaW1txUDqSx3hDOMvRQ5hvKHVahU30Uw5DEH5J3a/56ovoLE+O336tOrFtL6+HuPj4wXt4VpICxZAItXFrOwe3lR+l2r9D97rQ+TSOXxV+mbGLm6xC/yL1X+s+j0AxGc+wpVPLgGpoHXg7HMIfvADvj5x9YqqtTD4wQ8wcPY5Htg+cmsb3//X7vgbVK65jW87nbyAsYuvQTLXAgBqTJsRufSuKqhdTthb1bZt28RVumj5LIRI2cKQ7eEw32/WhcbOV+8Ddj7MJk/0YmOPxDFvyq7Z2dC63xMnTqCiogKPPfYYmpqa0l5A9Cjm51z0mK/zsmmc/S+aTQu71mOJ9w97GWhubsa2bdsQi8Vw6tQp1W8WWiFewGeLlY1i1Tfu1KeSMo2ZVvJ6veju7laNyw6FQuJmmuUrc1rrCy18qTH6dXV1kGUZNTU1S6b1EQsZQN659h7UrrsXg+++wLuI357+hbgZfvBeHzxje/HSW08DqW5tpLqXt97SgtELr/Lf/3Dyn4Vfz41t/SOwXHcbXgk/w89h6vI51Tbj8TFUrLbgptVVqLquBj+7MKRav5z09PRgfHwcVqs1bcA2w5aLLT4Maz2MRqO6KndlC8POnTtVDwd2LNb6sFiwbsizZ8/y7qX5DOQKnScMazHKl/4s8Pd4PAVtFda6X9Y1ev/992d8AdGDfc6FPSympqZgNptRVVUlbqoLayUS80g0MjKScZxtvm7jfMQWFYZNOArr6PLP150+12Mp7x8oynddXZ1qfHSpYHkiXm+xsLLBehsKVWbzYV29mYJnVvewiUBzza98ZQ4a6gut9RnD7sWHHnpI85jqxWLBAsgKowWJq5d569+da+9Ja4FUSly9jFjyIv/vcsM6GFeuQTTx20Gr5YZ1sK/frvjF3K0zWlQtmPfc9AVVCyRS3djRKxFsu/VxXPnk8rJtfWTYQGKn06n6NIIr9ekCp9PJx72wFp/Dhw/zh2FXVxcsFsusKnd2o1oslrSHy4kTJ2A0GlWzrr1ZPt+SCesO27BhAxwOB55//nlxkzlTzkJksxTZYGsWODQ0NPCuHjbLVoltV15eDpvNhpdeeiljoJHtegqdJwxL/3379sGWmozR29ubNgbVaDTyFmxHaqaj2HU0G1r2yx5kJpNJ9QLCurJyjddSjudSzpJmD4uJiQk+K5RtI8ty2jkox+25XC7s379ftZ6do3KGfqZ9sZc5p9PJy7fL5YLD4UAk9WWC2WAtKna7nV+vw+FAW1ubamYpe8iyAOT5559Pe9iyfSnTjnVVehVfWMh3LCbX/cOwcphpfGghZLuvtGB5Jl7vaJbPlM2V8kU/U9nQUma15LOItfApZz03NTXlfEFVTiLyp/6xitlQljlx1rXykzv56gut9RkU+XrjjTemPZcWuwULIF//8P8iPvMR756uW/c5/PxCgK8XZ1h3bD4Ms2EtfjT5P4FU4DZ64VV8sfqP0bH5MP74U/tw5sKrSF5NKI4yNz+d+h5MZTfga3f8DTo2H8Y6oyVjK2k4Nop1xvUIx0bFVctOMDWDjX1qgY0hUf7ThuytrqenB263G2azGf39/QinZsIqZxDqwW7UeDye9nBhx0Lqn1MMh8P8PLV0hygr9+7ubtx///15K0q93nzzTR6s2FOfDWFpFUzNtE0kEnyQ/dTUFP9sCKMMMPr7+/HAAw9knHGb7XoKnScMm03KzkuWZfT19anSvqenB8PDw7zcHDx4EAcOHNCUP7no2S9roVAGyywoyNXtFQgEUFlZqSrrypnsbFYwO4e2tjY8++yzqlmbUAzFcDqd6OjowMMPP5wWOGjd19atW3lXHDsvludzeYiJ49dY9yKbhc+wh2x3dzceffTRjLN7W1tbeesS29eZM2dw8uRJvl7LsZDn/mFYK7MYWBZKtvtKK5Zn4vW+/PLL4qZzdu7cOTQ1Nc25zGrJZ9HRo0f5JLX+/n4AUB2bCSq+6MDq7ZGRkbR6Tw9Wpth19ff3w2w247nnngM01hda6jOlkZGRjM+lxW7Fpk2brokL58t11/1ucstScufae2Bfv51P1snk0qXftmISIpJlmX+XbC5BGpk7r9eLuro61ec52HKkHj6ktOi5f2RZ5q1FPUtkIoNerEVtcnJS1/dsyezYbDYcPnwY09PTSy69F6wFcqlgXeeBD45nDR4JIaWPjbcSW6dkWYYkSXjxxRdV25PFZ6nNgiWlL9ukzqWAAshZYjPAvyp9E2MXX1N9n5IQsvjs3r0bFRUVaRNM3G73nLt9ycKTZRlWqzUtfwmZLzabLW1S51JCXdhFQl3YhBBCCFkqitoCOTMzIy5aFpbrdRNCCCFkaSp6AHntWtEaPEvCtWvXKIAkhBBCyJJS1ADy2rVruHLlyrIJqGZmZnDlypVlFzQTQgghZGkr6hhIQgghhBCy+BW1BZIQQgghhCx+FEASQgghhBBdKIAkhBBCCCG6UABJCCGEEEJ0oQCSEEIIIYToQgEkWbIcDgdGR0fh9XrFVYQQQgiZAwogCSGEEEKILhRAEkIIIYQQXSiAJIQQQgghulAASQrK5XJhbGwM4XAY4XAYgUAANpsNAGCz2RAIBOD1eiHLMt9mbGwMLpdL3BWgGMcoyzK8Xi//zejoKBwOh2pb8dhtbW2q9VCcQ7Zjy7KMsbEx7N+/n2/HjuX1ejE6Ooo9e/ZgdHRUdX259svOW5ZlxZn87lyUaUQIIYQsBhRAkoKRZRkdHR0YHx+HJEnweDyoqKhAV1eXaju73Y7t27ejs7MTLS0tiEajaGtrSwsIlZxOJyRJQktLCzo7OwEA+/bt44GXy+VCe3s7otEoWlpa0NLSgptvvhkmk4nvw+FwoLe3F2azOeexDQYDHn/8cQwNDUGSJNTW1sLn8wEATCYTdu3ahb6+PkiSBLvdjqqqqpz7ffHFFxGJRFBfX8+PAQCNjY2oqKjA0NAQgsGgah0hhBBSyiiAJAXjdrshSRK2bt0KAOjp6cHw8DCqq6tVAVokEkF7ezt8Ph+CwSCOHj0Ko9GILVu2KPamFgqFYLfbEQwG4fP5cPz4cVRUVKCxsREAsG3bNkSjUezduxfBYBDBYBCHDh1CPB7n+/D5fKitreUBYa5jBwIBuN1u1TLG5/Ohp6dH9d+59hsMBhEOh1FTU6Nq7WTnfOzYMb6MEEIIWQwogCSLnsPhQHV1NaanpwvWkjcxMSEuAgAkk0lMTU2Ji/MaHBxEIpHgrZDsnMPhcMHOmRBCCCkWCiBJQYljAe12u7jJvNEa2CnHUnZ0dMBgMIibzEqu/fp8PkxOTkKSJNhsNt7iOTg4qNgDIYQQsjhQAEkKRpZl9Pf387GAkiQhEAiImy0YNiHHbrdjYGCAj9NMJpPiprpo3e+JEydQUVGBxx57DE1NTZicnORjKwkhhJDFhAJIUjD19fUIhUKqSSfFcP78ecRiMd66lw1r9evs7Mw6vnE2tO731KlTiEajuP/++2E2m3HixAlxE0IIIWRRoACSFJRyoojX6y1KF3YwGMTQ0BAsFguf8e1yuSDLsmoWNlKzqJubm/k27e3tBenC1rJfdp4mkwmxWAynTp1SrSeEEEIWCwogScEcOXIEiUQCHR0dCIfDAACPx4NEIiFuWnButxuBQABWqxXh1Dcgn332WUQiEdU2bDZ3OBzGzp074Xa7VdvMhp79nj59GvF4nD7dQwghZFFbsWnTpmviQkLI/PB6vairq8OBAweK2s1PCCGEFBK1QBJSJDabDZIk4cyZMxQ8EkIIWdQogCSkSHbv3o2KigqMjIyIqwghhJBFhbqwCSGEEEKILtQCSQghhBBCdKEAkhBCCCGE6EIBJCGEEEII0YUCSEIIIYQQogsFkIQQQgghRBcKIAkhhBBCiC4UQBJCCCGEEF0ogCSEEEIIIbpQAEkIIYQQQnShAJIQQgghhOhCASQhhBBCCNGlYP8WdjgcFhcRQgghhJAFIEmSuKigChZAEkIIIYSQ5YG6sAkhhBBCiC4UQBJCCCGEEF0ogCSEEEIIIbpQAEkIIYQQQnShAJIQQgghhOhCASQhhBBCCNGFAkhCCCGEEKILBZCEEEIIIUQXCiAJIYQQQoguRf+XaFasWIGysjKUlZWJqxadmZkZzMzM4Nq1oiYhIUW3mO5bui8JIWT+FbUFcsWKFVi9evWieAhpUVZWhtWrV2PFihXiKkKWjMV239J9SQgh86+oAWRZWdmSq9RZywwhS9VivG/pviSEkPlV9AByKVqq10UIFnH5XqznTQghi0FRA0iytDkcDoyOjsLv94urOFmWEQ6HIcsyAMDlcmFsbIz/93wSj10osixjbGwMLpdLXKWb3+/H6OgoHA4HoEgfr9crbqqZuM/lrJB5RUobq4/mcu8slKVyzxbqfrPZbAgEAgiHwwVJF/FZUIh6djmiAJIU1YYNGwAA9fX14qqC8nq9OQPZUmSz2VBeXg6TyYQtW7aIqzmHw4HXXntNU6WsdZ9kdopRzmRZRiAQgM1mE1eRJWg+79lilNdCs9lsOHz4MMxmMzo7O1FbWwufzyduNieVlZUwGAyQJEnzfbYY07LQKIAkRdXa2gpJkrB161ZxVUFVVlaKi0peMBiE3W6HJElwu93iam7jxo0wGo3i4oy07pPMTjHKGXvpIsvDfN6zxSivhVZVVQWz2YwzZ84UPHBk3G43JEmC3W5HMBgUV2e0GNOy0CiAJEsOe4NfqiorKzUHkGT+FKuc0YOKFEKxymuhsRfmiYkJcdWCWaxpWWgUQJKiEseeZMLGoyjHurDfsb9sXQeyLKO/vx8WiwVWqzXjmJnrr7+ej6fJti+tx1Mym81Z95ttrKfX61WdX66xT2wckNPphMFgQEdHB8LhcN5xO+I+ZVnG6Ogonnjiiaznu9TNNa+0lDMI4/C8Xi8/nnLfyuXK/GTnYbVaYbFY0N/fz8eTZRvfJ445Y/+9f//+tDFkXq8XgUAATzzxBEZHR9OOr9yn8vxylZNc27Ly6/V6VdvlGiPHrlOWZVU6ZUprll5sm7a2NtV6CGPpMh2b5fGePXt4mgQCATz55JMIBALw+/2qc2dplW2/bHmu8xXTGxnu2bnmVb7ymu38lcT0zTSsQplHrOzmI5Z/ZZnxer3o6OiAwWCA0+nMelzkuHYtMuVFtuvNl5bLCQWQpKQ4HA60tbVhfHycj3Xxer1wOp0YGBiAJEno7OxEdXV1xgrC7Xajs7MT8XgcoVAIkiSljZl59NFHEQ6HIUkSBgYGYLVaVRWHnuMxBoMBjz/+OIaGhlT7zfUbvVjXViAQQDKZhMfjgSRJaG1tFTfNy2Qy4emnn86ZDktVIfJKSzlTstvtqKyshCRJqq5Jv9+PhoYGnpcejwcNDQ3wer3o6elBW1sbIpEIIpEIWlpasHnzZvT09Ii7z0m8XuV5WiwWPP300zh+/DgkSUIgEIDdbucBLgtW2TWye0EMrqG4bwKBQM4yZbfbsX37dnR2dqKlpQXRaBRtbW05H8BOpxOSJKGlpQWdnZ0AgH379vFAwuVyob29HdFoFC0tLWhpacHNN98Mk8nE9+FwONDb28vH0mU7tslkwq5du9DX1wcp1a35xhtvAACsViuamprQ0tLC771c+62qqsLRo0dhNBrTxjPW19cjkUhgcHBQtTybueRVrvLKzh8Av67h4WG0t7erXkQ6OjowPj7Oy2lFRQW6urr4+Xm9Xl4/SZKE3t5e3H333Xx9Jn6/H3a7nde1Ho8HNTU1PFhrbW2Fx+NBMpnk+83Uzay17GnFnkPK8gQAu3fvzpmWy82CBpC3XL8J7Xd8Bx2bD6Nj82E4N+6BceUavv6RW9tgW/8IbOsf4dvY1j/C1xtXroFz4x6+rv2O7+CW6zep1t11o121zZ1r7+G/B6DaN/trs34L5YZ1AIA7196jWif+nhSOzWbDvn37EIvFeMXkcDhQV1eHgYEB/tD1+Xzo6+tDdXV12luyFgMDAzzocrvdvBKw2WyzPh4L6Nhv2H6rq6tzPhgXUq50yMW2/hE8cmub6t545FZ1a4943yjX37n2Hn5vsvXivV9uWIc267fS7k12/4v3vvj7XBYiryKRiOphi9QDv7q6Gr29vTwo7Onpgc/nQ11dXUHPJRAIZBxPJ6bFiy++iEgkwie5sSDnyJEjQOpeqK2tzbgvNr45X5mKRCJob2+Hz+dDMBjMGmAphUIhHjj4fD4cP34cFRUVaGxsBABs27YN0WgUe/fuRTAYRDAYxKFDhxCPx/k+2Lmzh32uY/t8voyBejwex6FDh1QBTL79njp1CtFoFE1NTTwdWD2jZ1xfIfNKqbm5GbFYjKcdUnk5Pj6Obdu2AYoxgmzsek9PD4aHh/k9w64nEAjw/GdlORuXy4WamhpVXct+Y7FYsGPHDvEnWWkte1pt2bIFRqMRR48e5eXJbrfP6mV9KVuwANK4cg1+r/wz6At9G56xvXgl/AxMZTfgnpu+oNrunpsewG2mO/DSW09j8N0XsHltAw8S71pnx6tTx+AZ2wvP2F6ci/8K91buUD1I7qv6Ms5c+Ck8Y3vx+oc/hn39dlVwWLvuXgy++wI8Y3vxw8l/RnzmIv73+N9hOnkBd669B/dZvszXD777Au6zfJmCyHnS1dUFs9msqqC3bNkCk8nEuy/YX0dHx7yMAyzk8UZGRmA0GrFx40ZxVcGJXVDhPMME5mpT+V2wr9+OV8LP4JXwM7Bcdxu/L8oN61C1pobfl4PvvoDbTL+num8q19yG/+/GLXjprafT7n3jyjV4+NavInLpHDxje/HSW09j6vI5vP7hjxH84AcwrlyDL92+C7HkRX6MWPIivnT7Ls1BpGi+82p6ejqt1aS+vh4mk4kPRWB/TqdTtV0hzHb8GEsXZWtfqXE4HKiurs6YxrORTCYxNTUlLgYAxGIxnD9/XlycUzAYxNDQkCrgZQHKyMiIuPmszSavbDYbJEniQySU5VBL9zPD6k095YwFvKdPn1YtP336NOLx+Lx/qSOX06dPI5FIpLVOE7UFCyATVy9jKPJdJK5eBgBMJy8gcukc1hktqu2mLp/D9949gsTVy5hOXgBwjQeAIx/+X7z/8dt823BsFKayG7B61XV82esf/hhvXnwdADAeHwOwgv++wmjBufiv+D7e//htJK8m+HrJXIvRC6+q1p+L/wqSuZbvnxSG0+mE1WrF8ePH095ald21yr/ZdOdpUezjFQJ7Q1aeb76Wh7lQvmhd+eQS4jMfoSJ1704nL2Ao8rtuuV9ffh8XElN8Pfv9v773Cr+vlff+6lXXwbhyDX52YQhI1RXn4m/x9TevuQXGlWvw06nv8f397MIQTGVrcfOaW/iyxSAej6OzszOtrJVKl1hPTw/cbjfMZjMPMHJ1CzpSYxZnE4TMVbagT6Qcc8fG1xVCrv2ygETZWjg+Pl7Q+kRvXimx1jrxT/m1DPEl1W63q/aRK/DW4/z584jFYuLivApZ9nw+H9rb2xGLxdDd3Y2wzjGVy8WCBZDI0H28qfwucRPEkhdVQWZf6Ns8IBS7wL9Y/cfCr3OLJiK4zfR7v2vRvNEGw0ojppMXYFy5BmbDWtxz0wN5z5HM3cDAAEKhEBwOR1o3scFgKOpM1EIdbyl/fiU+8xGufHIJSAV4A2efQ/CDH/D1j9zaxu+Zr93xN6hcc5vi17ld+eQSElcv4z+vawJSLZqb134WFxIR/t83Gtfjq9I3+TGab/86jCtXC3vSbqHyaj5bPQuFdYVKGcbdKXm9XnR3dyMWi/GxdKFQSNxswbAAQxxzl0wmxU110bJfn8+HM2fOoK6uDrIso6ampqCtj4zWvBKVl5fnbLVkE0fYOE+2//nAPtujx3yUPeVL+VzHVC5VCxZAit3HnrG9eHv6F+JmWZUb1mHrLS0YvfAq//0PJ/9Z3Cwvw8rVaL796+jYfBi16+6F//1+TCcvIHH1MmLJi3j9wx/z/bO/H7zXJ+6GFMDWrVsxPj6u6jYodndGIY9XWVmJaDSKU6dO4ezZs0gkEgsWqBSTbf0jsFx3G14JP6PqgtZrU/ld6Nh8GF+VvonIpXM8QJ1OXsBvEh/w/bO/3rf+WtUjocdC5BULIGZT1lgrTSFedPQYHBxEPB5PSxvWFcqClkJ0JWvF0kLKM96NjXPs7OwsaOu81v2yLuaHHnoI0WgUx44dEzcpqGx5pRQMBhEOh1Xd65nU19cjFAplbRlnLY96yjJLD3H8KesO1xpgF6PsHTt2DJFIpOj3W6lbsACywmhRdEv/NqDU07pXblgH48o1iCpaJezrt4ub5SSZa1UBovgACsdGUbvuXt5CSeZfV1cXYrEYH8fD3tyVs2RZV0q2TyewBwp7q37ppZdyPliUZnM8pFotlYGv3++H1WrF0NAQgsEgP6eGhgbewspmIOo1MTHBW0ldLhf2798vbrKg1hktqhbKe276gq4WSNZFrQwQlS9tv778PhJXL+NzlV9S/U6rQuXVXMoZUl2O4+PjsNvtvGWDtWaxWajBYBDT09Mwm82oqqrC888/D4fDwZdbrVbewsRmohaSV/jMVHNzc86xe8rJPyxd5xsbY2ixWPhEJZfLBVmWVbOwkZph3dzczLdpb28vSBe2lv2y/L7xxhsRDocLHujky6ts5XVwcBCJRCJt1rXYBV5TU8PXsxnXjLIsay2P7DdOpzNtJnkkEtEdYBey7MnC57B27NgBi8WSNy2XmwULIF//8P8iPvMR74aqW/c5/PyC9ibx9z9+G6MXXsUXq/8YHZsP448/tQ9nLryK5NWEuGlWP7swhNp196q6qDsUM63fvPg6Tka+y1soxfUkM2vq21jKP/ZAzCeYmj1pNpvR19cHl8uF1tZW3oUQDod5V8pzzz0n/hwQHij9/f144IEHdM/o03M8pMayHT9+nFe8VqtVNbuQXVcikeCTJqampjAwMCDuKi/2Nux0OtHR0YGHH35YU9oWy0+nvgdT2Q342h1/g47Nh7HOaNHVu/D+x28jeiWi6qLuUMy0Tly9jO+9ewRmw9qM6/MpVF7NtZwh1erOWk7C4TDvhnv55Zf5NidOnIDRaER3dzceffRRHqh0dXXxchAOh1FZWQmPx4NEQnsdmM/JkycxOTnJx4E1NDSoZo0zQcXMY7btyMhIWprNF7fbjUAgwO/ZtrY2PPvss4hEftvAwLZhs7nD4TB27twJt9ut2mY29Ox3ZGQE8Xhc86d79MiXV9nKKxvvF41GeXlnn8Q5efIkAODIkSOq+wFAWlmbTXlk5Z/9hn0qSE9L4nyUvVAohOHhYVV6iHVEprRcblZs2rTpmrhwvlx33e8mtyw0NpPzXPwt1dgt2/pHsHntZ/kEAa0uXfptawshS02x79s7194D+/rtqnuw3LAOX6l5CmMXX1Pdr/nQfUlKhS31bzpPT0/P+z/lSkgxLFgL5EJbveo6mMpuEBendb8RQopLOVubEYesELLYNDY2wmw248SJE+IqQhalZdsCidQs7j/c8CQMitmbys8G6UEtHWSpWoj79pFb29LGRP9w8p/5Fxi0ovuSlALW+ghA9cFuQhazZR1AFhI9qMhStZjvW7ovCSFkfhS1C3tmZkZctCQs1esiBIu4fC/W8yaEkMWg6AHktWtFa/AsimvXrtGDiixpi/G+pfuSEELmV1EDyGvXruHKlStLpmKfmZnBlStXFt3DlRA9Ftt9S/clIYTMv6KOgSSEEEIIIYtfUVsgCSGEEELI4kcBJCGEEEII0YUCSEIIIYQQogsFkIQQQgghRBcKIAkhhBBCiC4UQBJCCCGEEF0ogCSEEEIIIboU7DuQ4XBYXEQIIYQQQhaAJEniooIqWABJCCGEEEKWB+rCJoQQQgghulAASQghhBBCdKEAkhBCCCGE6EIBJCGEEEII0YUCSEIIIYQQogsFkIQQQgghRBcKIAkhhBBCiC4UQBJCCCGEEF0ogCSEEEIIIbpQAEkIIYQQQnQp+j9luHLlSqxatQqrVq3CihUrxNWLyqVLl8RFhBBCCCFLXlFbIFeuXImysjKUlZUt+uCREEIIIWS5KmoAyVoeCSGEEELI4lX0AJIQQgghhCxuRQ0gqdt6abPZbAgEAgiHw2l/siyLmxecw+HA6OgovF6vuIqUKL/fj3A4jLGxMbhcLnF1Xn6/H6Ojo3A4HAAAWZY1lzeXy4WxsbGilxc9x/V6vbNOG1Eh96UHqxcCgQBsNpu4umToKTtLzWzqTlmWF6Q8kdJR1ACSLA+RSAQtLS2QJAmSJCEUCsHpdOqqnMjS5/f7UVNTA4/Hg82bN6Onp0fcZN7IsoyOjg4YDAZx1byrrKyEwWCAJEk8oGJBViGCl0LuqxCqqqpgNptRUVGBxsZGcTVZRgpZNr1eL/x+v7iYFBEFkGTebd26FaFQCHV1dbyliCxvNpsN5eXlGB8fL2rgiFTw6HQ6EYlEEI/HxdXzzu12Q5Ik2O12BINBQBFkFUIh91UIPp8PtbW1RX9JIKWnkGWzsrJSXESKjAJIUhQjIyMwmUzYsmWLuIosQ+xBMjU1Ja6aVyx4DIVCOHTokLh6wWzcuBFGo1FcPCuF3BchhVSossleQMnCogCSFJ1yvI3X6804TlK5PBwOZ+yqYGPJ2DZtbW0Z14vdJV6vVzVuDopzYvsS17PxUbnORynX9qwbx+v1qrbLN55IvF5xTBm7rj179vBrCQQCePLJJxEIBOD3+1XHY0MKsu2XnaeYFsrfZBuWIF6/8lxlWUZ3dzdMJhPsdjvCGdKbyXZus8Va/7Zu3SquUhHPP1N+s23E8uX3+9POU1kWxbTz+/28O93pdGY8XmVlpap8Zkv3Qu1LvP8ybcOI9474O+UYSFYWM+W3mC7sd2xf4v0hyzJGR0fxxBNPqLYTr1dJS3m6/vrr8+6Pjd1lf8oywM7L4XCotst0LC3lTCnX9iwfZFlW5V+utGbbiHVnJsp9jo2NwWq1ipuk7Vd5zfnKZq7fKsmyjP7+flgsFlitVn6NzzzzDEZHRzP+Tnmv6smfXPeBslyLv1suKIAkRVFfX494PI7Tp0/zZXa7HZWVlXyspNvtBlIVjd1ux8DAACRJgsfjQU1NjepGdblcaG9vRzQaRUtLC1paWnDzzTfDZDLx/WvlcrkgyzJisRgfuzk5OYl9+/bBZrPB6/XC6XTy8+ns7ER1dXXWyp5tHwgEIEkSBgYGYLVa0x7Cdrsd27dvR2dnJ1paWhCNRtHW1pZW2UMxZm98fJynSUVFBbq6ulTbmUwm7Nq1C319fbyb9I033gAAWK1WNDU18WtsbW3Nud9gMIijR4/CaDSmtRzX19cjkUhgcHBQtRwZrr+zsxNmsxm9vb1wOBxwu93o7OxEPB5HKBSCJEmora2Fz+dT7SfXuc0nl8sFh8PBz43ltxgoHjt2DJFIBPX19XyZw+FAdXV12ng/ll7K8s9s3boVAwMDAMDLmDLAZQ/c48ePQ5IkBAIB2O32tPNBgfbl9/vR0NAAj8fD072hoSGt/CL1EN23b5/q3gmFQgCAUCiE1tZW1fZvvPEGhoaGMvZGKMuUw+FAb28vAPD9Dg8Po729XRVEmkwmPP300wiHwznvNaTypq2tTVVnAMDu3btV2z366KNZ98eCBjZ2l12vw+FIO6/u7m6MjIzw/VgsFlXZna96xel0QpIktLS0oLOzEwB4XYZZ1p1erxd2u50fu7e3F3fffbdqm3z3a66yme+3Stnqj29+85s4fvx42r2HVNmKRCI4duwYoDF/8t0HrBfFbDajqqqK/245WdAA8s6196Bj82H+98itv3sLKjesQ8umb+DOtfegzfotdGw+jPY7voNbrt/EtzGuXAPnxj38986Ne2BcuYavB4BHbm1THcO2/hHVejL/vF4vrFYrzpw5owoSIpFIWgXhcrlQU1ODgYEBHlD29PTA5/PBYrFgx44dAIBt27YhGo1i7969CAaDCAaDOHTo0KzGtG3btg2JRAKHDh3iY9K2bt0Ku92Oqqoq1NXVqc7H5/Ohr68P1dXVqocG09raCikVoCFV4bGKTvmmGolE0N7eDp/PlzNYQ4aWs56eHgwPD6O6ujot4PT5fBnHmsXjcdU1QsN+T506hWg0iqamJn7uDocDdXV1afmpXBcIBPj1s/QyGo1obm5WbZ9LvnObLyyQOXLkCKAYw8fynwkGg5ienkZ5eTlPmy1btiCRSCAWi/HA0mazQUq9lIjppUUymYTH4+HHf/HFF9MCV63y7cvlcqG6uhq9vb28DLH7L9MY5sbGRlRUVGBoaIiXqyNHjiAej2NkZES1LZMt8FaWqebmZsRiMX5/I3VfjY+PY9u2bYq9/TYYyXevIZU3RqMRR48e5XWG3W5PC3Jz7Y/9Rjme88iRI0gkEmn5oawz3G43DzzZC8p81SuhUIiPr/X5fGlBld66M9M9zcqE0lzu17n8Vun06dNIJBKqMsKeKcoyijz5o+U+YPVCppff5WLBAsg7196D+yxfxuC7L8AzthcvvfU0zIa1qiDSsNKI+yxfhv/9fnjG9uJc/Fe4t3IHjCvXwLhyDb50+y7EkhfhGdsLz9hexJIX8aXbd/Eg0rb+EZgNa/HSW0/zbYIf/EBxFmQ+WCwW9Pf382Z/9uYqVtTT09OqGxo5WmpOnz6NeDyO+vp63sqT6fd6sX1le7hv2bIFJpOJd7mwv46OjoKM5Sm0ZDKZdVxhLBbD+fPnxcU5BYNBDA0NqR5A7EGcKUDIto4FouLDrhSNjIzAaDSqWm2yGRkZUaVNfX09fvnLX+KXv/wlv1YWZIlpUorq6+thMpnQ0dGhKu9Op1PcFABw9uzZtOCJlYFs5TAYDCIcDquCA2W5YQG3WI+Ew+GM3aZaseAiWyv/fJuYmIDBYEBlZeWC1SuzqTvZuU5MTIirSo7P58OZM2dUZSvbM0WkzB+998FytWABpGSuxbn4r/D+x28DABJXL+PMhZ/Cct1tKDes49udjHyXbxOOjcJUdgNWr7oON6+5BcaVa/DTqe/xbX92YQimsrW4ec0tfNk6Y6Xqv8n8Ez/jo3xrnq3z588jFouplmV7QM1Grn2xVhvl9UiSlHNWqUMYFzaXBx/Dus/YPu12u7jJrOTbL3vwsiChvr5e9+xp1lqnV75zmw89PT1wu90wm808gBG7CRll2jgcDtx0000YGRnByMgIzGYzGhsbUVlZqekBViri8Tg6OzvTynumlhafz4cDBw6gurpa9ZAdHh7OWT5YkM5apOvr6xGNRnHq1Cm+DWtdE//yjV/Nxufzob29HbFYDN3d3QhrGHOYjXIsIhvPm8/U1BSSyST/74WsV3LVd5nkejFVmsv9OpffKrGytWXLFv4ykqm3RCTmj577YLlakADSuHINzIa1uJCIqJZPJy8AWKEKILMpN6zDjcb1+Kr0Td493Xz712FcuZpvE/zgBxi98Cqab/86OjYfRpv1W5r2TUpPIT//kEmuT0Kwt1KtvF4vuru7M44Lmy02cNxsNvNKLRAIiJvppmW/7K2+rq4OsiyjpqZGd2uabRazJrWc23xh3VPsmOI4QeV2k5OTvFUpkUjg1KlTOHXqFGKxGG/NyNbCXYqMRiM2btwoLs5q165dmJycVD1k870w9vT08PFuTzzxBKqrq9O6GJVDAwqFdUFLOcYQ5sKCHHGMb7buXyVWh7BArBTqlUKay/06l9+KWNlqamrCY489prn1X8wfvffBcrQgAWTi6mXEkhexzmhRLf9tcHctFUjmNp28gN8kPsAr4Wd497RnbC963/pr3mKJVBDJ1kUuncPDt341bZwkKR3Kt0cl1o0yMjLCWyOlPN2hrHttw4YN4iqOBQDZxtoou861YG+8LOjQ2k2UT319PUKhUMHffrXul+XLQw89hGg0ygeji8TWSoZ144bDYc1povXc5tvg4CDi8XjWcjQyMoLq6mo0NTXxrkHWTdvU1ITq6mpND7BSwM5TzL9sZvNiwLDu/z/90z8FUmUHii7uTJMhComNxdQTxDU2NsJsNsPj8eQNkkWsK/Xs2bMLVq9orTuVWECV71zncr/O5beZsLJ1//33a+4tUeaP3vtguVqQABKp7ujbTL/HJ8WUG9bBvn47xi6+pimA/PXl95G4ehmfq/ySuCorscWTYRNt7lx7j7iKFBl7e3Q6nbzFhw06Z7Po2Lg85aw5NpNa2ZXEKsuGhgY+KJ3N8FY6ceJE2pg3f+pTLOfPn8eZM2dgtVp5dxdrhcj0eQxGOeHA7/fPuqtJiQ3whmJWZCFo2S/LlxtvvDFnEMhaK+12O2/ZcaRmvyayzNrORcu5FZpX+MxTc3NzxnGdDAt8LBaLapuJiQlYLJac4wEZ1n22YcMGOBwOPP/88+Imms1lXyyfxfzL9nkUFuyxz6ko//K17LGXjdtuuy2thXZwcBCJREI165p1G+fbbzay8E/v7dixIy3PtDAajXyShsPhwMGDBzN2YW/fvp2XIXEiIbtPil2vaK07lZRlgtXJ3tSMcFG++zVX2cz3WyVWt7NW6pdeeklVNo8dO4ZoNMobHTLJlT9a7gPxv5ejBQsg37z4uqp7+avSNzF28TXNk1wSVy/je+8egdmwVjXLWjkTW5yBvXntZ/Gv772CxNXLqn2FY6MAgLp1n6PWyRKwdetW3k0UTg0sZzczC1zYrDn24Gpra8Ozzz6LSOR3LwnB1OzCRCLBB0NPTU3xT0kwPT096O3tRUVFBR/zVl5ejpdffhlIzX5k3V3hcJh3tTz33HOq/SB1TDabmo2zGhkZSTumXmymJ7sOAPB4PEgkEuKmuujZ78jICOLxeN4gkKWXPfWNR9btxmaca6Xn3PTwpr7tlu1blCdPnsTk5CTPv4aGBtVsTBFrxRY/U8VamcSxfZkoH1jd3d24//77swYR+cx1X+z+E/OP3Q9KLpcLdXV1aWP5QqGQ6sUtExZEJZNJnDhxIm0d+9QMy3/WbXzy5EnVtlqFQiEMDw+r9qeciatFT2p2MKsLDh48iAMHDmTsSn7zzTd50GvPMJFwoeoVLXWnqKurC5FIhNfJlZWVafeilvs1W9nU8lslZSDc39+PBx54gH+hg60Ph8OqT/eI8uVPvvuABbHL+TM+KzZt2nRNXDhfrrvuOnFRSSg3rMNXap5C5NI5/OC9PnF1VpcuXRIXEbIk2Ww2HD58GNPT07OexECWHq/XC0mSVJ/bQSqwbGtrQ19fX9bAe6mSU//akd7glBQOaxk+c+ZM2lCDQuaPw+HAf/kv/yVja+xysGAtkKXkrhttMJWt5S2RhBA1NvZLbCkiyxvrpld+jNuV+lD15OTksgseSWlgY+jz9ZbMhcPhwNNPP511OM9ysKwDyHLDOrRZv4Xadfdi8N0X8ObF18VNCFn2bDYbdu7ciVgslrcrliwvbrdbNVwhnBpyMjw8TC3VZEE4HA5s3749bVxtofl8Pnz2s59d1i9JRe3CXrNmDVasWCEuXrSoC5sQQgghy1FRWyA/+eQTcREhhBBCCFlkih5AUhBJCCGEELK4FTWAvHr1KmZmZjAzM4Nr14rWc04IIYQQQgqoqGMgCSGEEELI4lfUALJUvwNZKq5evYqrV6/ik08+wdWrV8XVJW/FihUoKytDWVmZuIpkQK3xhBC9SqWepfqLFLULm+S2cuVKlJWVwWAwYOXKxZU1K1aswOrVqxe8UltMysrKsHr16iX1ZQJCyPwppXqW6i+yuKKUZWLlypVYtWqVuLiklZWVUUUyC6w1gRBC8im1epbqr+WNAsgStdhuysV2vqWE0o4QokUp1hWleE6kOCiAJGSJkWUZY2NjcLlc4qoly2azIRAIIBAIwGaziavJPCrV8sbKhN/vF1cRMit+vx/hcFhXeXc4HBgdHV2S5ZACSEJKlNfrXZKVzlw5HA689tprmitwQgiZK7/fj5qaGng8HmzevDnjP2Eoy/KyeomlAJKQElVZWSkuIgA2btwIo9EoLiaEkHlhs9lQXl6O8fHxjIEjs2HDBnHRkkYBpKDcsA5t1m+hY/NhdGw+DNv6R8RNAAC3XL8J7Xd8J229ceUaODfuSVtOSg/LQ5bXd669R9wEWKC8ZhUWSVdZWUkBJCGkaKqqqmA2mzE1NSWuUlluL/0UQAqmkxfQF/o2XnrraUxdPieuJkvI+x+/jd63/hqvhJ9BfOaiuHrByLKM/v5+WCwWWK1WhMNhjI6OwuFwAIqxXeFwWPN4HFmWEQ6HVd0rXq+X7yMcDsPr9ap+w8b7sD9ZllXrldj+2Z+y652NAZJlWXVM5TWJ22a6NnbdTqcTBoMBHR0dGc/7sccey/h7Jl/6sTF9+/fv59tlOlcAcLlcGBsb4/sSu6+8Xi9GR0exZ88efl2BQABPPvkkH5+nTDt2Ldn2y8490/mw34jpweTKT1mWMTo6iieeeEKVNpmGUCjzcGxsDFarVdyEU+a98jrFNM+WTiwtxfIlpjMylB2xvLL1YvpkGsOZr4yIxxLzI9/vRbnyZrHKlwa58jzXumz7ncu9kat8ybKM7u5umEwm2O32jPnN9m+1WmGxWNDf3592vRDuHXEf0FCuSg0FkLPEgo/gBz8QV5Elpth57Xa70dnZiXg8jlAoBEmSUFtbC5/PB4fDgd7eXpjNZnR2dqKlpQXRaBRtbW1ZKxqXywWHw4FAIAC73Y5gMAi/34+GhgZ4PB5IkgSPx4OGhgZewXq9XlitVgwMDECSJAwMDGD79u0Zj+H1euF0OhEIBPi2Vqs1rbJ2Op2QJAktLS3o7OwEAOzbt49X1C6XC7IsIxaLoaWlBZIkYXx8HB0dHZBlGcFgEHa7HYFAAMlkkp97a2srP4bFYsH999+fNW1Y+gHgxxgeHkZ7e7uqsjcYDHj88ccxNDSkSn8lWZbR0dGB8fFxnoYVFRXo6upSbWcymbBr1y709fVBkiTY7Xa88cYbAACr1YqmpiZ+Lq2trTn3GwwGcfToURiNRmzZskV1nPr6eiQSCQwODqqWswcrG78lSRJCoRAcDofqmk0mE55++mmEw+Gs+ej1enkeSJKE3t5e3H333Xx9Nk6nE/X19ZAkCZ2dnUgkEmllNlM6BYPBtPLV2dkJs9mM3t5eVb4ePHgQANDZ2QlJknDlyhVYLBa+f63Ee4yVEXa+rJxOTk5CkiRIkoTJyUkcPHiQn09XVxcqKip4eg8PD2Pnzp1pQa/WvFlsxDTMdC8iR55nW1dVVZV1v1VVVbrvDWSov8Tylas+Znp6etDW1oZIJIJIJIKWlpa0cZJWqxWShvovV7kqNUUPIO9cew/vMuzYfBiP3NrG15Ub1qFl0zdw59p7eDdy+x3fwS3Xb+LbsG5D9nvnxj0wrlzD1wPAI7e2qY5RyC5GrV3cDDtf8TqU59hm/RbKDetUv1sKKK+1XYMePp8PtbW1vALLFVAgVZG3tbVhfHycB1oulwvV1dXo7e3lFVxPTw98Ph/q6uqwb98+/iBzu91AKqgVK02mtbUVkiKQc7vdvKJVPjBDoRB/QPh8Phw/fhwVFRVobGwEAGzbtg3RaBR79+7lD5Guri5EIhE0NTWlPXwziUQiaG9vz5o2zc3NiMViqmO0trZifHwc27ZtU+0rEAjw68/E7XZDkiRs3boVSKXh8PAwqqur0yp8n8+XcexUPB7HoUOH+LlAw35PnTqFaDSqShOHw4G6ujqcOXMmLY9Y4K18oB05cgSJRAL19fWqbQcGBrLmIztGIBDg27Byk08oFOLX4/P50NfXB6PRiObmZtV2YjplOmam37P/PXDgAD8fVnb0am5uhtFoRF9fH99Xa2srL//btm3D+Pg4vx6kjhWLxdDc3AyHw4Hq6moMDw/za2ltbVUFR4yevMlErKOUzxJW99x1o11VB4lDdcR6Ot96LXWYnnpKzHMlcV2+/eq9N7SWr0LQUv/lKlelqKgB5J1r78F9li9j8N0X4Bnbi5feehpmw1pVYGFYacR9li/D/34/PGN7cS7+K9xbuQPGlWtgXLkGX7p9F2LJi/CM7YVnbC9iyYv40u27eIG2rX8EZsNavPTW03ybQrYc6eniVp5v71t/jfc/fhtIBT3Kcxy7+Bq+UvPUkgoiKa/f1nQN88lsNmPfvn2IxWKqVrH6+nqYTCbeBcz+nE4nkKrowuFwWuvTfGIP3XA4rHrIBoNBhMNhVUU7WzabDZIk8S4m5bVn6oadmJgQF81KMpnMOnYqFovh/Pnz4uKcgsEghoaGVGmyZcsWGI1GjIyMiJsXzJYtW2AymQqSLmfPnkUikVCNGcuUTtmuiwUKkiThySefhCRJs0pLESsj0WgUp06dElfzcsqGlrA/NuQEqQBkcnISdrt9Xruiyw3r8JWapzB28TVev2R6ltxX9WWcufBTeMb24vUPfwz7+u18vVhPD777Au6zfJkHkbdcvwn29Y/y9Z6xvRg4+xwSVy/z/c9Fpjxncq3LRu+9kW2dsnxpeXGdKy3lqhQVNYCUzLU4F/8VD6QSVy/jzIWfwnLdbaoCfzLyXb5NODYKU9kNWL3qOty85hYYV67BT6e+x7f92YUhmMrW4uY1t/Bl64yVqv9eCOWGdfiTTX+FWPIifvBen2p5xWoLXp06xm/CX/zmtw9MZevbYkd5Dc3XMBvKsTQdHR0wGAyq9awLtqKiAkePHk1r+YjH47x7TvnH3uxbW1sxMDDAx/xkGs+j5BDG7mQKyGarEAGLEmtVE/+Ub/5aieOx7Ha7uMms5Nvv6dOnVa1U9fX1eWeIKsd5sTFdes3moZ7J+fPnEYvFxMWaBYNBTE9Pq5ZNT0+nlfPZyrcv1t0p/rFWrK1btyKQGq8b1jCWbTZ5w54X7Pmh/P/KZ8nrH/4Yb158HQAwHh8DsILXwZK5FqMXXuV18Psfv41z8V9BMtfy3xtXrkaNaTP/bz3y1VOzlWu/s7k3RJnKVzHkK1elpmgB5OpV18FsWIsLCXWXwnTygqpA51JuWIcbjevxVembvDm9+favw7hyNd8m+MEPMHrhVTTf/vW0Jv1iuuOGehhXrsHPLgyplpcb1sFUdgM/v47Nh/FV6Zswla1VbbeYGVeuobzWeA16sUDNbrfz8YkejwfJZFK1XTKZxD/+4z9mHHcEAEajERs3blQtE7Gu1Gzjlxiv14vu7m7V2MVQKCRuNmuF/jRGeXl5QVoV5NRkJ+VYuUAgIG6mm5b9+nw+nDlzBnV1dZBlGTU1NWmtKAwLRsVxXvF4XNy0aLTOas3GNs9fKchXRrTMtmVDOzKNd2PmkjcVRgviMx/hyieX+LIrn1xCfOYjVBjzt1qxevqemx5QdVFvKr+Lb/P+x2/jXyb+AbXr7uXrxS7uTLTWU3pp2a+eeyOb+S5f2WgpV6WkaAHklU8uIZa8iHVCwf7tA/9aKrjIbTp5Ab9JfIBXws/w5nTP2F5V9zBSgQVbF7l0Dg/f+tWidBkqvf7hj3Ey8l384YYnVW+D08kLiM98pOoSYH/sLXGxS1y9THmt4xr0YOOHOjs7c47PQ6p7dO/evYjFYqqHF6tMtYyxgqJbKFPQybr8AooJOrPBuv0kocsoX5eiHoXsDkcq/UKhUNaxobOldb8jIyMwGo146KGHEI1GcezYMXETAEBjYyPMZjM8Hs+cWjJYsKe13OSitTtcbE1iGhsbUVFRgXA4jH/4h3/A9PR0xrGnSqzVM9dDOl8ZYeU037GUWEBjNptRVVWlWjeXvIkmIrzHhlm96jqYym5AVHh5z4TV069/+OO0Z5GyJ4VNIvSM7cUPJ/8Z91m+nLe3TE89pYfW/Wq9N7SUr9nWaXrMplyVgqIFkEh1Ud5m+j1e+MoN62Bfvx1jF1/TFFT8+vL7SFy9jM9VfklclZXYClZMb158HaMXXlUFFtPJC4heifCxfksV5fXsroFhDzvWEvLSSy/xwMpkMvFB1S6XC+3t7Vm7hoLBIA4dOgSz2czHQfb09GB8fBx2u52PcWRv9gHhEzNIBXFNTU05g7i6ujpe8fn9/ll1YZ84cQIVFRU4fPgwv9auri5YLBYMDQ3xinxiYgIGgwGVlZVwuVzYv3+/sKfsBgcHkUgkVLOuWffhbMZ71tTU8P2wGcqFoGW/LB9vvPHGvA86o9HIJwk5UjOWtXSTKinLDRvbx2aw5mO1Wvlv2FcBIpFI1gc7w4Ivsay2tbWpZtWeOHECRqORvyg5UrOAlePHWLek8lwynT8rI8oWd2/qszIOh4MfSzk7lnWpyrLM7yXl+dbV1WFycjLjC8Fs84a9hN514+9euD5X+SXEZz7CO9O/neWfTzg2itp19+YNCJnp5AUkrl4RF2ekp57SQ8t+td4bWsuXFqx8sReF559/XlcwmK9claKiBpDsIcu6HL8qfRNjF1/TPPEhcfUyvvfuEZgNa1VN7spZYeKs3M1rP4t/fe8VzYN+2Yyzr93xN6hccxtv3meTP/KtFwU/+AHOxX+F5tu/zmfx/uC9PsSSF/G1O/6Gn+dCdb/Ol8WQ17b1j/BzM5WtxRer/xgditnWc81rLdeQDWv1YxM+HnjgAezYsYPPjGVjE3fu3Am3251ztimbVVhTU8MfgmyMFtsP64J++eWXAQBHjx7lk1r6+/sBQDVzmQkqZkF2d3cjHA5jZGQEAwMDqu206Onpgdvthtls5pNc2OdNlK0Nx44dQyQSgdPpREdHBx5++GF8+tOfVu0rG5/Ph/b2dkSjUT6JiHUfnjx5Utw8JzZblu0HADweDxKJhLipLnr2OzIygng8nvNBx2ZxswH6Bw8exIEDB2Y1zIDNbGZj+yorK7Oem9K5c+fQ1NSEcGrMmjjbPhdxPC4rq2y2PRSzwdn9Issy+vr60q5Ry/n7fD4cOHAAAHiZrqurw3PPPQcoyqlyPetSZcc7evQoGhoa+PlOTk5mHGM7l7yZTl6A//1+Vfey2bAW33v3iOY68M2Lr+Nk5LuqIVUdim5qcQZ28+1fR+CD7+ftQZlNPaWFnv1quTegsXxpxYLA7u5uPProo7pmT2spV6VmxaZNm66JC+fLddf9rqmd5Hfp0u/GtpQ6ytu5WUx5TUqDzWbD4cOHMT09nTE4KQWsRS1bAEX0KdV6ttTqr8VwbywFRW2BJIQQUhhs/NyJEyfEVYQsa3RvFMeyaoF85NY21Qwz0dvTv1ANHl5opfZWl8tC562I8posZayFBVmGFpQKaoEsrFKrZ5lSqr8Wy72xFCyrAHKxKaWbMh/K27lZTHlNCFkYpVrPUv21PFEXdomamZkRF5W0xXa+pYTSjhCiRSnWFaV4TqQ4KIAsQVevXsUnn3wiLi5pMzMzuHataI3ZS8a1a9eoAiaEaFJq9SzVX8sbBZAl5OrVq5iZmUEymcTVq1fF1SXt2rVruHLlClUmOszMzODKlSsl9UAghJSuUqpnqf4iRR0DSQghhBBCFj9qgSSEEEIIIbpQAEkIIYQQQnShAJIQQgghhOhCASQhhBBCCNGFAkhCCCGEEKILBZCEKNhsNgQCAQQCAdhsNnH1kuf1ejE6OgqHwyGuyoill9/vF1cRQghZwiiAJIQUncPhwGuvvQaXyyWu0qVQ+yGEEKIPBZCEkKLbuHEjjEajuFi3Qu2HEEKIPhRAEkKKrrKysiCBX6H2QwghRB8KIElB+f1+hMNh/ifLMl/HxsuxdWNjY6quR1mWMTo6ij179mB0dBThcJiPx3O5XBgbG8v4Oy37FsmyrDrPTGP4HnvssZz7U55TOBxWjZtk5+P1etO2U6aJcttcx1LKt73X60UgEMATTzzB0zEcDsPr9ar2AyG/RkdHsXbtWnETFYfDodqneC1MtnLAzt3pdMJgMKCjoyPt3LL9VinXfrxeb8bfKce3Pvnkk5rzR7xmPWNECSFkqaIAkhSM1+uF1WrFwMAAJEnCwMAAtm/fDofDAYfDgd7eXpjNZnR2dqKlpQXRaBRtbW2qh7HJZMKuXbvQ19eHlpYWxGIx7Nu3D3/yJ3+C3t7ejL9j+waAlpYWSJKE4eFhtLe3ZwzEXC4XHA4HQqEQJElCZ2cnqqurVYGDxWLB/fffn/VcZVlGR0cHxsfHIUkSPB4PKioq0NXVpTgSYLfbsXPnTrS1taGlpQWRSIQHxJjFuWtNR4vFgqeffhrHjx+HJEkIBAKw2+2qa/T7/ar8On78OD796U/z9SKHw4GDBw8CADo7OyFJEq5cuQKLxcK3YUFaTU0NPB4PJElCKBTi1xwMBmG32xEIBJBMJvk2ra2teX+rlGs/L774IiKRCOrr61W/aWxsREVFBYaGhvDGG28AGvLH5XJBlmVMTk5CkiRIkoTJyUkcPHiQgkhCyLJGASQpCJvNxh/4brcbAOB2u1FbWwufzwefz4fa2lr+38FgEEePHoXRaMSWLVtU+/L5fOjp6UEwGMTQ0BAsFgt++ctf8mXi75qbmxGLxbB3714Eg0EAQGtrK8bHx7Ft2zbVvgGgvr4eiUQCR44cAVLHq62t5ecNAJFIBO3t7VnP1e12Q5IkbN26FQDQ09OD4eFhVFdXqwKLSCTCzysYDOLQoUNIJBL8vPSeu9Z0ZEEVuyYxqHK5XKipqcHAwIAqvwKBAN+HqLm5GQBw4MAB+Hw+AEBXVxcikQjfhgV2mzdvRk9PDwDgyJEjSCQSaQGdaC6/VQoGgwiHw6ipqVEFntu2bUM0GsWxY8f4snz5s23bNoyPj/N8RuqaY7EYTw9CCFmOKIAkBcEe2larNWNX6WxNTU0hmUxiYmJCXAUoAleLxYL+/n5V16fVahU3BwCMjIzAaDRi3759Rf9Uz/nz5xGLxVBeXo4nn3xS97kXCgvIpqamxFUZsXSOxWI4f/68uLrkDA4OqgJPh8OB6upqhMNhHqhnosyfffv2obq6GlarVZU3/f39qlZXQghZjiiAJAXT2tqKgYEB2O12hDOMzUOqm5s9iDs6OmAwGFTrZ4t1R4t/ypYjpqenB263G2azmQduswl6xbGIdrtd3CRNMBjE9PS0apmec2cKkY6JRAJnz54VF+c0PT2dMwBjlGNMu7u7YTKZxE2ymstvGZ/Px7udbTYbb50dHBwUN1XJlD+BQCAtb6RUdzkhhCxXFECSgmJdu+LYPEdqIoLdbudj7jweD5LJpLiLWSkvL9fVmsi6gqUs4wPzkWUZ/f39fCwi208+NpsN5eXlmJ6e5uPw9Jz7fKfjXCknt7DAq7OzE/F4XNw0zVx+m8mJEydQUVGBxx57DE1NTZicnORd79ko8ycUCgGpmd6EEELUKIAk8yKYGr9oNBqxceNG3gLU2dmpGms4V6zrvKKiAo2NjeJqTQYHBxGPx7FhwwZxVVb19fUIhUJ8LKJWbCLH1NTUrM69UOk4MTEBk8mUNv40G9YyJ47xFDU2NsJsNsPj8ehuoZvLbzM5deoUotEo7r//fpjNZpw4cULcJI0yf1grZr5rJoSQ5YgCSFIQrPWIfQ7HZrOhqakJ0WgUp06dAlIzrNnEA5fLhfb29ll1vYrYeDflzGXWDZqpa1r85/qam5thNBoxMjIibpqTcpKG1+vN2IVtsViwe/duINV62NbWhkQiwbtS9Z47CpSOx44dS5tx7Pf7M14Dc+LECdXYUUdqRrg4HtBoNPJJKGzmttgNPTExAYPBgMrKSrhcLuzfv1/zb5Wy7QeKlxiTyYRYLMbLoVK+/GHXrJx1ne0zQYQQspxQAEkK5ujRo3yiQn9/PwDwGa5utxuhUIiPj9y5cyfcbrdqBu9s+Xw+tLe3IxqN8u8Bsm7QkydPipvj5MmTmJycRHd3N8LhMBoaGtDb28tn/mrBZgez4wGAx+NBIpFQbReJRHDbbbfx8XwQZjHrPfdCpaNyxjE77tTUFAYGBsRNuZ6eHvh8Pj7pR5Zl9PX18a5ets3w8DCfeHLw4EEcOHBAtQ0UAazT6URHRwcefvhhnDp1StNvlTLtRzkc4PTp04jH4xgaGso4djNf/rDxsgB4eWHDB3KdFyGELHUrNm3adE1cSAiZG5vNhsOHDwOKIJoUn9frRV1dnSooBOUPIYTMGbVAEkKWJPbpoTNnzugap0oIISQ/CiAJIUvS7t27UVFRoXtsKyGEkPyoC5sQQgghhOhCLZCEEEIIIUQXCiAJIYQQQoguFEASQgghhBBdKIAkhBBCCCG6UABJCCGEEEJ0oQCSEEIIIYToQgEkIYQQQgjRhQJIQgghhBCiCwWQhBBCCCFEFwogCSGEEEKILhRAEkIIIYQQXQr2b2GHw2FxESGEEEIIWQCSJImLCqpgASQhhBBCCFkeqAubEEIIIYToQgEkIYQQQgjRhQJIQgghhBCiCwWQhBBCCCFEFwogCSGEEEKILhRAEkIIIYQQXSiAJIQQQgghulAASQghhBBCdKEAkhBCCCGE6FL0f4lm5cqVWLVqFVatWoUVK1aIq5eUS5cuiYtIEaxYsQJlZWUoKysTVxXdzMwMZmZmcO1aUW+zvEopjUpdqeYhIYQspKK2QK5cuZI/tJZ68EgWxooVK7B69eqSCYzKysqwevXqkirvpZZGpa4U85AQQhZaUQNI1vJIyHwpxZcT1tpXKkoxjUpdqeUhIYQstKIHkITMp1J9yJfSeZXSuSwmlG6EEPI7RQ0gqdVjaXM4HBgdHYXf7xdXcbIsIxwOQ5ZlAIDL5cLY2Bj/b1IYLC+8Xq+4ihSQzWZDIBDIWeaXElmWMTY2BpfLJa6aE7/fj9HRUTgcDnEVmQNW34bD4ax1AauD2XZzKctsX9mOtVgst/t6tooaQBKyYcMGAEB9fb24ipBlz+Fw4LXXXit4gFbKbDYbysvLYTKZsGXLFnE1mSVZluF0OhEIBCBJElpbW8VNIMsyOjo6MD4+DkmS4PF4UFNTg0AgAJvNJm6eV2VlJQwGAyRJmtXvs5FledbnROYPBZCkqFpbWyFJErZu3SquImTZ27hxI4xGo7h4SQsGg7Db7ZAkCW63W1xNZmnDhg2Ix+MYHBwUVwGpl5Xt27cjFArx+rinpwe9vb2oqKjA7t27xZ/k5Xa7IUkS7HY7gsGguHrWWMMDKS0UQBJCSt4jt7ahY/NhdGw+DOfGPTCuXCNuAqS2a7N+C+WGdarld669J+PyUlNZWbnsAkgyPyorKxGLxXD+/HlxFQBgy5YtMJlMGBkZUS0/deoUotFowVsR56KyslJcREoABZCkqMQxkJmwcTTKMVHKsTxzHadTSvx+v+q6lOnCxjHKsgyv18u3yTRWTBzH1NbWplq/2P3gvT54xvbi9Q9/LK4qGcoyKo4T9Pv9aV1wynGqbMyV0+mEwWBAR0dH1nFrXq8XgUAADocDgUAg4z2h3Ley7LDyxY6Xrewxyt+OjY3BarWmrRfLY7bxY7nuYXEMJLvGJ554AqOjo/w3YnqI5T7f9YjXLeYTu549e/bw47J8y7Uu237ZcjGNkGG8YK70EYnHU14vy3ur1QqLxYL+/v6M6cFaKE+fPq1aHgwGEQ6HYTabUVVVBeg4N/GatNZh4vWw9GP7U16LmGf5zi3bvpXYeYppSXKjAJKUFIfDgba2NoyPj6O2thY+nw9erxdOpxMDAwOQJAmdnZ2orq5OqygWE1ap1dTUwOPxQJIkhEIhOByOtMrN6XRCkiS0tLSgs7MTALBv3z4ejLhcLrS3tyMajaKlpQUtLS24+eabYTKZVPtZDn7wXh/6Qt/GdPKCuGpeWa1WNDU18fSPRqNob29Py8tsWDduIBBAMpnkZSLTuDUAsFgskGUZR48ehSRJCAQCsFqtaQGW3W5HZWUlJEniXcQOhwO9vb0wm83o7Ozkv3c6narfe71efk6SJKG3txd33323av9asXuY7Yvdw+L5KlksFjz99NM4fvw4P0e73a4KlFhdwe6PSCQCAAgEAmnd4eJ1s3xqa2tTBTMmkwm7du1CX19fWndspnVVVVVZ91tVVYWjR4/CaDSmje+sr69HIpHA4OAgXC4XHA4HQqGQKn0yBTLidYj55/P5UFtbi1AohHg8zrcR0yNXq97ExASMRiM2btyo69yyyVeHdXV1oaKigpf74eFh7Ny5E6dOnUJbWxsikQgikQhaWlqwefNm9PT0AIpyle3ZIKZVpjx3OBw4ePAgAPC0unLlCiwWS+rsSTYLFkDecv0mtN/xHd4txf7uXHsP38a4cg2cG/dk7bp65NY22NY/Atv6R/g2tvWPZP19+x3fwS3Xb+LrkeraUh5fPAYpHpvNhn379iEWi6GrqwtI3dx1dXUYGBjgFaDP50NfXx+qq6s1PaCV5UMsI7b1j/ByxNY/cqu69U4sq8rfI0M56xDKcSYsYFBWhkeOHEEikUibYBQKhfhDzOfz4fjx46ioqEBjYyMAYNu2bYhGo9i7dy+CwSCCwSAOHTqEeDyu2k824vkr7xO27q4b7aptxOsT7yNxvZiGhe5OVuafln2z81Xmdb5ryEWZR8FgEEePHgXmcbJYMplEb28vLzutra0IhUKoq6tTBUORSITfS0xzczMA4MCBA/D5fECG37P7LhAI8CC2p6eHb68H21coFOL7YkFOtgAZqWv0eDz8vn/xxRcRiUR4mm7ZsgVGoxEnTpwAUvfU0aNHEY/H07ploTgmezFl22cK7nw+H09bkbgu335Zl3BTUxMPmFianDlzBj6fjweTR44cUe1TDPqgMf+0ytXFzeg5t2xy1WEOhwPV1dUYHh5Wled84yi1PBvy5Q2ypGdXVxd/GSHZLVgA+f7Hb6P3rb+GZ2wv75p6e/oXePPi60DqwfWl23chlrzIt4klL+JLt+9SBXj33PQAbjPdgZfeehqD776AzWsbcMv1mzL+/mTku/jDDU/yh+Mt12+Cff2jGHz3Bb7NwNnnkLh6me+fFE9XVxfMZjMOHTrEKw42TsfpdKq6KTo6OjSNFbOtfwSb134Wr4SfgWdsL14JP4PNaz+rCgI3ld+FdUYLPGN7MfjuC7jN9Hs8eLjl+k34ww1P4mTku1l//2D1f1GVM8/YXl6O5xurfKenp3NWttlouU8A4L6qL+PMhZ/ye9W+fjsP0u5cew/us3yZ30eD776A+yxf5mlYbliHrbe08DT0jO0teCth8IMfwDO2Fz+c/GdxVRrl+f7gvb60ZZmuQS8WNORq5Sm0qakp3mrEiOXCZrNBkiRMTk7yhyUzMjLCZ0Kz+25iYkK1zWxkG2s3V1NTU4AQpLP/f/bsWb5Mr2QyyfctyrUum2AwiKGhIdVLHwt+WZqMjIzAaDSqWuUy0Zp/Wim7qbPRem6z5fP5MDk5qWpd1mKuzwYo0lNLIE3SLVgAqXTn2ntwm+kO/Gjyf/JlN6+5BcaVa/DTqe/xZT+7MART2VrcvOYWvmzq8jl8790jSFy9nHogXUO5YR1uXnMLTGVr8bMLQ3zbd6bfwIXEFGpMm/ky48rVqv8mC8PpdMJqteL48eNpFaOyS0/5p2y9y8S4cg1uM92BsYuv8WBlOnkBYxdfw22mO/iLyNTlc7zs/fry+7iQmEKF8bfdFzWmzTgX/xUPCDP9HgAs192Wt9UrE+X4ne7u7ll3O+t9qDFa75PXP/wxT4Px+BiAFfx6JXMtRi+8ivc/fhtIvRyei/8KkrmW/55tt9Bs6x/BfZYv418m/oGfL3RcQymba7A3NTWFZDLJ/3s2wVI2hdwXw2YMNzQ08HvIbrdnrEOUlGPxOjo6YDAYxE1mJdd+T58+repdqK+vx/j4OK+/enp64Ha7YTab+ZjFXN37mYj5l0+u/NiwYQMSiQTOnj1bkHPLZ+vWrbwbPpxhjGQ2Wp8NufIGGV60iDYLHkCWG9ah4aYv4tWpY6qWv3LDOtxoXI+vSt/kXUrNt38dxpWrVb+PJS/y300nL6Av9G28efH11MPtmqqVI3H1MmLJi1iXCg7e//ht/MvEP6B23b2z6rYihTMwMJB1DKDBYJhVS87qVdfBVHYDogl1V0Q0EYGp7AasXnWdankm64wWbCq/S9W1ec9ND6i2+cF7fYhcOsfLqpZhEGwMpDguTGu3c6FouU9yMa5cA7NhLe656QFVGm0qv4tvM528gP89/newXHcbXy8OAygGU9la3HFDPc7Ff6UKHrVcg15VVVUwm83i4nmlfOjPBvuG33yY7T2ci81mw86dOzE8PKwKHrJ1rTpSEyXsdjsfM+fxeHQFXZlo2a/P58OZM2dQV1cHWZZRU1OT1iLLululDOM9tdCbfxMTExlbLDO1ys313LRgn3jLNEYym3zlSkvekNlb8ADyc5VfwvCHP1RV6Eg9dH6T+IB3PbK/3rf+Om3bTH77QPxdKwkUD4oLioBC2ZX+w8l/xn2WL6eNkyTFsXXrVoyPj6sGOJ8+fRrxeHxWY8mufHIJ8ZmPeGsiU2G0ID7zEa58ckm1PJMLiQjenv6Fqgx6Mgx1YLOEX3rraSDVrZ1LY2MjzGYzPB5PznFg+Zw/fx6xWAzSLD+5ofU+yYYFm69/+OO0NGLdw1C83LHu4dp19xb9ZS0+cxH/851DMBvWqsY+ar0GPdj3HFmQMDU1pam7cLYyPfQzCaZm2FZXV6e18NTX1/NZuZm6hzNRTrbIZi73cC56g3QWKHV2dmYNMmdD635ZV/BDDz2EaDSKY8eOiZtwg4ODiMfjad8/1Jp/WmTLl8bGRlRUVCAcDmdslct2boXCgu1890u281fKlzfBYBDT09MZ05Pkt6ABJGuFyDRe7NeX30fi6mV8rvJL4ipNfn35fcRnLuI/r2viy+656Qswld2AX/wm/aZA6iGXuHpFXMy/QVfsB95y1NXVhVgsxt8+WWVitVr5zDrWepevmyNx9TLOxd/C5rWf5QHSLddvQu26e3Hmwk81jXUdj4+pxkTmw4IRLYxGI7Zt2wYoZgLq7cJm46ssFgufLOFyuSDLsqZ9zeY+EYVjo6hdd6/mF6/f3mf5034+JK5ewb++9wos192mCiL1XoNIOQNaOSueBQmstWfXrl18m0x5NDExwVtVXC4X9u/fr1rPGAwG7Ny5UzWL1WKxYGhoKONDX4l9WPrgwYP8/vF6vbBarXxSR09PD8bHx1UtTWzGqxILNNm5OFKzXpUzWJX3MEsj1jI0l65Q5dg51j3J/rK1jplMJj5pguWTnla7bLTsl6XpjTfemBaceYXPITU3N6teQJS05J8WvtRkFmXdqiy7L774IqDz3GZDLAuO1OQYNs6TBXksoHz++efhcDg0Pxvy5c2JEydUYzwzlWGS2YIFkOxBLnYPsko9cfUyvvfuEZgNa1XrtXQPIvV79qBgv9289rP43+N/x7vrxFmXzbd/HYEPvp/WwhmOjQIA6tZ9TtOxlzur1ZpWoQc0/jNUwdQMYrPZjL6+PrhcLrS2tmJgYIDvt7+/H2azGc8995z48zTBD36g6l5uvv3rOBn5bsaXlkzYMIf7LF9WlRX28sNmKSvXmQ1rVeN5M+np6cHw8DC/poMHD+LAgQMIhULipnm53W7+GZdw6huQzz77rKZZhFruk3zevPg6Tka+i+bbv65KB+VEJOUM7K9K38TYxdc050G5YR3arN9CR2r4QOWa2/C1O/6Gz7ZW5sEXq/8YprK1+Kr0zYxfXUAqgPW/34/bTL/H95HvGvIJBAKorKzkY6yUs+KhI4+OHTuGSCQCp9OJjo4OPPzwwxnvm2Qyiffee4+PSbNararZqLn4fD60t7cjFouhu7sb4dTYwYGBAVVrOJuJysalVVZWwuPxIJFI8G3YzGz2jT5ZltHX15dWjltbW3nXZzg13vfMmTM4efKkajs9ZFlGdXU1//SKpPiUz/bt29NeLt1uN58NHA6HsXPnTrjd7rQ80EvPfkdGRjL+6zAnT57E5OQkz4+GhgbVLHslrfmnhdvt5v98ISu77MWBlV095zZbR48e5WNZu7u7MTk5qfrXyliQ193djUcffZQHhPmeDVryRmsZJulWbNq06Zq4cL5cd13+MWelqNywDl+peQqRS+d0dWldupS/i5QUVimXsVIpD6WcRqWuFPLQ6/XOy0N8sWGtTuI/iyrLMrZv3676LEspsNlsOHz4MKanp9POmZDFaMFaIBeTu260wVS2lrdEEkIIWVhTU1OwWq2q7mpZluF0OnV15RYLG/fMvltJyGJHLZA5sJZH48o1aZ/90KIUWiuWm1IuY6VSHkopjWzrH0mb1a6k/ExXKSiFPKQWyN/xpv61HCWtXfnFxFofAaiGNhCymBU1gFyzZg1WrFghLl6ySuFhs9yUUnAkKpXyUMppVOpKJQ8JIWShFbUL+5NPPhEXEVJQMzMz4qKSUErnVUrnsphQuhFCyO8UPYCkIJLMp5mZGVy7VrRGdU2uXbtWUsFHKaZRqSu1PCSEkIVW1ADy6tWrmJmZoQcYmTfXrl3DlStXSuZhPzMzgytXrpRUeS+1NCp1pZiHhBCy0Io6BpIQQgghhCx+RW2BJIQQQgghi19RWyBp9ufcXLt2jY8jvXr1qriaEEIIIaQoqAVyEVmxYgXKyspQVlaGlSsp6wghhBCyMCgKWYRWrVr1/7d3/7FtXWee8L+WRdoxqSqWE9F07MivLyfRIqm1S4+0ItG+StaTyrUzRumOibxZaVplglE2ZYFwLS+WTVPLg06Jt5ZXDlYNrKCBtqC2i6W3Ysezzpjbybs2WpCGlAiVkG6VlPRYsWKZSkPXFRnbpCy/f4TnzL2Hv+6VKImSnw8gtLm/f5x77sNznnON9evXi5MJIYQQQpYFBZCrFAWQhBBCCFkpFECuUvfTv+hDCCGEkPJCASQhhBBCCNGEAkhCCCGEEKIJfcZHoyrdZvxF3bdhqKwGALz36TsIf/K2uBj0FRvxtUdfAgD8/KPTSM3f5vP2P9IBAHj74wE+bSFu3bolTiKEEEIIWXLUAqnRbPoGBiJ/gzc/fBUzt6+KswkhhBBC1jwKIJdIav42/FdOwX/llKL1kRBCCCFktVvWLmxpyxP48+0vQlexQTH9F9M/xQc33wNkXb+1G3cAAGZuX1V0Ae9/pAM3UjEAwJ4tewGhG1lcPz1/B38/9WNc++wymMer9+AZ8/P8v8V9qMH2czX5YVYX9v5HOrCr6kkgz7bFLmy2vPw6yLeRnLuJ/zH5nzGbvsG3AerCJoQQQsgKWb958+ZuceJSuY0E3vv0HQz//n9h+Pf/C+vXVeL23c9wSQj+Eumb+K//9P9i+Pf/C3WGf4HdNV/C7/74a9y9N4c/+cK/whMPNqOyQof/evmHmExOoPnhr2Lm9lXcuXsra/3E3B/Quq0N07f+CbPpG9i2aRee3noY/3Pqx3hn+r9j+Pf/C7/5wyXcvTcnHm5B69dVor76T/HH9KeY+ux3inm/m/01P79q/RZM3HxXsf0/+cK/4svtf6QDRl01/uvlH/Iucfm08Cdv44H1BvzfJgeis+OKQHRuTtsxE0IIIYSUwop1YT9evQc7DI/hH6f/G5/20MZt0FdsxC9nfs6n/frGRRgqq/HQxm18mrxV7/NWuXuo0m3GQxu3wVBZjV/fuMiX/afZ3+BGagZ1hno+TV+xQfHfK2HD+o1w7nwFRl21ooWySrcZNRtM+NXMWT7t/T+EAQDbNu1SbIMQQgghZCWsSABZpduMxi3PKIIkNv1B/cP4hvRduOpPwlV/Eoce/Rb0Qpd3In2Tr8cGtXxw8z1U6TYDuKfo6k3N30YifROb9SYAwLXPLuPvp36M3Zu/xPfxePUevvxyeWSTBbUbd2Dsxi+zroGh8gs49Oi3+PF9Q/ouH/VNCCGEELLSlrULW6fTAQD+zPz/4P2bYVxJ/B/F/A3rH4D5gf8L//1KL34183e8q/u9T9/hQaG8+1e0Yf0DsFQ14OpnH/Ll9RUbsbvmS4jd/oh3Nc+mb/Cu9JvpT/GU6eu8i1utQl3YzA7Dn+Ttwr6RmsH/jp1B67Y2JOb+gE/vTPP5u6q+iLc//i+8i539yZcBdWETQgghZIUsewuk7eH9AMAHi8j9/vY1pOZv48u1XxNnqfL729eQnLuJf7m5hU/bs+XfwFD5Bd4NLJpN30Bq/o44eVlc++wyLsR+hmfMz/NW0Nn0DcTvxPCl2oPQV2wUVyGEEEIIWXFlMQr78uz7fESyOIoaQs6jOIJZJH7oWxzBLI7AhjAKvJhc60N2DuL+GflxiOdge3g/9mzZq7gO8lHY4voMjcImhBBCyEpY1gByLfxLNOWEAkhCCCGErIRl78ImhBBCCCGrG7VAyrCu5HxyfRR8JVELJCGEEEJWAgWQq9S9e/dw+3Z5BLKEEEIIub9QF/YqdffuXXESIYQQQsiyoAByFbp79y4FkIQQQghZMRRAriL37t3D3Nwc5ubmMD8/L84mhBBCCFkWy5oDSQghhBBCVj9qgSSEEEIIIZpQAEkIIYQQQjShAJIQQgghhGhCASQhhBBCCNGEAkhCCCGEEKIJBZCEEEIIIUQTCiAJIYQQQogmJfsOZDQaFScRQgghhJAVIEmSOKmkShZAEkIIIYSQ+wN1YRNCCCGEEE0ogCSEEEIIIZpQAEkIIYQQQjShAJIQQgghhGhCASQhhBBCCNGEAkhCCCGEEKIJBZCEEEIIIUQTCiAJIYQQQogmFEASQgghhBBNlv1foqmoqMD69etRUVGBioq1Hb/eunVLnEQIIYQQsuotawRXUVEBnU6HysrKNR88EkIIIYSsVcsaxbGWR0IIIYQQsnotazRXWVkpTiKEEEIIIavMsgaQ5P7hdrsxMTGBaDTK/8bHx+FwOMRFyX2IlQ+v1yvOWlJerxfRaJTv12azIRQKIRQKwWaziYuvCPEYyf1lpZ4NkdfrxcTEBNxutziLEIACSLIUgsEgXC4X4vE42traIEkSurq6AAA9PT3w+XziKkvG6/WWVXBACMOCVzFQ2L59OwDAarUqphOyED6fD8FgUJy86uR7XsjKoQCSlFQwGITFYoHf74fdbkc4HAYABAIB7N69G5Ikob29XVxtybCXMSHlZuvWrTAajeJktLe3Q5IktLa2irMI0ay2tlactCrle17IyqEAkpSM2+1GXV0dIpEIPB6POHtFrJXKk6w9O3fuhF6vFycTUjI2mw1VVVXi5FWJnpfys+YDSNvD++Hc+Qr0FRvFWaTEWJfb+fPnxVk5+Xw+jI+P45VXXsH4+Dii0aiiu5nlgrG/XN0wwWBQsQzr3mB5RBaLBSaTCYODg1n5PD6fT7Fuvq511nXi8/kUxyRuT75srmXy5bYFg8GsbvZCeVCF9oEi17XQvHzbZdNz5bCy42TXTs09E8nvITsWh8OB8fHxrOuCAtcRKq6NWuJ55DqOYvsS84Dl22BpHjqdDk6nU3GtxPNj18Lr9SrKbK77IT4PufaNMivT8vOTH7/X683ad65ntNBzvJhti/PF82Tzg8Gg4hqePXtW9fNSTK5nA7LzErfjleUter1eDA4OwmQywWKxIJqnzDDy68jqTlGxayLy+XwIhUJ44YUXeH2T61qzZeXbldcdhZ4XsnLWfABJlk9tbS1SqRSuXLkizsrLYDDgpZdewsDAACRJ4t3ePp8PTqcTfr+f51CazWZeabCKrK6uDn19fZAkCZFIBA6HA263G729vejo6EAsFkMsFkNbWxvq6+vR29sLZCqkxsZGvm5fXx8aGxtzVmyM3W7HgQMH0NXVhba2NsTjcXR0dPAK2eFwoL+/HwB47ufIyAg6Ozvhdrtx9uxZxGIxRW6bw+GA2WxGTU0Nmpub+XSr1YpUKoXh4WE+jS3f398Po9GY9zhQ4Lrmm7d169a82926dSvOnDkDvV6PpqYm2dH883EODQ3B7XbD4XAgEoko7lmhF4zT6cTMzAy/BzU1NTh58iSuX7+Oc+fOZV0XZPYZi8Vw9uxZxXS116YYVvZCoRA/D6PRiP7+/qx7zfbF7jXbl9frhcvlwuTkpOLcuru7AQCtra3w+/0AwMt4sS5rp9MJSZLQ1tbGc4qPHj3Kgwqfz6d4Htj2k8kkTpw4we+/XDmUaUZeFkKhEA4cOICTJ08iGo3yaXa7XVGe1D7HWred6/6GQiE4nc6sbVssFrS0tPDrc/DgQVXPSzH5ng3xh0w+Ho8HXV1dSCaT/JncvXs3AoGAuCh8Ph/sdjsv8/39/fjiF7+oWEbLNZEzmUx49dVXce7cuZzXGpn7aLfb+bPQ19eHuro6HjQv5HkhS29FA8htm3ah87EfwFV/Eq76k7A9vJ/Psz28H45H/x2cO1+Bq/4krFv+DTos30PnYz/Atk27UKXbjLZd/xGPV+9Bh+V7fBuPV+/h67vqT2LPlr2o3bgDf/3Y38JVf1Kxfofle4p9svWoxXJ5BQIBHtghU1E1NDTA7/fzrvBAIICBgQGYzWa43W6Ew2HY7XZFUHj69GmkUqmigw/cbjfMZjP6+/v5ur29vQgEAmhoaMgbbMRiMXR2diIQCCAcDme9JA4dOoREIoEjR47wl3V7ezsmJyexb98+hMNhzM7Ooqqqir8EmpqakEqlkEgk+HHbbDZIkoTp6emsyp7lkrIXQa7jkC8rv65y4rxi27106RLi8ThaWloUrSANDQ0YGxtDIBDgL8fTp08rtlkoncHv9/Oc2N7eXoyMjPDAY3h4GKlUCvv27ePLuzNpEhcvXswKiIqdgxrsnEKhED8uVvb0ej0OHToEZO61Xq/HwMAAv0ft7e183x6PR/GSY+dmNpvzlq9iIpEI/yEQCAQUATYrM5OTk/y+ejweRCKRnOWIKYcyzUQiEX7N5QHWG2+8wf9XHqxqeY61bpvd52PHjinubyQSydp2rgBdzfNSTKFno5RylXl2HeW0XBO5dDqNvr4+Xg+I15o90/L6nu3fZDLh4MGDiu2R8rFiAeS2Tbvw59tfxIXYz9A3cQQ/iX4f9dV/qgjoHtlkwdiNX+Ly7Pto3PJn+N/X/wdupGZQZ6gHAOgq9HjK9HUErw2ib+II3vv0HdgfPoAq3WaEP3mbT5u5fRVvfvgq+iaOoP/D7+DaZ5cxm76BiZvvYofhMR4sVuk2o776TzF245dIzd/mx0GWTjqdxszMjGJaU1MTDAYD76pgfy6XqyQ5MFarFQaDAS6XS7F9p9MpLqoae0Gy7nL5duVdQaOjo4qXgNVqxW9/+1v89re/hSRJsNlsaG5uRk1NDUZHR2V70CbXdWUKzcsnHA7j4sWLimNvamqCXq/nxzk6Ogq9Xq9oFdOKbau2thaBQABjY2OKoKtYK9ZiiefEsIBAkiS8+OKLkCQJ8Xgcly5dUiy3UlggJ79WrCVQ671mVrJMX79+HYlEArOzs1k/FJiFPsfFtl0o2B0dHYXBYFD8IEkkErh+/bpiOTXPi1byZ6OUWH07NTUlzuK0XhMt8j3Tw8PDSCaTRRsEyMpZsQCyzlCPq8nf4YOb7wFAzoBu5vZV/NPsbwAAV5O/w5XE/0EifVOxnQuxn+HaZ5cBAO//IYz0fApVus2KZfKZTE7AUFmNhzZuAzJBLQC+PaLNzMwM9Ho9du7cKc7SjP1qlSRJ8SdvcYSQq9bT0wODwaDYTj7JZJJ3w8j/8nXxqMW6isQ/1hLFWtWsViscDge2bNmC0dFRjI6Owmg0orm5macCiBWqnDxfiOUGlUKh7cqPHZmKX97i1dvbC4/HA6PRyAOOQl1barCgtKmpib/EirXgFDqHhWIBmly+AISxCflidrtdXKSkWltbMT09jZ6eHv48JBIJ3sq2UMtVphdiqZ7jfGZmZpBOp8XJORV7XsrJQn5UMlquiRYs0Cfla8UCyM16E3ZVPcm7nll382LpKvSqA8hrn11G7NZHvEVTMu7GxM13MZu+IS5KVGC/kOVdjgul0+kK/tJmL2cxVy2ZTIqL5lSqQFck78rLJRAIYHp6GrW1tbyr79KlS7h06RISiQRqa2thtVpz/tKHLHlezBdabAWuZrusRbChoQFerxd1dXVZrSkB2eeacuU6FVNbW6sI+Hp7ezE5OYmWlhY899xzBVux1JzDQtlyjGYtdK/ZAAYxX2wpeb1emM1mRUAlz31dqELniRKU6cVYquc4H7F8FqLmedFCy76X01IdF322p/ytWAB5IxXD5dn30TdxRPHnv3Jqwd3HnweO6zQFgNHEOHYYHsOWDVth1FXj/T8srrK9n7GXvcViyRs05Jsup6brorm5GUajEX19fZq/K8kq8ULb1yocDiMajarKURodHYXZbEZLSwtvxWLrt7S0wGw2533RsG6irq6ugrmFWqndLmsR/MpXvoJ4PJ41kEVuaGgIyWRS07c4t2/fjmQyqWipGs10kT799NMFW3DUnkMhYqsRw7pgo9EofvzjHxe911arFZFIZMlawnLRcp3VWK4yvVBL8RxDdt658lWtVmtW+SxEy/NSjPzZYK1zhX5kq8VaHgtdx1JeE5G8l0GOda2XutyQ0lmxAHIyOYEdhj/hg15K4V9ubkFy7iZ+f/sanxZPxbBZX8u7qUWsi3zfI9/E1eSHOYPP/Y90KAbokPy6u7sRi8XgdDoVn1lgn68oNmIPsl/uFosla9S1/DMUer2et3Y6HA4cP35c0YXNuh2NRiO2bt2K119/HQ6Hgwe6drudHwtrvWKj/hZiaGgIqVSKj1CFrItdfs6sojWZTIrKcWpqCiaTCXq9vmB3ksFg4AntbrcbnZ2dJWkBULNddu0efPBBRKNRReuWL/OJIHZ/2ECTQi8AR2bUPGQjQcUu6rNnzyIej6t6mag5h0JY2RPLRkdHB1Ky0bPsXstHLIvnX1dXl3Vucqzrb/v27XA4HHj99dcV87ViL2LWhc3+VkOZXoileo4hG2hz/Phxxf21WCxZ5bOQfM9LMBjM+ckkuULPBqvb5D/WfZmvB8ixQJO1Ir/55ptZ10V+HQttq1TXRMT273Q6+f7dmS86yL+2UOrnhSzeigWQ1z67jL+f+jGeMn1d0Y0tjoou5hnz83xdAFktmB/cfA9Xk7/DoUe/pRiFzaTmb+Nq8kMYK7+AyeQEny4XTYwDABo2f5lGZxcRzoyO9vv9/Ntj0UwuGvunDdW0GLa3tyu2wboDT506BchGJbL5x48fx7FjxxCJRBTbOX/+PH+pPvvsszy4aG1t5V2sUVm+2FtvvaVYX4tAIIDOzk7E43Ge2M+62C9cuKBYbnp6OutXO2t5LTQ4g42sZcd9+PBheDwexGIxcVFNtGx3dHQUyWQy61MkFy5cUOTgNTY2KkbIilKpFAKBADo6OhDN5AjKR4IyrPUj16d75LScQyGs7Illg41WRuYeHjt2DMj885zRaBQNDQ28fLIvArByAAB9fX1IpVJ8P/IXd09PD55++mn+YtbKZrPh8OHDGBkZUeQC+v1+mEwmvPzyy+IqqixHmV6MpXiOITvvRCLB7y+r18TyWUyu52VmZqZgmo6aZ0P+Yz0ajaK2tjarjIUzg3nYQKi9e/fmHNWsZlulvCYidh/Z/tknsOyyFIxSPi+kNNbt2rXrnjhxqTzwwAPipAWr0m3GX9R9G6FPzvGBOAtle3g/dhgew88/Op2z+5ztK3brKt7+eECcndetW7fESYSsajabDSdPnsTs7OyyfYfNkWldHhsbW/SLaq1yu93o6OjAwMCAImBn9ysajdK1WwH5nhebzQav14u/+7u/y/sDi5Byt2ItkOVi26ZdqK9uxK9mzuYMHgHgyQdtMFRW85ZIQu5XLPdU7b82VAosN0ps8ST/jH28//Dhw7yLkgUvRqORrt0Kyfe8dHd34+rVqxQ8klXtvg0gH6/eA1f9SRx69FsIffI/c366h31sfPfmL2Hoox8tuqWTkNWMdZMmEokl6Y7MxeFw4MCBA0sygnctYV3q8k8oDQ4OAoCi650sn0LPS2trK7UIk1Vv1XZhrwbUhU0IIYSQtWhZWyDn5ubESYQQQgghZJVZ1gDy7t27mJ+fFycTQgghhJBVZFkDyPn5eaTTaczNzVEgSQghhBCySi1rDiQhhBBCCFn9lrUFkhBCCCGErH7L2gJ5v43CLrX5+XnMz89TLikh96F169ahsrISlZWV4qxlNzc3h7m5Ody7t2yvD1XK6RoVUq7XjxAtqAVyFamoqEBlZSV0Oh0qKujWEXK/WLduHTZs2FA2gVFlZSU2bNiAdevWibNWTLldo0LK8foRohVFIatQRUUF1q9fL04mhKxRlZWVZRdssNa+clGO16iQcrt+hGhFAeQqRRUPIfePcn3ey+m4yulY1FqNx0wIQwEkWfO8Xi+i0Si8Xq84qyzZbDaEQiGEQiH+7xrn4/P5MDExAbfbLc5ak8rhXrrdbkxMTMDn8/FpwWAQ4+PjcDgcQOY476f7slx8Pp/iOhNCVg4FkITk4fP5EAwGxclLbuvWrTAajaipqUFzczMgCypXMnAiudlsNlRVVcFgMKCpqUmcTQghaxIFkITkUVtbK05aFoFAALt370Z9fT16e3sBWVBJyk84HIbdbockSfB4POJsQghZkyiA1KhKtxkdlu/BVX8SrvqTsD28X1wEAKCv2Ajnzlfg3PkK9BUbFfP2P9KB/Y90KKaR8sJalcrFzp07odfrxcmEEELIiliTAaTt4f05A7dSmE3fwEDkb/Dmh69i5vZVcfZ9zev18vykYDCIaDSKaDSaM5fP5/Px+dFoNKur2OfzIRQKweFwIBQK5VyO5aKJ3bpq8qTYurmO0ev1YnBwECaTCRaLBdFoVLE91p3M1s2X6+ZwODA+Pp51brny49g2g8FgVg5kMBiEy+WCTqeD0+nMug7ItJaOj4/zY5Ln5+Uivz9RIaeQHbfX61XcJ3YN2PHlusa58gO1LF/ovuSS617Lr6Ucy59kf+J8rfuWE3Mgc2H7l29XfA6K3bfVoNjzweqJF154Ie+zzcjL6fj4OKqrq8VFCCErZE0GkOUgNX8b/iun4L9yCqn52+LsNctgMKCnpwejo6OQJAl+vx8mkwnd3d18mWAwCLvdDr/fD0mS0NfXh7q6uqwXtslkgtfrxZkzZyBJEkKhECwWy6Jfsl6vFy6XC5OTk3z/NTU1/Bg9Hg+6urqQTCYRiUQgSRJ2796NQCAAh8OB/v5+AEBbWxskScLIyAg6OzuzgshAIICxsTGYzWZFYGG1WqHT6WC1Wvm05uZm1NTUYHR0lE9jWltb4ff7AYBfs9bWVj6fBZbnzp3j18lut2cF1pC93Ovq6tDX1wdJkhCJROBwOLKO3+l0QpIktLW1oaurCwBw9OhRAMCZM2eg1+uzcv6sVitSqRSGhob4tHA4jIsXL+bMEZQvX+y+LIbP54PT6eTXr6urC2azmQctDocDHR0diMfjaGtrQ1tbGwDg5ZdfFra0MG63m/8YstvtCIfDCAaDaGxs5Pehr68PjY2Niy7fK4k9H0ajEV1dXWhra0M8HkdHR4fiGTAYDHj11VcRjUZ5PSE+28FgEBaLhd+zc+fO4YknnuDzCSEra9kDyG2bdqHzsR/k7AK2Pbwfjkf/HZw7X4Gr/iSsW/4NOizfQ+djP8C2TbtQpduMtl3/EY9X71F0Iz9evYev76o/iT1b9qJ24w789WN/C1f9ScX6HZbvZXU7l7rFcv8jHfzY1GyXLc/OQz7NVX8SHZbvoUq3WbFOOfP7/TwXzOPx8IDF7XbD7Xajrq5OsUxvby8CgQBMJhMOHjzIt5NOp9Hf38/zANvb2xGJRNDQ0FCwpacYj8ejCMJ6e3sxMjKSFejlcujQISQSCRw5cgThcBjIHNfk5CT27dsnLo6pqSno9Xrs3LkTyLxgt2zZgqtXr0KSJB4ws0BqeHhY2EJx6XQafX19/Hq+8cYbiMViigCVYfl68vzK06dPI5VKZS0fiUR4sBMIBHDu3Dk+sOfSpUuIx+NoaWnh5+BwONDQ0ICxsTEEAgHFts6ePZt1TOLyi7kvhbD9yMtcIBDAwMAAzGYz3G43mpqaoNfrcebMGYTDYX6d2tvbxc1pxoLTyclJvj232w2z2awo3+w5UFO+xVQaeR3B0meefNDO61KxfgGAx6v38Hlq5qupy1j+LvvBFQ6H8/7Y8Pv9/Hp4PB7+Y81ms+WsJ1hdoga7BvLjd9WfVKQOicuI52d7eD/2P9KhuA5i6hF757A/8d2ykGtIyGqxrAHktk278OfbX8SF2M/QN3EEP4l+H/XVf6p46B7ZZMHYjV/i8uz7aNzyZ/jf1/8HbqRmUGeoBwDoKvR4yvR1BK8Nom/iCN779B3YHz6AKt1mhD95m0+buX0Vb374KvomjqD/w+/g2meXMZu+gYmb72KH4TH+EFfpNqO++k8xduOXJWspfPvjAX4cxex/pANGXTXe/PBVfHDzvaxpfRNHMHHzXfxF3bdXVRApNzU1BZ1Oh9ra2ryB0vDwMJLJZFYQI5qZmVEEZMvJZrNBkiSYTCYMDg4quh4tFou4OJA5L3lw1tTUhFQqhXfeeQdGoxHNzc18u9PT01mBV7lirYrykeIsCMvVihoOhxGNRhXBYKHlS6mpqQkGg4F3/7M/l8vF80rZfRJbyhbLaDTi6NGjSCQSipZUq9UKg8EAl8ulOCan06lYP5cq3Wb8Rd23MXHzXfRNHMlbRzy19esYu/HLrHoSmcDmKdPXMfTRj9A3cQRDH/0IT5m+zoPIbZt2wf7ws3x+38SRZe1NYc/LzMyMOEsV1gPEjn3oox/hD6lP8MuZnwOZ4PFrj76ERPomXyaRvomvPfqSIsDbVfUk7A8fwE+i38dPot+H6YEdigaL+uo/xU+i38/5Plvpa0jIUlvWALLOUI+ryd/xQClXQDdz+yr+afY3AICryd/hSuL/IJG+qdjOhdjPcO2zywCA9/8QRno+pTq4mkxOwFBZjYc2bgMyDzkAvr3lsmH9579+jbpq/Pyj07xSqdJtRs0GE341c5ZPe/8Pn7d0sWNdbWZmZpBOp8XJCtevX0cikRAnZ5mamhInLYiYp2W328VF8mItJeKfvFuZCQQCmJ6e5i0rVqsV0WgU//iP/4hEIgGr1cpHWC91ICUnzwfs6emBwWAQFylKDI6tVismJyd5i5podHQUer0ehw4dAjLLx+NxXLp0iS+zmPtSCGulFe8Za4kNBALo7OxEIpFAT08Ponly8rTQ6XT45je/iZqaGt6yKZdMJtHV1ZV1TKz1Lh9WD7B6Qf7/5XXEe5++w+vayeQEgHW8npSMuzF+41e83rv22WVcTf4OknE3X19fsYH/cNdKntvJ8ne1SqVSuHLlijhZsyrdZvybrU78f9f9mE3fAAA8tHEb9BUbeUAJAL++cVHxbgCA5NxN/I/J/4zZ9A3cuXsLybk/okZvgr5iI3YYHsPEzXf5NnO9zxZzDQkpd8saQG7Wm7Cr6klFk/6eLXvFxTTTVehVB5DXPruM2K2P+EMtGXcrKoHl8sgmC2o37shq+azSbYah8gs49Oi3+DX6hvRdGCpXb/I4+xxOodYEtZ+p2b59+6JfLGyQDMvTkjJ5g2pVVVWpHlyBTOBkNBrxr//1v8aWLVswOjrKW+Rqa2t5157YKrsUWIDmdDoRCoUgZfIBk8mkuGhRLMezoaEBXq8XdXV1BYPg3t5ent/4wgsvwGw24+LFizywWux9KYS1gBci/xxPrpw8rdLpNP7Lf/kvOXMAASy4Jb1Gb0Jy7o+4c/cWnyYPborRV2yEUVeNPVv2KuriXVVP8mWufXYZfz/1Y+ze/CU+X+zizsWRGYAl5jgX+wG5lL5c+zVEZ8cVjQRVus14UP8wviF9l5/foUe/BX3FBsW68uvMWjXDn7yNDesfgKHyC4inYorl46kYDJVfwIb1Dyz4GhKyWixrAHkjFcPl2fd5c34pmvU/DxzXaQoAo4lx7DA8hi0btsKoq1b8kl8ul2ffz+o2QuZXbHLuj4puD/bHWhNWG9ZtfeXKFd4KJeZDsW7GQgEI6+pNJBK4fv06rly5glQqhe3bt4uLFmS1WhGJRIq29IhY0CfvtlWDBYZf/epXodfrefA7OjqKLVu2oKWlZdm6r5ubm2E0GtHX11eS/D52P7/yla8gHo/j7Nmz4iIKo6OjqKmpwV/+5V8CQtC8kPsi5pjmojY9Qo7lbBYLOoth+bKJRAJHjx7lPzxYOddyTIw8SGHyBTS5pOZvI5G+ifc+fSerjnn74wG+3LXPLqP/w++gb+IIfjH9Uzxl+nrRXhD2XHd1dS3qm5hTU1M5B11pxerW8CdvK6bPpm/gD6lPePcz+2PpTsXkC9jF4H4h15CQ1WJZA8jJ5AR2GP6kpL/C/uXmFiTnbuL3t6/xafFUDJv1tYquCDnWRb7vkW/iavJDTcFnKV377DIuxH6GZ8zP82sym76B+J0YvlR7cNUmWx84cIC3tvh8PlgsFj5QgrVCOZ1OPkqYjVCNxWKKAESn0+Hw4cP8pdvd3Q2TycRbrVi3d2NjIx9BzEZ4F8MG9SBzjOI6bNustfHNN9+EzWbD0NAQUqmUYtQ16w7O11rFurEtFosiULxy5Qr0ej1MJlPB1lnI0gC2b98Oh8OB119/XVxENb1ezwf8OBwOHD9+fEFd2JC1Kj744IOIRqNZ3bQi1u29Y8eOnEFzsfsiYteNlRNHZhSwyfTPL3bWUmqxWHi3NGuJZZ/eET+tdPDgQZhMpoI/aNQKh8M4ceIEjEYjz4Nk181ut/Nyw1rvxK8RiFiA8+SD/7zMl2u/huTcH3ndVkw0MY7dm7+kOpiZTd9Aav6OODkng8HA0xTcbjc6Ozs1d2GzAN4h+zqA2meb2bZpFxq3PKPopmZ+f/saUvO38eXar4mzVEnN38bV5Ieor/5T3vu1bdMu7N78paxeJUbLNSRkNVjWAJI16T9l+rqi60QcuVbMM+bn+boAslowP7j5Hq4mf8e7gdkobIY9/MbKL2Ryg9Rjo+r++rG/Re3GHbwbiI3Oq5KNjpSPBs83kvqDm+/hvU/fwTPm5/k23v54AIn0TT6K3LXKRmJ/8MEHPKiy2+0IhUKK1q7W1lbejcpypNjLVB6ApNNpfPzxx3zACvukB2vZYC/mVCrFByPMzMzwT97kw0Yds3UAoK+vD6lUii/DBomwATN79+7FwYMHea5cPB7n67Pu4AsXLsj2osQCEXlAwgLLdDpdNFCRBxw9PT14+umns7pE1WAjm9n3LY8fP45jx44hEomIi6o2OjqKZDKp+HRPPiyYS6fTOH/+vGKemvsiko/gHxwchNfrxcDAQNb5tLe3827paDTKu8pPnToFZPJaR0ZGFPdUXtYWK5AZ9V1XV8eDVvYc2O12RDO5qIlEAm+99Za4usJs+gaC1wYVXaNiLnUxH9x8DxdiP1Okysi7WMXRw4ce/RZCn/zPoq1zbDQ1O6fDhw/D4/EgFiveMiq30Geb0VdsxJdqD2Z1U7N6NDV/Gz//6DSMumrFeWoZJR3+5G3Ebl3l2z/06LdwIfYz3lO00GtIyGqxbteuXffEiUvlgQf+uctlIdjow9An5xbdnWt7eD92GB7TVOmWm1u3/jkHqhx4vd6SvXh9Ph8aGxsVnzkh5cdms+HkyZOYnZ3NOYiIlMZi686lVC71UDlfo0LK5foRotWytkCWi22bdqG+ulEx0pkQoh3LqRRbEwkhhKxt91UAyboU8nUliB+FFf+0dG8QstbZbDYcPnwYiURC8SkeQggha9+q6sImStT1Qcj9oZzrznKph8r5GhVSLtePEK3uqxbItWRubk6cRAhZo8r1eS+n4yqnY1FrNR4zIQwFkKvQ/Pw87t69K04mhKxRc3NzuHdv2TqLVLl3715ZBUDleI0KKbfrR4hWFECuIvPz85ibm0M6ncb8/Lw4mxCyRt27dw937twpm4Bjbm4Od+7cKauArdyuUSHleP0I0WpZcyAJIYQQQsjqRy2QhBBCCCFEEwogCSGEEEKIJhRAEkIIIYQQTSiAJIQQQgghmlAASQghhBBCNKEAkhBCCCGEaEIBJCGEEEII0aRk34GMRqPiJEIIIYQQsgIkSRInlVTJAkhCCCGEEHJ/oC5sQgghhBCiCQWQhBBCCCFEEwogCSGEEEKIJhRAEkIIIYQQTSiAJIQQQgghmlAASQghhBBCNKEAkhBCCCGEaEIBJCGEEEII0YQCSEIIIYQQosmy/0s0FRUVWL9+PdavX49169aJs1eVW7duiZMIIYQQQta8ZW2BrKioQGVlJSorK1d98EgIIYQQcr9a1gCStTwSQgghhJDVa9kDSEIIIYQQsrotawBJ3dZrm81mQygUQjQazfrzer3i4iXncDgwPj4On88nziJlKhgMIhqNYmJiAm63W5ydE7vPwWBQnLXkgsEgxsfH4XA4xFllgz2HoVAINptNnL3m+Xw+TfeIXa+VKE9rhdvtxsTERNG6d6nKprj/pdqP3HLso9wtawBJ7g+xWAxtbW2QJAmSJCESicDpdBatXMj9JRgMoq6uDn19faivr0dvb6+4CLxeb9lU0DabDVVVVTAYDGhqahJnk/tMqcqmw+HAu+++q/oHVDmqra2FTqeDJEn8eqyF8yKFUQBJllxraysikQgaGhpUtwqQtY0FY5OTkzkDR2b79u3ipBUTDodht9shSRI8Ho84m9xnSlU2d+7cCb1eL05eVTweDyRJgt1uRzgcBtbIeZHCyiKAtD28H676k3DVn0TnYz/Atk27xEVy2v9IB1/PufMV6Cs2KubLt9th+R6qdJsV88nyGR0dpZYbwm3duhVGoxEzMzPiLIXa2lpxEiFloVRls7a2dk0GWmv1vMg/W/EA8vHqPdi9+UsY+uhH6Js4gv4Pv4Nrn10WF8vp7Y8H0DdxBO99+o44CwAQ/uRt9E0cwS+mfyrOIitInqvo8/ly5knKp0ej0Zz5SSzvhS3T0dGRc76Yf5krR4odE9uWON/r9RY9HrlCy7PcGZ/Pp1iuWB6geL5i9xk7r1deeYWfSygUwosvvshzvOT7YykF+bbLjlO8FvJ18qUliOcvP1av14uenh4YDAbY7XZEc1xvtn2LxQKTyYTBwcGc10deTsRtQMV9FYnlTlxPngPJzjHXNRBzJcXrIS8P7Bi9Xm/R85Fj+aPsTyznAPDcc8/x+bmuX757D6GcisuJ+2LLFtqXnLi9XGU5FArhhRdeUNy/fNeazR8fH0d1dbW4iIJYJsRzYfJdXzVlM9+6cuyaOZ1O6HQ6uFwufo6sHIjrsXVCoRCOHj3Ky02xekQ853xli21H3G8wGMy6R/L6VV4fFDovuWJlU05r+SqkVM9tLrmuE7v28v2pOR81ZWilrXgAWaM34UZqBr+/fU2cRdYQq9WKZDKJ4eFhPs1ut6O2tpbnSrJuwWAwCLvdDr/fD0mS0NfXh7q6OsWD6Xa70dnZiXg8jra2NrS1teGhhx6CwWDg21fL7XbD6/UikUjw3M3p6WkcPXoUNpsNPp8PTqeTH09XVxfMZnPeyoQtHwqFIEkS/H4/LBZLVoVlt9tx4MABdHV1oa2tDfF4HB0dHXkrdpfLhcnJSX5Nampq0N3drVjOYDDgpZdewsDAAO9S+s1vfgMAsFgsaGlp4efY3t5ecLvhcBhnzpyBXq/Pajm2Wq1IpVIYGhpSTEeO8+/q6oLRaER/fz8cDgc8Hg+6urqQTCYRiUQgSRJ2796NQCDAt9Hb24uOjg7EYjGeUyvmSVosFkiShLa2NnR1dQEAv2eQ3dfp6Wlexqanp3H8+PG811gsd+l0Gul0GgMDA4rjA4CzZ88iFotBkuV9IfPCMJvNGBsbQyAQUF1+nE5nwfOR8/l8sFgsfJt+vx8HDhxQnJfJZMLTTz+dt3wVuvdydrsdhw8fRkdHB9ra2hCLxeBwOPgLz+FwoL+/HwB42RoZGUFnZ2fWSxEa9msymfDqq6/i3LlzkCQJoVAIdrtd8SINBoOK63Du3Dk88cQTiu3IORwOHD9+HADQ1dUFSZJw584dmEwmvgx7ubP8XCmTx83OuVDZLLauHEuJCIVCSKfTfPn29na88cYbiMVisFqtinWam5tRU1ODixcvIhKJAJlyY7VaedlKpVKK+6zlOWBlWr5fVp5ramrQ3NzMp7M6QF6no8h5McXKphwrX0ajUdXyxWh9bovV41qpeV7UPN/lYMUDyHyqdJvRYfkeHq/ew6c9Xr2HuqJXIfYwsAeTicViWS8Nt9uNuro6+P1+HlD29vYiEAjAZDLh4MGDAIB9+/YhHo/jyJEjCIfDCIfDOHHiBJLJpGJ7auzbtw+pVAonTpzg+Tutra2w2+3YunUrGhoaFMcTCAQwMDAAs9mc9VIAgPb2dkWF6fF4eKAkr7BisRg6OzsRCAQKBmuQ5Ri1trYCmWsyMjICs9mcVakEAoGceYXJZFJxjlCx3UuXLiEej6OlpYUfu8PhQENDQ9b9lM8LhUL8/Nn10uv1OHTokGL5xYhEIjznKhAI4Ny5c4qX3L59+zA5OcnPDQC6u7uRSCRyHofVakUsFsPZs2cB2bWIx+O4dOmSuDjC4TAuXryY9WJl2x4aGuLXQ035KXY+jM1m44EJ26bH48kKwouVr2L3Xr4d8TlLpVLYt28fkDnfRCLBl0HmGZicnOTLyKndLws+2DmKQVWuusLj8SAUCvFtiNi9OXbsGL9W3d3diMVifBkWAMl/sJw+fRqpVCoroBMtZl25cDiMaDSKuro6RRlh9R4ro8iUG3Ytcz1rWp6DcDiM2dlZVFVV8ee9qakJqVQKiUSCnwMrg9PT01l1gBrFyqZcIBDA7t27efkutnwxap5baKjHtSr2vKh9vsvBigSQ+oqNcO58Ba76k9izZS9qN+7AXz/2t3DVn8T+R5TdkGT1Yd06rOmd/RqV/wIFgNnZWUUwgwK/aoeHh5FMJmG1WvkvxVzra8W2la8ibGpqgsFggNPpVHQnuFyusszvSafTefMKE4kErl+/Lk4uKFdl29TUBL1ej9HRUXHxvPNYILrYylctdl8tFovivg0ODipam+RmZmYU58kq8kLlbHh4WBEciC/WpSg/LLgoRWvIQly/fh2JRAJVVVV48cUXIUlS1jPPjm8psWuer7yL2L1ZyHOwEoaGhhRli5XpaDSatzwCwJUrV5BKpVBbW7ug52B0dFTxHFitVvz2t7/Fb3/7W/78spZQ8TlfLYo9t0uF7afQ87LSz7cWKxJApuZvw3/lFM9fnLl9FW9++Cr6Jo7g7Y8HxMXJKsO6daRMd4n8V9xCsZeWnNoXhxqFtiXvhpH/iV2qcg4h56gUL1PWPca2abfbxUUWpNh2xcrWarUWHT0tYi0by411P4l/ucpje3s7RkZGeM7W4OAgjEYjTp8+LS7KBQIBTE9P8y8M5HqxLqT8FNPe3g6/3w97Joc0Vw6VGsXufS657iVrmRH/5K1ecgvZby6pVApXrlwRJxdU6AeBnDz/jeXsqrWYdRlWtqRM0MZa23Kljcjlqiu1PAfy593hcGDLli0YHR3F6OgojEYjmpubUVtbm/OH/lLyyfKDXS4XdDqduIhqap5bLFE9DhXPS6me76W2IgEkIVqxUbtLpdCISp1OV3C+yOfzoaenR5FTyfKVFsrr9fKAhuVuFeqqU0vNdgOBAMbGxtDQ0ACv14u6urqsirYYW+azPctNy31zu91oaGhQBHtquo3Onz/Pu9OsVmtWF6PW8qMW6wpeaE6YmnufC7uXs7OzPL9W3uVZzEL3u1xYcCvm8apJj1nMurmcP38eNTU1eO6559DS0qKqhSzXFw60lD8WXNXW1vLu60uXLuHSpUtIJBKora2F1WpVdSylwII4e4785MUo9twuRT3OqHleFvt8LwcKIElZGR0dzZnbwroCR0dH+S9sqUh3KOvKKfS9NlZZivlXjLzrXA3WRRHKJPyraelQw2q1IhKJqApotFC7XXZfvvKVr2RVtHJiayXDfuFHi3S/lUqx+5rLQj87Is8TbWhoUJyj1vKzECzNQK/XY+fOneLsvNTeexG7lzMzM7y7TcwnK2Sh+xVNTU1p+jQYazktViaam5thNBrR19eXs4WukMWsmwsrW08//TSMRiPOnz8vLpKF1ZVTU1MLeg6Qed7NZjNaWlp4iy271y0tLTCbzZp/RC4Uu79dXV08J7AUCj23C63HZ2ZmYDQasXXrVnEWIOue1vK8LPT5Xg5lG0DeuXsLybk/okb/eZ7Gtk278JTp6+JiJcG+JykfsENWRm9vLyYnJ+F0OvloS7fbDYfDwQc4sAfKZDLxQThspKG8q4gFmo2Njbz5n43wlmO/ROUjXtnnGK5fv46xsTFYLBY+apa1MuT7FAYAxUfT2UjRxZIn1Pt8vqzzWCg122X35cEHHywYBLLWSrvdzvN3HA4HOjo6kMozajsf9sJnFfLrr7+e93rnwu6rfLQp6waTj+RlWPDLurDZX6H7DNlLwWQyZeV/suuhtfwUwtaXb6+lpSXvYJ9C1Nx7k8mEl19+GchzL1munnwUKevCzZfDpWa/xbDRtA7ZCOdcz7ec+Kw7MiNixXxAvV7PBwA5MiO35XVLobJZbF3R1NQUb6V2u9147bXX+DxW1xkMBiQSiZz312Kx5K0rsYDnAJlnAZl7Ly/PU1NTvJwXSvtBkfPSymAw8EEu7swXOBbThY0izy2jtR5nP2peeuklIM97qdjzUsrne6mVbQCZmr+NsRu/xJ4te+GqP4nWbW24EPsZ0vMpQDZKWxyIw0ZpywfqPGN+HobKanxD+m7OD5VHE+MAgIbNX876GDlZfq2trbwbKJrJd5mcnFT8EmSjLVlyeEdHB374wx9mjaZkI0ZZUDAzMwO/3y/b2+fBUX9/P2pqanhic1VVFd566y1Alo/C9sW6306dOqXYDjL7ZCMEe3p6EI1GMTo6mrVPrdhITnYeANDX14dU6vPnYaG0bHd0dBTJZLJoECjm77BuIDbqUgv28uvp6cGzzz6bNWq0kN7eXt5iwe4F6wbL1RX10ksvKT51wrrK9Ho9fyHkMzQ0hGQymTM3VEv5UevMmTN8QMXg4CAAKEZ1qqH23sdiMezYsYPfSwijmAOBAP+kFtsW68K9cOGCYlvQsN9i1D7fcr2yLzoMDg7C6/ViYGBAUR7YqHB2v44fP45jx45llZlcZVPtunIsEHY6nXC5XPjqV7+q6FlhrdgXL17MeX+vXr2KlpYWRDN1pfzrFFjAcwBZC7746TV2LGqCmVznVegTS/mw0c+sPjl8+DA8Ho+irl+ofM/tQutxNe8lNc9LKZ7v5bBu165d98SJS+WBBx4QJ5WFKt1m/EXdtxG7dVXTIJ5bt26JkwhZk2w2G06ePInZ2dm8AyNWM9ZSdO7cuaxuMtYSsBbPuxB2z1GmL6/7hc/nQ0NDgyJoh6zMTk9P33dlk5SHsm2BXE5PPmiDobKat0QSQpRYbpeaHKzViKU7iB/rDQaDqKurW7PnTcoby8XL9c1VQlbafR1Asm5w9k8pfnDzPXERQu57NpsNhw8fzpuDtRaEw2EcOXIEiUSCd1lFo1GYzWZ4PJ6sbmlClsPLL7+c8/MyhJSDZe3C3rhxI9atWydOXrWoC5sQQggh96NlbYG8e/euOIkQQgghhKwyyx5AUhBJCCGEELK6LWsAOT8/j7m5OczNzeHevWXrOSeEEEIIISW0rDmQhBBCCCFk9VvWFkhCCCGEELL6LWsLZLl+SLxc3Lt3j+eJzs/Pi7MJIUS1devWobKyEpWVleIsIqDUKkK0oxbIMiKv8Csq6NYQQhZm3bp12LBhAwWPKlVWVmLDhg1r6jNzhCw1ilLK0Pr167F+/XpxMiGEqFJZWUnBkEbsBzwhRB0KIMsUBZCEkIWiQGhh6LoRoh4FkGWKWg9WlsPhwPj4OILBoDhrUdxuNyYmJuDz+cRZmrFjZNuy2WwIhUIIhUKw2Wzi4mXD6/ViYmICbrdbnMXPwefz8fPzer2KZbxeL/+nBqPRaN75bHopr3k+S7UPt9uN8fFxuN1ueL1ejI+PK/6tblLeWLkQy+ha5/P58j7jZO2gAJKUFYfDgXfffbdoxeP1eksWKJVyW8XU1tZCp9NBkqSS72/r1q0wGo2oqalBc3OzOHvB1N6T5eD1euF0OhGJRCBJEiRJgsfjERcjpKSWs45YTdgPvvstQCafowCSlJWdO3dCr9eLk7Ns375dnLRgpdxWMR6PB5IkwW63IxwOi7MXJRAIYPfu3aivr0dvb684e8HU3pOlkEqlMDMzA2ReVi0tLYhEImhtbRUXvS8kEglcv35dnEyW2HLWEasJ+9FK7k8rFkDaHt4PV/1JuOpPovOxH2Dbpl3iIjntf6SDr+fc+Qr0FRsV8+Xb7bB8D1W6zYr5xVTpNqPD8j2+DdvD+8VFAADbNu1C52M/yJqvr9gI585XsqYTdWpra1UFK7W1teKkBSvlttYitfekFMLhMGZnZzE1NYXr168jkUjweexlxQLK+8GVK1eQSCRw5coVzMzMIJVKiYtowuqtYvWbqFi9Km738eo9ivnFqK13Wf2aq+7f/0gH9j/SoZhWKlRH5LaSPy7JyluRAPLx6j3YvflLGProR+ibOIL+D7+Da59dFhfL6e2PB9A3cQTvffqOOAsAEP7kbfRNHMEvpn8qzlJlNn0DA5G/wZsfvoqZ21fF2aSIYDBYMD/N5/Mp5ov5e06nEzqdDi6XSzGfYTlFFosFJpMJg4ODWbk24j7y5TGq2RaE7eXKQWO5eoWWYcRcOXmeX7H9sHXZMh0dypdlvhxIMWdQvB757pmae1Js2xCuH7vehbS2tsLj8SAcDuOpp55Cb28vvF4venp6YDAYYLfbFfuMRqNZ56wGO79C11osn/LzEMuJXL7cN5/Pl7W/QuUnEAjAbrcjEAigt7cXTz31FG+5DgaDWdsqpEq3Ga3b2jB+41fomziCvokjCH/ytrhYTsXq1WufXUb/h9/BT6LfR3Lupji7qHKtd4vVEVrLBWTblN87sc4S6z01zxkj1hPyZ0OeYyzfZq7jFs8tKtTnwWAQLpcLOp0OTqcz53HV1tYqyrZ4Xihy7vI8b/ly4nOFHMcrnpM3k3v92muv8eXYPWDP5SuvvMKPl123QttlxyQeT766eK1ZkQCyRm/CjdQMfn/7mjhr1WAVptoK+H7g8/lgsVjg9/shSRL8fj8OHDjAK8lgMIjGxkb09fVBkiT09fWhsbERPp8P4XAYdrsdoVAI6XSaL9Pe3q7YR29vLzo6OhCLxRCLxdDW1qbosg0Gg7Db7fwY+vr6UFdXl/NBLrYtALBYLJAkCW1tbejq6gIAHD16lG/LnRncMD09zXPypqencfz4cdUvdgBwOp1F99PZ2Yl4PI62tja0tbXhoYcegsFgELak5PP54HQ6EQqFIEkSurq6YDab4fP5eCVXV1fHr3ckEoHD4YDb7S56T9i22bVm25a/RHw+H9+GJEno7+/HF7/4RdkRquPxeNDV1YVkMqnIf2xra0MsFhMXVyUcDuPixYswGAxoampSzLNarUilUhgaGoLD4UB/fz+MRiO6urrQ1taGeDyOjo4OTfc4l4WWH5vNhqqqKuj1euzcuVOcndPnrYbrMJmcEGetGqn52/BfOQX/lVNIzd8WZ5dcoTpiIeXC4XCgo6MDk5OT2L17NwKBQMF6EZky4nA4eLlnz5kYtCATJLlcLkxOTvJt1dTUoLu7W7Gc3W7HgQMH8h63eG6SJCGU+THJjqu1tRV+vx8AeB0gTy1hgeW5c+f4+na7PSsILXTujN1uR21tLX9GxLxn8XhznRMyx/TNb34TFy9ehCRJ/B4AgMFgwEsvvYSBgQFImTSjrVu3FtzuG2+8gVgsBqvVKjsaoLm5GTU1Nbh48WLJU5XKyYoEkPmwbgx598fj1XtydpmsFLVdLQzrchG76eVd8eV0fgtls9kgZQIQ9nB7PB7+gLrdbpjNZvT39/MArbe3F4FAAA0NDXkrXC3cbjfq6urg9/v5MbB9mEwmHDx4UFylqEgkwvMVA4EAzp07pxiksm/fPkxOTioqzu7ubiQSCRw6dEi2pcLU7Ccej+PIkSMIh8MIh8M4ceIEksmkuCnO4XCgoaEBkUiEB30sT7K9vZ0HiPKg+fTp00ilUlkVoohtW36tA4EABgYGYDab+UuvoaEBoVCI75/dj3Jx9uzZrBcAO+6xsTEEAgF+zVhZDofDOHPmDPR6fVbgqdVCy0+ue7dQq6HehYr0JRFbXn5epax3tZYLm82Go0ePIpFI8IBOTb3IfsycPn0akO1XDKIgy7Fm5am3txcjIyMwm82KOjYWi6GzszPvcbOyd+zYMf68tre3IxKJqK6v2Y9OdpxisKXm3JlYLJYVBMtpuRehUCjntUNmO/Lnqdh2w+EwotEo6urqFK2drL4+e/Ysn7YWLVsAuWH9A3DufAWu+pPYs2UvajfuwF8/9rdw1Z9csryVpaClq0VfsRFfe/QlJNI3Fd30+x/pgFFXjTc/fBV9E0cwcfNd/EXdtxdVma009iBZLJasX4/ItOgYDAbeDcr+nE6nuOiCsYp2eHhYMX14eBjJZLJoUKSVw+GA2WyGxWJRnNPg4CBMJpO4+IKx/czOzmr6NdvU1ASDwYDR0VFx1qKxbbOuK/bncrl4ThRbZmpqSly9bLByK3/BNjU1Qa/XL8l1k1uu8sPyFw89+i0YKr+AQ49+qyQB1HIrlr4kJ69jP7j5Xta0lah3u7u7YTQaceLECf4cq6kXR0dHodfrFT0SS4k1BkxPT2f92BsdHc3ZYr8Qas6d0Vr3FZKvPkqn0wvKrx4aGlL86GbPdTQaLdkxl6tlCyDv3L0F/5VTvAKYuX2VP8hvfzwgLr7qVek249/u+g9IpG8qzq9Ktxk1G0z41cxZ3gXz/h8+L2RqBxKVq/b2dvj9fp6jJuagJJNJ3h0i/5N3IywFcTBGqbHuWfFP7H5frIVUbmoqRXkuFMszVEPerS3/k7eKqdn/SmMvaNbqYrVaEY/HcenSJcVy8hwslvtVCktdflj+4tBHP0Jy7o8893wg8jeYTd8QF1/VNqz/vMfHqKvGzz86zevYpax31ZQLp9MJi8WCc+fOZdV1xerF3t5eeDweGI1GDA4OIponl5ARc/bsdru4yILNzMwgnU6Lkxes2LlrpeZeLESh7QYCAZ6CYrPZeHA9NDQk28LatGwB5P3msS9Yoa/YiF/fuKiYXqXbrGgFcNWfxDek78JQWa1YbrViXShirggATflapbTUn5oo5xGaOp0u7/GxF42YI1moW1yu0LZXk97eXp4z9sILL8BsNitylxyZRH4xt7ZUL9K1cA3LxSObLKjduANjN36pyJFcinpXS7nw+/2K/GI5NfUi60qV8uQSMl6vF4ODg1m5i6XCvmNbKmrOXQ0t90ILtds9f/48ampq8Nxzz6GlpSVn6+1aRAHkEnnv03dwIfYz/Pn2FxW/cGfTNxStAPI/1tWyFoQzAxRYBcG6A0vdjSzHWpLE7pWl6splvzzF/KJSYy2o7BeuWsW67pubm2E0GtHX16e5tavYtiFrMS20TLkYHR1FTU0N/vIv/xLInB/DylNXV1fe3CnRlStXkEqlCn4/cLnKz/3k8uz7GProR3jK9HVF7uNS1Ltay0VraysmJycVP6oXUi8ODQ0hmUzmLFtWqxWRSGTBLXjIk9bBWK1WJJPJrDShhVjIueej9V6opXa7ly5dQjwex9NPPw2j0Yjz58+Li6xJZRVA3rl7C8m5P6JG/3n+z7ZNu/CU6eviYqvGBzffw/iNXymCyNn0DcTvxPCl2oNFk8BXE9aaxUbg2jIffWZdgayVx2638+4X9usuJBshPTU1xVu23G43XnvtNcV+IPtWoNFoxNatW/H666/D4XDwfTidTv7rnA3miMViOROa821LrfPnz0Ov1ytGzbLujlwtBAvBgnGTyaRIvvd6vQW7mwOBAMbGxhR5qeyas//W6/XYt28fn3f8+PGsbea6J/Jty+95SPZZHPk9Z9eCjdwuN8PDw0ilUtixY0fO1gODwcC7uNmI+EItMSzob2xs5C1O7AsBcgstP+K1Xoy1Vu9e++wyLsR+hmfMz/MgcjH1bqE6Qmu5YAOkWD6jmnrRJ3z66dChQwVzdOUDOnyZryBoxbpfxXJpsVj44DLIurS3b98Oh8OB119/XbGdQtScuxZa74VaarbL6miDwYBEIpGV/rJWlVUAmZq/jbEbv8SeLXvhqj+J1m1tuBD7GdLzn388Vz4CWj4QhyWDsxHPrvqTeMb8PAyV1fiG9N2sEdCFPF69B676k/jrx/4WtRt38GNhA32KzReFP3kbV5O/w6FHv8VHbL/98QAS6Zt8ENFqTGjP5cyZMzx5eHBwEAD4qGFkfoGz7heWb5dIJPDWW2/xbbBRsU6nEy6XC1/96ldzViTsxdvT04Nnn32WP+BsH2xwB/ukhb3Av/ySb1tqsPwkAOjp6eE5R6zLqlQ8Hg9CoRAfcNHR0YEf/vCHRT9h097ennXNx8bGcOHCBT5Ck23z+PHjOHbsWNZx57snLOeVrc+6zk6dOsXX7e7u5utGo1HU1tair69v0R/ELjUWEKfT6azWA4/Hw0fJR6NRHD58GB6Pp+C1D2dGyadSKT5IYGZmhn/2hFlo+WFBTSm6AIvVu2rqVTZQh3ULP2N+Hi4VX6lgitWrxep+0Qc338N7n76DZ8zP820spt7NVUcsplwYjUYMDAzA7XYXrRcvXLiA6elpXj4aGxsVI5fl2FcUWJkDsKDnLRAIoLOzE4lEIqtcynsr5EFgT08Pnn76aU0/aIqdu1oLuRdqaNku65VZ65/ukVu3a9eue+LEpfLAAw+Ik0gBt27dEicRQgiQaYX89//+3+M//af/lPXCorp24ajeJQvh8/nQ0NCg+PTRWldWLZCEEEKKs9lsOHnyJCKRSFbwSAhZXrbMp4/k3fv3g/uqBXL/Ix3YVfWkOJm7PPt+WX1SiH4JE0IWYqXrWjmqd8la5/P5CqYWrFX3VQC5mty7dw+3by/9P9VFCFl7qK5dOAogCVGHurDL1N27d8VJhBCiytzcnDiJqEDXjRD1KIAsQ3fv3qUAkhCyYHNzc7h3b9k6l9aEe/fuUQBJiAYUQJYRVoHNzc1hfn5enE0IIarcu3cPd+7coYBIpbm5Ody5c4eCbkI0WNYcSEIIIYQQsvpRCyQhhBBCCNGEAkhCCCGEEKIJBZCEEEIIIUQTCiAJIYQQQogmFECSVcFmsyEUCiEYDIqzVpzX68XExATcbrc4a9Xzer2IRqP8z+v1KuYHg0GMj4/D4XAAANxuNyYmJuDz+RTLLYTP51Nse61jZTwajWo6b3aPxHtDAIfDgfHx8bKsN5baQupMdr1K8fyStY8CSEJITl6vF06nE5FIBJIkQZIkeDwecTFSAuzftjYajejq6sLu3btz/pu6Pp9PU0BAyHLwer0IhUKw2WziLE0cDgfefffdNfljfC2iAJIQksVms6GlpQWRSAStra3ibFJiW7duhdFoxNjYWM7AkamtrRUnEbLitm/fLk5akJ07d0Kv14uTSZmiAJIQkoUFNDMzM+IssgTYi3NqakqcxdlsNlRVVYmTCVlxpfphU1tbSwHkKkIBJCkplgPHcubk3RosJ8fn8yly63LlD7JcnHy5dyKfz4dQKASHw8HzyKLRqKK7T57f4/P5srYtz0ET58nJ152YmIDFYsmaL+aw5ctHEnMMSz1frtC9kfN6vejp6YHBYIDdbldsv9B6hcivWTQazZljFQwG+fzx8XFUV1eLiygUOh/59ZZfI5/PV3Beoe2y8pPr/IvlIYrnL79PPp8PLpcLOp0OTqcz61yQ2f7g4CBMJhMsFgu/RvIytmnTprxln9FSXsTnQXxOi81nz+Rrr73Gryc7L/lxiOeBHM9/rmXk5GUnmuc+yO9Bru0VujbseLxer2I58Zzlyxbal1y+8oYlrjORY98dHR3iIgXvM1vfYrHAZDJhcHBQMb/QunJsOafTCZ1OB5fLhWg0irNnzyIUCuW8hmzfPp9P0/0pdJ+JNhRAkpLxer1wuVyYnJyEJEno6+tDTU0Nuru7FcvZ7XYcOHAAXV1daGtrQzweR0dHB68gHA4Hjh8/DgDo6uqCJEm4c+cOTCaTYjsik8kEr9eLM2fOQJIkhEIhWCyWrGDFbrejtrZWkdfncDjQ39/Pc9DY+k6nU7G+z+eD3W5HKBSCJEno7+/HF7/4RcX21fL5fHA6nXxbXV1dMJvNfH9svt/vV8xnFZ7b7YbD4eA5imx+rheH2nsDAB6PB11dXUgmk4r8x7a2NsRiMXHxooLBIBobG9HX18f33djYqLiuwWAQFouFn+u5c+fwxBNPKLYjp/Z8LBYLWlpa0NbWBkmS0N7eXnBeoe0GAgGcO3cONTU1aG5uVuzHarUiFovh7NmziunInJvdbufn1tfXh7q6Oh4otLe3o6+vD+l0mpcFu92OcDjMt5Hrnoh5ks8++yyi0SgkSYLf788q+8XKk6i7uxs1NTX8vo2MjODw4cM8mJY/L7meY2SeycOHD/PjNxqN8Hq9eOaZZ9DV1YWuri4AwNGjR3nQ5Ha74fV6MT09zcve9PQ0jh8/nhVEIHNe8rLj9/tx4MABxbIWi4WX4Vz7FJ/FXNcPAJxOJ6xWK79+qVRKcc5aj71QeZNbijrT7Xajs7MT8XgcbW1taGtrw0MPPQSDwcCXKXafe3t70dHRgVgshlgshra2NtTX16O3t7founLhcJjXq+l0mpe5gwcP4syZM9Dr9WhqalKsY7VakUqlMDQ0xKcVuz9anwFSGAWQpGQ8Hg8kSeI5c729vRgZGYHZbFZUGLFYDJ2dnQgEAgiHw1kVxKFDhwAAx44d4y/I7u7uosFLOp1Gf38/ent7AQDt7e2IRCJoaGjI2r9YQefap7i+w+FAQ0MDQqEQD0R6e3sL5qzlw7YViUT4tgKBAHbv3o329nY+3+/384ErgUAAAwMDMJvNcLvdvAI9ffq0Yv1cA13U3ptSc7vdMJvNivvCrhm7rm63G3V1dYpz9Xg8CIVCwtb+mdrzSSaTOHHihCIYKzSv2HaHh4eRSqWwb98+vg47/osXL2btJ9e5sfM3mUw4ePCgYvnF8Pv9vCx5PB4eaLKAr1h5knM4HDCbzRgZGVE8TyywZWWNBbG5nmNknsmBgQEEAgEEAgGMjY1hx44d+MUvfsGniUH5vn37MDk5qci97e7uRiKR4M8pY7PZIEkSIpGIouyIwXUkElEcu7jP9vZ2SLIfGOL1k2+HHRe7fnq9nh+XlmOHivLGLEWduW/fPsTjcRw5cgThcBjhcBgnTpxAMpnky6i9z7ksZl25S5cuIR6Po6Wlhd8LVp7FnOFC90frM0CKowCSlBX2QkgkErh+/bo4W7OZmRno9Xrs3LmTT5udnVW86Nk+p6enFZURAIyOjsJgMKCpqQlNTU0wGAwF89TUYtsaHR0VZwGy+axLk/25XC6eIzQ6Ogq9Xq9oSSk3VqsVBoOBd0mxP6fTqVgGmXtVaoXKUaF5+bAgSP6CZ4H88PCwuHjeecPDw0gmk/zcl5qa8iQXCAQwPT0Nu92es0V7oaamppBOp/Peaxa4sm569se670XhcBjRaDRna+FyuHLlClKpFGprazUfe6kspM5kxyrWheUoHA7j4sWLioC/qakJer0+b/3JyO+P1meAFEcBJCkpMefFbreLi6hSqoptscHezMwM0uk0/+9CLz+tim1L3pUj/2NdRL29vfB4PDAajRgcHEQ0T24hU6p7o1UymeTdavI/eStRKpXClStXxFULWqrzKbZdFrg3NTXxl7fYElLM9evXkUgkxMlLqlh5ErW2tvI0jmieXD6fLK+Q5XGWAutKFv/kKQhMe3s7/H4/z9fNlfemhkPIIRRzm3PJdR+1HDtUlDe1FlJnFqp/5BZznxezLsNa/tkPLqvVisnJyZzlVk68P1qfAVIYBZCkZLyZRH8xj3Albd++fUHBCVNbW7ugCk8NnU5XcPRisfmQdROxa52vxWgl743YAlwKS3U+arbb29uLyclJtLS04LnnnkNNTU3RlhARG+W+nNSUJxHr2hXzBlmwJeZ2yn9sLYbW42RdwYXy7Arx+Xzo6elBIpHgObGRSERcLEuurxVoOXY15W0lLeY+L2ZdEWv5b2hogNfrRV1dnapnTrw/C3kGSH4UQJKSsVqtiEQiWflHWoTDYczOzmblAC2E2q4d1g2Wa59WqxXJZBLDw8O8EirW7Tg1NVU0aCrWhVlsfi5DQ0NIJpM5v8lWinuzEKySL3QeU1NTPE1AraU6H7XbHR0dRU1NDZ5++umCLSHy1kq5YikMpbaQ8iTHXuBGoxFbt27l59PV1ZUz53ahWNd5rmdRDdbdWez5k2P1BPsBpqUVT57WspBjV1veCllIncla5iQhx1O0mPu8mHVzYc/SV77yFcTj8ZwD1kTy+7PYZ4BkowCSlFRdXR3vPvJlRixrdf78eUVunyMzmq9YHpFOp+OjRJFJIjeZTDkHN4jYSD75aEk2upN1T7KWJ3krHxvVJ8cCTXHEqvz42QtZnrvFfrH7fD7FfDZCkHV1sa5En/C5oEOHDhXMCyrFvdFKfs3E8wxlRiGfPXsWsVgMjsyAGshGLheyVOejZrtnz55FPB4vGgSy83c6nbzMuDOj5/ON2s6HvfSrqqpgs9nw5ptvFnz5y6kpT3Lyssj+u6GhQZEnbDAY+OANNqK3FK317PkXn8Vojk/TsHOQn1NLSwvi8TguXbqkWLYY+WA79lUAkcViKXgftRw7o6a8FaO1zmSBtslk4gMK3ZkR5PJR2FBxn1kAy35cvP766/zci60rmpqa4q2Ebrcbr732Gp/HnqUHH3wQ0Wg0Z51e6P5ofQZIcRRAkpI5ffo0UqkUHzABAH19fUilUuKiBclHqQ4ODsLr9WJgYKBol1I6ncbHH3/M8wHZpz3U/PoNBALo7OxEIpFAT08Pz0WSj2yFbGQjywurra3NOke1x9/e3s5bPaLRKHp6ejA2NoYLFy7w+exzItFMMr7RaMSpU6cAABcuXMD09DQ/3sbGRsVoZ7lS3ZuFYLl08vNMJBJ46623gMwL6MSJE4rjm5mZgd/vFzfFLdX5qN0ua7VWEwSKuYTssy1aW7vkL/3BwUHs3btX0yjuYuVJdObMGTQ2NvJ7Nj09zUe4slHK7J6yT/UUGvWrFsvtBZD1LIrPEDLHaTab+TkB4COL1QjLRgez/Y2OjuYsf1evXkVLSwu/j/JRzFjAsastb8WorXPkPJkvHbDy0NHRgR/+8IeKe6j2PrMAtqenB88++ywOHTqkel059mPS6XTC5XLhq1/9quJH0ujoKJLJpOLTPXLF7o/WZ4AUtm7Xrl33xImErDY+n69gAEVIKTky390bGxvLOziCrB3sfsuDaLK8bJl/L352djbrHtD9WRnUAkkIIRqx/K58LSGEkNJqbm6G0WjE+fPnxVlkhVAASQghGjgcDhw4cCDnd0MJIaVns9lw+PBhJBIJzbmtZOlQFzYhhBBCCNGEWiAJIYQQQogmFEASQgghhBBNKIAkhBBCCCGaUABJCCGEEEI0oQCSEEIIIYRoQgEkIYQQQgjRhAJIQgghhBCiCQWQhBBCCCFEEwogCSGEEEKIJhRAEkIIIYQQTSiAJIQQQgghmpTs38KORqPiJEIIIYQQsgIkSRInlVTJAkhCCCGEEHJ/oC5sQgghhBCiCQWQhBBCCCFEEwogCSGEEEKIJhRAEkIIIYQQTSiAJIQQQgghmlAASQghhBBCNKEAkhBCCCGEaEIBJCGEEEII0YQCSEIIIYQQogkFkIQQQgghRJNl/6cMKyoqsH79elRUVKCionzj11u3bomTCCGEEELIcrdAVlRUQKfTobKysqyDR0IIIYQQkt+yRnGs5ZEQQgghhKxeyxrNVVZWipMIIYQQVRwOB2w2mziZELICljWAJPcPt9uNiYkJRKNR/jc+Pg6HwyEuSlYRn89X8D6y++71esVZC1ZsmzabDaFQCMFgUJwFAPB6vYhGo3nXZ4qd21IIBoPLvs+VoPYeFPPSSy/h5MmTOYPIUu1jOTkcDoyPj+ctu6XE9uXz+QDZcxMKhXJez9ViJZ8hNXWGz+dTvAdXU/kshgJIUnLBYBAulwvxeBxtbW2QJAldXV0AgJ6eHl6BLQev17vqK8hyYzAYcPTo0WW/pg6HA263W5xc1Pbt2wEAVqtVnLVscpVDm82GqqoqGAwGNDU18ek+n29ZAorF0HqMpbgHbrcbdXV1uHjxIsLhsGKez+eD0+lUTCs3Wq/ZUtu6dSuMRiNqamrQ3NwsziYlEAwGYbfb4ff7IUkSQqEQnE7nsr4DlxIFkKSkgsEgLBYL/H4/7HY7r+gDgQB2794NSZLQ3t4urrZk2IuLlJbJZEJ3d7c4eUnpdDp0dHQU/LWfS3t7OyRJQmtrqzhr2eQqh+FwGHa7HZIkwePx8Om1tbWK5cqR1mMsxT2wWq2Ix+M4e/asYrrP54PdbsfVq1eRTqcV88qJ1mu21FidXF9fj97eXnE2WSSv18vfhez5bm9vRygUQmNj44J+DJcbCiBJybAWgkgkonghrqRyq7TXEovFork75oUXXsALL7wgTsYrr7yiKjA0GAx46aWXxMllT205ZK2S5WwljtFms0GSJESjUUXrIwseQ6EQ/u7v/k6xTjlZiWtGVpbVakUymcTw8LBi+ujoKJ+/2lEASUqGPRDnz58XZ+XE8kdeeeUVjI+PIxqNKrr5WE4T+8vV/RMMBnPml7C8OYvFApPJhMHBQUxMTCh+9Ym5KcW6FfLtKxcxB1TsvhTnv/766wiFQvwY8uX95cq5KXSd5PmB8uXk56r1OiSTSbzzzjuAxm5lm82GF198Ef/hP/wHxTperxff/va3iwaG77zzDpLJJCwWS9FjlMuXGye/n+Pj46iurlbMhyxvTL4cu/bs2vp8PsW1lZezYuVQnr/l9XoxODgIk8kEi8XC9/fTn/40733Jl//l9Xqzni22nLzsic8EcpRN8ZnMdYzs+CcmJvDaa68hFAplzWP3gF03cd9seq7zaW5uRk1NDaamphTTWctmsV4NLc+ueM/F42TX9oUXXuDnGc1TP6HINZOTP4e55ovHlWsZOfE+dnR0KOaz6y3WTYXqE+TYrvyPXVe27Vzz5PMLPTuMuD/xeIsRj0Xch8/nQygUwgsvvKC4vvmeNzZ/PE+dAdkPhunpaQQCAcW8S5cuIR6P8x+VxY6vnFEASUqmtrYWqVQKV65cEWflxVqUBgYGIEkS7/b2ZXKaWO5IV1cXzGYzr8zYQ1dXV4e+vj5IkoRIJMJfkL29vejo6EAsFkMsFkNbW5uiqyYYDKKxsZGv29fXh8bGxpyVRrF9iRwOBzo6OngOaFtbGwDg5ZdfBjIVYmdnp2J+Y2MjTCaTsKXi2HUKhUKQJAl+vz9ngGWxWNDS0sJzUtkLV8t1kPuHf/gHRCIR6HQ6HD58WFWFzrpsR0ZG0NnZCbfbDa/Xy+9zse7NTz/9FOfOnQOARXcByVMtJEnCuXPn8MQTTyiWYcc3PT0NSZIgSRKmp6dx/PhxxYvbbrfjwIED6OrqQltbG+LxOO9qL1YO5TweD7q6upBMJhGJRCBJEnbv3o3nn3+e/7f8OjscDpjNZoyNjWW9pCA8W21tbUgkEjh69Cj+7b/9t+jv7886VmSCB5fLhcnJSV4eampqeLpCvmNk+9fpdPjmN7+JixcvZs1jwuEwjhw5gng8rig7L7/8MoxGI44dO5a1DgCkUinMzMyIk4vy+XyKe+33+3HgwIGcwRe754lEgj8rk5OTcLlcigDIYDDg1VdfRTQaLfjcQcU1Q+b5lCQJbW1tPF9cnmestiwyueqYhx56CAaDQVxUoVh9wuo2Vj7a2toQi8UAAKFQCB6PBw6HA/39/TAajejq6oJUIPev0LMDFeWxGPFYcu0DmZScV199FefOnePHa7fbFfdcTZ3BsPzSXMLhMGZnZ1FVVQWbzYbu7m7U1NTwOnhkZER1nbrSVjSA3LZpFzof+wFc9Sfhqj8J28P7+Tzbw/vRYfkeqnSb+bQq3WZ0WL6Hx6v3AAD0FRvh3PkKX9+58xXoKzby5cnqEAgEFC9Uh8OBhoYGRe5IIBDAwMAAzGYz3G43D0bkL+PTp08jlUoV7Rpwu90wm83o7+/n6/b29iIQCKChoSGrQta6r6amJuj1epw5cwbhcJivz4K2ffv2IR6P48iRI3z+iRMnkEwmxU0VJbbAeDyenMFGMpnEiRMnFN1/Wq+DqLu7G7FYTHM+ZHt7O0ZGRuByuXjwqDblwePxIBQKLTgfEpnzrqurU+yXbVdu3759mJycVAS23d3dSCQSOHToEJ8Wi8XQ2dmJQCCAcDiMM2fOQK/XKwbGLNbo6ChMJhMOHjzIp7FjGBoaki2pxJ6tcDiMixcvwmQy4be//S2fJh6rx+OBJMtV7O3txcjICMxms+przQKJQti+a2pq8PLLL8PtdqOxsRHnzp3LGTyy1hotP04h6/qWp9V4PJ6sAI4Rn03IynlLS4vimfL7/UWfO7UikQj/8RwIBHDu3DnF4Ba1ZZERz0NtHVOsPmF1G+tlYvcxmUzyrll2PPIfAu3t7YhEIln1SrFnZ7HlMZDJ82T3O9c+ACCdTqOvr4+XkTfeeAOxWIzX72rrDFGxHzxf+tKXYDabMTIywuvg9vZ2xfiBcrZiAeS2Tbvw59tfxIXYz9A3cQQ/iX4f9dV/yoPI9//w+cXbtmkXX+fJB21Izv0R/zT7G+grNuJrj76ERPom+iaOoG/iCBLpm/jaoy9RELmKpNPprIesqakJBoMBTqdT0QXicrmg1+sVyy6E1WqFwWCAy+VSbL9UoziHh4eRSqVyBjiOTKvR7OzsslYQiUQC169fV0xb7HWQv5Tytb7kw7oic+UIFcNeRmw0+NatW8VFCmIvBbHcybH7xLoc2R/rilxuZ8+eVbzQWGCUq4ssn5mZGaTT6axu4FJTu30WDNjtdt7KVCzw1CocDiMajaoqn+yeR4U8S7aNlRqtrLUsLmUdw54Z+Q9n9v+vXLlSsFyOjo5mfXFgtVBTZ+RSLPf5V7/6Faanp7NaO1eLFQsg6wz1uJr8HT64+R4AYDZ9AxM338UOw2PQV2zEbPoGYreuQjLuBjKtjTsMj+Fq8kOk5m/joY3boK/YiF/O/Jxv89c3LsJQWY2HNm7j08jymZmZgV6vx86dO8VZmrFfhFKmu4b9id1/8vyZnp6eol00TDKZ5N0r8r98LRPQsK9AIIDOzk4kEgn09PQgmiOPSGtFVIhDyI2yWCziInkt5DrIsdYSZLqV/8W/+BfiIlncbjccDgf8fn/BbrhCTp8+jWQyCZPJhOeff16cXZTaVAvWlSf+Fcu5KzUWxLCWl+bmZhiNRtX5xlqIOVl2u11cpGSGhoZ4qxhrwSq19vZ2+DNfhYguMMdMbVC8lLSWxYXWMYXqk97eXvT396OxsVFRPvK1HMuxHzBalaI8yvNLXS4XdDqduEhRausMALh+/ToSiYQ4GZDlR7IAv7W1lXfxR1XktpaTFQsgN+tN2FX1JO9+dtWfxJ4texXL/PrGRdRsMKFKt5kHjKxlskq3GQ/qH8Y3pO/y9Q89+i3oKzYotkGWD3sB7Nu3T5ylmU6nK/jrjVUq8nwdlmekhpZAdyH7Css+0SLmEZWSz+dDT0+PImcrEomIi+Wl5TrkI+9W3rt3b8HKmeVmjYyMwOPxoLW1dUFBZCCT0pBOp2G1WnO2xJRCoTK43FhX9aFDh7Bv3z4kEglcunRJXGxR2IAPMX9tqbCBU7m6iOVYMLTQssq6QvPlwBWT6zNMy205ymKx+sRms+Hw4cMYGRlRBLFqWo5ra2sL1g25LLY8smDYLvsWY19f34ICWS3CmTzHXF3tbECYPMBnqQO58l/L2YoFkDdSMVyefZ93P7M//5VTSM3fBgD8/vY1pOZvY9umXagz1CM6O47Z9A0g02L5h9Qn+En0+4r1+z/8Dq59dlnYG1kOvb29mJychKXA513yTZcbHh5GMpnMmV/IsBaYvr6+vL/A89H6GYXF7Auy7sfa2lr+y1Qqkit15coVpFKpgi8u1l0UyiR8a+2u0nodCmE5Q4U4Mgn4IyMjiuvIgshio7BFrAtUq6mpqaJdaYFAANPT0zlfACuFHVNDQ0PeD2ovltVqRSQSUd0CvRjezHfyzp07p8iHzEev1y86iApnckFz/XBi11d8NtlzFo/HSx6wq6G1LKqtY0Rq6pNCg0OQo6VczprnszaFLLY8sme8q6tLVZCbj5o6Q5Svy57Vt7la3AOBAMbGxmA0GjWn5qyEFQsgJ5MT2GH4Ez4gJpfU/G2M3fgl7A8/C6lqN299hCy4/HLt1xTriNjAG3FADlkaLOHc6XQqum3dmU8x5BqJJ2IPkcViyRp1LW/e1+v1vLXT4XDg+PHjim5l9iuQPYyvv/46HJmRsZOTk7Db7YrRhePj4wjl+UREsX3JeTOfM2HdZAcPHoTJZMLo6Ch/gckHnrARlvLtsZeAfLRxMPOvGojkielspKAaC7kO+cjzIfMJZBLacwXhra2tRUdh58LyIbVgAb1DNoo+17U9f/489Hq9onWUdYWp+SHE5CuHubD7zkZovvnmm4r7wI4plUppehFrUVdXx6+LL/OdRblix6iGw+HAgQMH+OAW9mMg3+h69umTQj+ocmH1hrweaWlpyRsMnj9/HjU1NYp/LrG7uxsmk2lRAftir5mWsqi2jsmnUH3CglmWDiD/Y8fBWsrFY7VYLHm/GFBIsfJYjMFg4AN7WA+I1pZQtXWGHBuA5HQ6+bVhx88GzbD6Vl7/NjQ05MwhLUcrFkBe++wy/n7qx3jK9HVFN7Z8JDZbDriH+J0Yb31EJrj8+UenYdRVK9YXR2KzXEpDZTWefFD9A0sWhnXdsm5bed4J+6RErgBCxPKW2DZYN8apU6cAWesTm3/8+HEcO3YsK5hgFW9PTw+effZZXpGwvOY7YCQAAAtkSURBVBNWEbJum7feekuxPjTsi4lEInyUcTQzKCXX6D22vY6ODp7Tx7CALJVK8e3MzMzA7/crlmEjClmu5ejoqGKZYrRch2Lk3crLif1oUUvNtUXmvrN7xq4vK9v57n0++cqhSP7yHxwcxN69exUjr1kgtZAXsRrs6wLsugBAX18fUqkUX6bYMRbDfoAhsz/mjTfeQDwe5594kmMtW7la1di3+VhuG8slC4VCeOKJJ3DmzBk+OGZwcBAAFKOs5dg9NxqNGBwcRDQa5Z/vWkwL1mKvmdaymKuO+eEPf1jwOVFTn3i9XpjNZkXeNPuUD/s0UiBHDjg7VjV1v5ya8lgIC+JY/Xb48GF4PJ6C1yEXtXWGSMxvzHUdzpw5w3NKe3p6MD09vaAf0yth3a5du+6JE5fKAw88IE4qqkq3GX9R922EPjnHB9xo9Xj1Hjxjfh6/mP6p6m3cunVLnETIkmEv1bGxMc2VLLl/eL1eODLftpMPJrsfsNajQCCwqGCOLBxryRUDHK/XiwMHDuT9hidZm1asBVKtL9d+DbFbV1UHfiJ9xUY0bP4yknM3KTeSELKqWa1WTE5O3nfBI2QpF4UG25ClNTMzk5Xj7s38YwBL1SpOyldZBpDyD4QbddX4x+n/Ji6iyuPVe/DXj/0tAOC/Xv6hogucEEJWEzboJFfy/f3i9OnTebufydJrb29XdMlGZSk61HNy/yn7LuyVQl3YhBBCCCG5LWsL5NzcnDiJEEIIIYSsMssaQN69exfz8/PiZEIIIYQQsoosawA5Pz+PdDqNubk5CiQJIYQQQlapZc2BJIQQQgghq9+yBpCraRDNUrh37x7u3r1LXfmEEEIIWdWWtQv7frdu3TpUVlaisrISFRV06QkhhBCyOlEUswLWr1+P9evXi5MJIYQQQlYFCiBXCAWQBAD+6q/+SpxECCGElD0KIFfIunXrxEn3BbfbjYmJCfh8PnHWsrHZbAiFQgiFQiv6T6J5vV4cPXoUbrdbnEUIIYSUNQogCVkhZ8+eRTwex759+8RZhBBCSFmjAJKQFRIOh3Hx4kWYzWY4HA5xNiGEEFK2ViSA3LZpFzof+wFsD+8XZ2WxPbwfzp2vQF+xUZy1pLQcIyELNTw8DABoamoSZxFCCCFla0UCyJW2bdMudFiOYdumXeIsVap0m9Fh+R4er94jzrrvsfzCaDSKaDSKiYmJojl+Xq+XLx+NRhEMBlXNz5fLyPIsvV6vbCtAMBhEKBTCE088wac999xzBY+12Pl4vV5MTEzgtdde48uNj4/zFkWHw4Hx8XG+vnweAFy/fh2JRALbt2/n0wghhJBytyIB5LXPLqP/w+8g/Mnb4qyysRqOsdw4HA709/cDANra2iBJEkZGRtDZ2ZkVmDFutxsOhwORSASSJKGrqwtms5kHfz6fD06nE36/XzE/GAzyLuCamho0NzfzbVqtVuh0OlitVj7N4XDAbDYjGo3iN7/5DQDAZDLh6aefRldXF9ra2hCPx9HR0aEI/tScj06nwze/+U1cvHgRkiRh9+7dCAQCcLvd8Hq9mJ6ehiRJkCQJ09PTOH78ON9HOBzG7Owsamtr+fYIIYSQcresASRruXPVn4Sr/mTO7mF9xUY4d77Cl9mzZW/B+fLubTbvyQftimVYSyHrlj706LdgqPwCDj36raxjKXSMbN43pO/CUFmNZ8zP8+X2P9IBZLrcOyzfQ5Vuc9Z6a73F8tChQ0gkEjhy5AjC4TAAoL29HZOTk3kHilitVqRSKZw+fRoAEAgEsHv3bng8HjgcDjQ0NMDv98Pj8fD5AwMDMJvNcLvdmJmZAQAegNlsNkiShEgkosgtbGpqgl6vx+joKN93LBZDZ2cnAoEAwuEwzpw5A71ez7uTtZxPKBTix8js27cPk5OTaG1t5dO6u7uRSCRw6NAhPm1mZgZVVVUrOiKcEEII0WJZA8jZ9A0MRP4Gb374KmZuXxVnQ1+xEV979CUk0jfRN3EEfRNH8N6n7xScn0jfxNcefUmRI/nU1q9j7MYv+fr2hw+gSreZtyoOffQjJOf+iKGPfsS3w1oaCx0jm/eT6PeRnLuJX0z/lK//9scDAID3//B5oCHvHn/yQRuSc3/EP81+3vK1FrHAzWQyYXBwUNHlbLFYxMW50dFR6PV6HD16NCuAampqgsFggNPpVGzP5XJBr9cDAC5duoR4PM5bG5ubm6HX6/EP//APfBvIBKrxeByXLl2S7SE/reczNTWl+G/W4mmxWBTrDg4OwmQyKZYlhBBCVptlDSCLeWjjNugrNuKXMz8XZwF55v/6xkUYKqvx0MZtfNp7n76DD26+BwCYTE4AWKdoEVxKs+kbiN26Csm4G8gEvTsMj+Fq8kOk5m+Li685rCta/JO3wsn19vbC4/HAaDTyQE3+jch0Oo2+vr6s7dXX16O3txfhcBjRaJS3NlqtVnz66ac4deoUpqenYbVaYbPZUFVVhWg0ylsS1dJ6PqJQKJS1riRJaG9vFxclhBBCVo2yCiCrdJuhq/i8ZSmXKt1mPKh/GN+Qvsu7jg89+i3oKzaIi66oX9+4iJoNJlTpNvOgl7VMrnUL6Ypl3daSJCEUCsFut/McSJ1OVzQ/kHVLP/nkk5Akif/36Ogoqqqq8Gd/9mcwGo2K7mu1FnI+csWOHZllZmdnNQe3hBBCyEopqwCymNn0Dfwh9Ql+Ev0+7zrumziC/g+/g2ufXRYXXzG/v30Nqfnb2LZpF+oM9YjOjmM2fUNcbE1hLYHigBathoaGkEwmsX37dgwPDyOZTCoGw+Ry6dIlJBIJ7N27F0ajkedFDg8PQ6/XY+/evUgkEqq7r1GC8wkEApieni76jUfWOsqOmRBCCFkNyiqAZEEgyx+0PbxfMYiGBWZfrv0an7YQnwdz91BnqBdnqXLn7i0k5/7Iu6lFqfnbGLvxS9gffhZS1e77pvVxaGgIqVRKMUqZfYIn3z9d6PP5FJ+2OXToEB/sEggEMDY2BovFkvXpHvk6LNjbsWOHIlC8fv06UqkUduzYsaAWvoWcj9z58+eh1+sVo659Ph+i0ShvYd26dSuMRmNWDiUhhBBSzpY1gHy8eg9c9Sfx14/9LWo37sCeLXsVI5hn0zcQ+uQcH928w/AYLlz/GV8/NX8bP//oNIy6at6FLY7EVoPth+1fPtq62DEicxy/mjmLHYY/yRqFzXweDN9D/E5szbc+MoFAAJ2dnYjH43C5XIhGo3A6nQiFQrhw4YK4OADgwoULmJ6eRk9PD6LRKBobG9Hf34/e3l4gM+rZ7/fzwSiDg4MwGo04deqUYjujo6NIp9OKPEcWWLL5Wi3kfORYficAfn52ux1+vx+RSASQDfJhHxQnhBBCVoN1u3btuidOXCoPPPCAOGnNqtJtxl/UfRuhT87xAT2iW7duiZPIfcRms+HkyZOYnZ1VPSiHEEIIKQfL2gJ5P/ly7dcQu3U1b/BIyMGDB1FTU4Pz58+LswghhJCyRi2QJcS+U1m7cQdmbl/Fzz86XfDTPdQCSf7qr/4Kb731ljiZEEIIKWsUQK6Qe/fu4fbt/MElIYQQQki5oi7sFXL37l1xEiGEEELIqkAB5Aq4e/cuBZCEEEIIWbUogFxG9+7dw9zcHObm5jA/Py/OJoQQQghZFZY1B5IQQgghhKx+1AJJCCGEEEI0oQCSEEIIIYRoQgEkIYQQQgjRhAJIQgghhBCiCQWQhBBCCCFEEwogCSGEEEKIJhRAEkIIIYQQTUr2HchoNCpOIoQQQgghK0CSJHFSSZUsgCSEEEIIIfcH6sImhBBCCCGaUABJCCGEEEI0oQCSEEIIIYRoQgEkIYQQQgjRhAJIQgghhBCiCQWQhBBCCCFEEwogCSGEEEKIJhRAEkIIIYQQTf5/ADHAQ6AoXmAAAAAASUVORK5CYII=)"
      ],
      "metadata": {
        "id": "mxrmFbt-aUi0"
      }
    },
    {
      "cell_type": "markdown",
      "source": [
        "We can explicitly convert or *cast* an array from one data type to another using ndarray's **astype** method:"
      ],
      "metadata": {
        "id": "oaHwa6S_cqhr"
      }
    },
    {
      "cell_type": "code",
      "source": [
        "array = np.array([1, 2, 3, 4, 5])"
      ],
      "metadata": {
        "id": "4jM-Iq9JaPlc"
      },
      "execution_count": null,
      "outputs": []
    },
    {
      "cell_type": "code",
      "source": [
        "array.dtype"
      ],
      "metadata": {
        "colab": {
          "base_uri": "https://localhost:8080/"
        },
        "id": "lC5Nq91Sc6F7",
        "outputId": "74829e05-7244-447d-c898-041db53e553e"
      },
      "execution_count": null,
      "outputs": [
        {
          "output_type": "execute_result",
          "data": {
            "text/plain": [
              "dtype('int64')"
            ]
          },
          "metadata": {},
          "execution_count": 23
        }
      ]
    },
    {
      "cell_type": "code",
      "source": [
        "floatArray = array.astype(np.float64)"
      ],
      "metadata": {
        "id": "LAYgu6RMc75i"
      },
      "execution_count": null,
      "outputs": []
    },
    {
      "cell_type": "code",
      "source": [
        "floatArray"
      ],
      "metadata": {
        "colab": {
          "base_uri": "https://localhost:8080/"
        },
        "id": "H6Hl6Q4sdAtk",
        "outputId": "c40a52fe-3109-4f7e-91c3-b5eb8aa7da46"
      },
      "execution_count": null,
      "outputs": [
        {
          "output_type": "execute_result",
          "data": {
            "text/plain": [
              "array([1., 2., 3., 4., 5.])"
            ]
          },
          "metadata": {},
          "execution_count": 25
        }
      ]
    },
    {
      "cell_type": "code",
      "source": [
        "floatArray.dtype"
      ],
      "metadata": {
        "colab": {
          "base_uri": "https://localhost:8080/"
        },
        "id": "gRTmQJQYdCV8",
        "outputId": "b76bcf7c-aa18-48ae-9728-f11747b3166b"
      },
      "execution_count": null,
      "outputs": [
        {
          "output_type": "execute_result",
          "data": {
            "text/plain": [
              "dtype('float64')"
            ]
          },
          "metadata": {},
          "execution_count": 26
        }
      ]
    },
    {
      "cell_type": "code",
      "source": [
        "array = np.array([3.7, -1.2, -2.6, 0.5, 12.9, 10.1])\n",
        "array"
      ],
      "metadata": {
        "colab": {
          "base_uri": "https://localhost:8080/"
        },
        "id": "YWRgvI03dE-b",
        "outputId": "76b2d5a0-6285-4d2c-b9e4-679a3a9c05e3"
      },
      "execution_count": null,
      "outputs": [
        {
          "output_type": "execute_result",
          "data": {
            "text/plain": [
              "array([ 3.7, -1.2, -2.6,  0.5, 12.9, 10.1])"
            ]
          },
          "metadata": {},
          "execution_count": 27
        }
      ]
    },
    {
      "cell_type": "code",
      "source": [
        "array.astype(np.int32)"
      ],
      "metadata": {
        "colab": {
          "base_uri": "https://localhost:8080/"
        },
        "id": "iyvzaoT7dtC2",
        "outputId": "a484d734-e721-4942-b98b-e930d9e93f8f"
      },
      "execution_count": null,
      "outputs": [
        {
          "output_type": "execute_result",
          "data": {
            "text/plain": [
              "array([ 3, -1, -2,  0, 12, 10], dtype=int32)"
            ]
          },
          "metadata": {},
          "execution_count": 28
        }
      ]
    },
    {
      "cell_type": "code",
      "source": [
        "numericStrings = np.array([\"1.25\", \"-9.6\", \"42\"], dtype = np.string_)\n"
      ],
      "metadata": {
        "id": "7_66IO65dxAt"
      },
      "execution_count": null,
      "outputs": []
    },
    {
      "cell_type": "code",
      "source": [
        "numericStrings.astype(float)"
      ],
      "metadata": {
        "colab": {
          "base_uri": "https://localhost:8080/"
        },
        "id": "d0OXhanReI-A",
        "outputId": "704e711d-682f-44b2-9aca-ffb37c71490b"
      },
      "execution_count": null,
      "outputs": [
        {
          "output_type": "execute_result",
          "data": {
            "text/plain": [
              "array([ 1.25, -9.6 , 42.  ])"
            ]
          },
          "metadata": {},
          "execution_count": 30
        }
      ]
    },
    {
      "cell_type": "code",
      "source": [
        "intArray = np.arange(10)\n",
        "\n",
        "calibers = np.array([.22, .270, .357, .380, .44, .50], dtype = np.float64)\n",
        "\n",
        "intArray.astype(calibers.dtype)\n"
      ],
      "metadata": {
        "colab": {
          "base_uri": "https://localhost:8080/"
        },
        "id": "Zu0upB4YeOIS",
        "outputId": "7dda62c2-3d74-48b1-cff4-bcfb423bb47a"
      },
      "execution_count": null,
      "outputs": [
        {
          "output_type": "execute_result",
          "data": {
            "text/plain": [
              "array([0., 1., 2., 3., 4., 5., 6., 7., 8., 9.])"
            ]
          },
          "metadata": {},
          "execution_count": 31
        }
      ]
    },
    {
      "cell_type": "markdown",
      "source": [
        "### Arithmetic wit NumPy Arrays\n",
        "\n",
        "Arrays are important becausee they enable you to express batch operations on data without writing any **for** loops. NumPy users call this *vectorization*. Any arithmetic operations between equal-size arrays appley the operation element-wise:\n"
      ],
      "metadata": {
        "id": "B6wbdTV_ZECM"
      }
    },
    {
      "cell_type": "code",
      "source": [
        "array = np.array([[1., 2., 3.,], [4., 5., 6.]])\n",
        "array"
      ],
      "metadata": {
        "colab": {
          "base_uri": "https://localhost:8080/"
        },
        "id": "iQW5hNXpYs7i",
        "outputId": "a1831ff2-7664-4797-9429-f99a8f0668c0"
      },
      "execution_count": null,
      "outputs": [
        {
          "output_type": "execute_result",
          "data": {
            "text/plain": [
              "array([[1., 2., 3.],\n",
              "       [4., 5., 6.]])"
            ]
          },
          "metadata": {},
          "execution_count": 32
        }
      ]
    },
    {
      "cell_type": "code",
      "source": [
        "array * array"
      ],
      "metadata": {
        "colab": {
          "base_uri": "https://localhost:8080/"
        },
        "id": "C_is6n6zZjer",
        "outputId": "73dc60a9-d3ab-4bf4-d644-e226899ae5b3"
      },
      "execution_count": null,
      "outputs": [
        {
          "output_type": "execute_result",
          "data": {
            "text/plain": [
              "array([[ 1.,  4.,  9.],\n",
              "       [16., 25., 36.]])"
            ]
          },
          "metadata": {},
          "execution_count": 33
        }
      ]
    },
    {
      "cell_type": "code",
      "source": [
        "array - array"
      ],
      "metadata": {
        "colab": {
          "base_uri": "https://localhost:8080/"
        },
        "id": "BpWdnxs8Zk_-",
        "outputId": "ed9260ad-436c-4eeb-8196-d0c2afe7b9c5"
      },
      "execution_count": null,
      "outputs": [
        {
          "output_type": "execute_result",
          "data": {
            "text/plain": [
              "array([[0., 0., 0.],\n",
              "       [0., 0., 0.]])"
            ]
          },
          "metadata": {},
          "execution_count": 34
        }
      ]
    },
    {
      "cell_type": "code",
      "source": [
        "1 / array"
      ],
      "metadata": {
        "colab": {
          "base_uri": "https://localhost:8080/"
        },
        "id": "zZwH5rwvZnC0",
        "outputId": "9843fa24-032e-4d2f-93a2-fba43f8dea91"
      },
      "execution_count": null,
      "outputs": [
        {
          "output_type": "execute_result",
          "data": {
            "text/plain": [
              "array([[1.        , 0.5       , 0.33333333],\n",
              "       [0.25      , 0.2       , 0.16666667]])"
            ]
          },
          "metadata": {},
          "execution_count": 35
        }
      ]
    },
    {
      "cell_type": "code",
      "source": [
        "array ** 2"
      ],
      "metadata": {
        "colab": {
          "base_uri": "https://localhost:8080/"
        },
        "id": "4Lm2cGzTeUPA",
        "outputId": "3505b985-8ae4-4653-c7e0-b391dfaf8f88"
      },
      "execution_count": null,
      "outputs": [
        {
          "output_type": "execute_result",
          "data": {
            "text/plain": [
              "array([[ 1.,  4.,  9.],\n",
              "       [16., 25., 36.]])"
            ]
          },
          "metadata": {},
          "execution_count": 36
        }
      ]
    },
    {
      "cell_type": "code",
      "source": [
        "array2 = np.array([[0., 4., 1.], [7., 2., 12.]])\n",
        "array2"
      ],
      "metadata": {
        "colab": {
          "base_uri": "https://localhost:8080/"
        },
        "id": "DVnQ1ezqeX0S",
        "outputId": "a6c71cb7-89a0-46db-eea5-7c751fddcbba"
      },
      "execution_count": null,
      "outputs": [
        {
          "output_type": "execute_result",
          "data": {
            "text/plain": [
              "array([[ 0.,  4.,  1.],\n",
              "       [ 7.,  2., 12.]])"
            ]
          },
          "metadata": {},
          "execution_count": 37
        }
      ]
    },
    {
      "cell_type": "code",
      "source": [
        "array2 > array"
      ],
      "metadata": {
        "colab": {
          "base_uri": "https://localhost:8080/"
        },
        "id": "4gxTpQOpfWbm",
        "outputId": "804dfbf3-5f3b-4a0f-93b9-ec60507de002"
      },
      "execution_count": null,
      "outputs": [
        {
          "output_type": "execute_result",
          "data": {
            "text/plain": [
              "array([[False,  True, False],\n",
              "       [ True, False,  True]])"
            ]
          },
          "metadata": {},
          "execution_count": 38
        }
      ]
    },
    {
      "cell_type": "markdown",
      "source": [
        "### Basic Indexing and Slicing\n",
        "NumPy array indexing is a deep topic, as there are many ways we may want to select a subset of our data or individual elements. One-dimensional arrays are simple; on the surface they act simmilarly to Python lists:"
      ],
      "metadata": {
        "id": "fXgT7l6AfdMf"
      }
    },
    {
      "cell_type": "code",
      "source": [
        "array = np.arange(10)\n",
        "array"
      ],
      "metadata": {
        "colab": {
          "base_uri": "https://localhost:8080/"
        },
        "id": "JHec6d-8fcxO",
        "outputId": "8afff58a-1386-4adf-a7d9-876fd2fc3673"
      },
      "execution_count": null,
      "outputs": [
        {
          "output_type": "execute_result",
          "data": {
            "text/plain": [
              "array([0, 1, 2, 3, 4, 5, 6, 7, 8, 9])"
            ]
          },
          "metadata": {},
          "execution_count": 39
        }
      ]
    },
    {
      "cell_type": "code",
      "source": [
        "array[5]"
      ],
      "metadata": {
        "colab": {
          "base_uri": "https://localhost:8080/"
        },
        "id": "JyPuyk7afZqD",
        "outputId": "73dfc0f7-2ad8-4166-f2d5-b395fea5f561"
      },
      "execution_count": null,
      "outputs": [
        {
          "output_type": "execute_result",
          "data": {
            "text/plain": [
              "5"
            ]
          },
          "metadata": {},
          "execution_count": 40
        }
      ]
    },
    {
      "cell_type": "code",
      "source": [
        "array[5:8]"
      ],
      "metadata": {
        "colab": {
          "base_uri": "https://localhost:8080/"
        },
        "id": "XVjFPs0Xfy1S",
        "outputId": "475e36f7-c00b-4405-ed2f-78eea0d643ea"
      },
      "execution_count": null,
      "outputs": [
        {
          "output_type": "execute_result",
          "data": {
            "text/plain": [
              "array([5, 6, 7])"
            ]
          },
          "metadata": {},
          "execution_count": 41
        }
      ]
    },
    {
      "cell_type": "code",
      "source": [
        "array[5:8] = 12\n",
        "array"
      ],
      "metadata": {
        "colab": {
          "base_uri": "https://localhost:8080/"
        },
        "id": "hve4Jt91fz-I",
        "outputId": "bd5ba963-4018-4696-d79e-238d47c5db75"
      },
      "execution_count": null,
      "outputs": [
        {
          "output_type": "execute_result",
          "data": {
            "text/plain": [
              "array([ 0,  1,  2,  3,  4, 12, 12, 12,  8,  9])"
            ]
          },
          "metadata": {},
          "execution_count": 42
        }
      ]
    },
    {
      "cell_type": "markdown",
      "source": [
        "### Note\n",
        "  An important first distinction from Python's built-in lists is that array slices are views on original array. This means that the data is not copied, and any modifications to the view will be reflected in the source array."
      ],
      "metadata": {
        "id": "6mOaa5fXjquL"
      }
    },
    {
      "cell_type": "code",
      "source": [
        "# To give an example of this, we first create a slice of array:\n",
        "\n",
        "arraySlice = array[5:8]\n",
        "arraySlice"
      ],
      "metadata": {
        "colab": {
          "base_uri": "https://localhost:8080/"
        },
        "id": "49DEEQP_f1-w",
        "outputId": "fd842f7a-257d-4f4b-e957-894252d44b40"
      },
      "execution_count": null,
      "outputs": [
        {
          "output_type": "execute_result",
          "data": {
            "text/plain": [
              "array([12, 12, 12])"
            ]
          },
          "metadata": {},
          "execution_count": 43
        }
      ]
    },
    {
      "cell_type": "code",
      "source": [
        "arraySlice[1] = 12345\n",
        "array"
      ],
      "metadata": {
        "colab": {
          "base_uri": "https://localhost:8080/"
        },
        "id": "OXYVLluGkXOB",
        "outputId": "49428e3b-4805-4a34-c76b-90ad29c9c8b8"
      },
      "execution_count": null,
      "outputs": [
        {
          "output_type": "execute_result",
          "data": {
            "text/plain": [
              "array([    0,     1,     2,     3,     4,    12, 12345,    12,     8,\n",
              "           9])"
            ]
          },
          "metadata": {},
          "execution_count": 44
        }
      ]
    },
    {
      "cell_type": "code",
      "source": [
        "# The \"bare\" slice [:] will assign to all values in an array:\n",
        "\n",
        "arraySlice[:] = 64\n",
        "array"
      ],
      "metadata": {
        "colab": {
          "base_uri": "https://localhost:8080/"
        },
        "id": "oYzf67jJkh4S",
        "outputId": "1fcd6742-e8f1-41f8-8062-1e461f7b4aad"
      },
      "execution_count": null,
      "outputs": [
        {
          "output_type": "execute_result",
          "data": {
            "text/plain": [
              "array([ 0,  1,  2,  3,  4, 64, 64, 64,  8,  9])"
            ]
          },
          "metadata": {},
          "execution_count": 45
        }
      ]
    },
    {
      "cell_type": "code",
      "source": [
        "twoDimensionalArray = np.array([[1, 2, 3,], [4, 5, 6], [7, 8, 9]])\n"
      ],
      "metadata": {
        "id": "-UTL98Kyk2es"
      },
      "execution_count": null,
      "outputs": []
    },
    {
      "cell_type": "code",
      "source": [
        "twoDimensionalArray"
      ],
      "metadata": {
        "colab": {
          "base_uri": "https://localhost:8080/"
        },
        "id": "shWsvDJ4ZLvy",
        "outputId": "fdf1c201-4a28-4f52-8d36-8bbacc7095ed"
      },
      "execution_count": null,
      "outputs": [
        {
          "output_type": "execute_result",
          "data": {
            "text/plain": [
              "array([[1, 2, 3],\n",
              "       [4, 5, 6],\n",
              "       [7, 8, 9]])"
            ]
          },
          "metadata": {},
          "execution_count": 47
        }
      ]
    },
    {
      "cell_type": "code",
      "source": [
        "twoDimensionalArray[2]"
      ],
      "metadata": {
        "colab": {
          "base_uri": "https://localhost:8080/"
        },
        "id": "25r-GKoqZ2ze",
        "outputId": "dd8a461a-b483-41e1-c062-5e3236e2259a"
      },
      "execution_count": null,
      "outputs": [
        {
          "output_type": "execute_result",
          "data": {
            "text/plain": [
              "array([7, 8, 9])"
            ]
          },
          "metadata": {},
          "execution_count": 48
        }
      ]
    },
    {
      "cell_type": "code",
      "source": [
        "twoDimensionalArray[0][2]"
      ],
      "metadata": {
        "colab": {
          "base_uri": "https://localhost:8080/"
        },
        "id": "3Hc-IByKZ7gO",
        "outputId": "139ec322-4c32-4470-9a45-79ed8203c6b1"
      },
      "execution_count": null,
      "outputs": [
        {
          "output_type": "execute_result",
          "data": {
            "text/plain": [
              "3"
            ]
          },
          "metadata": {},
          "execution_count": 49
        }
      ]
    },
    {
      "cell_type": "code",
      "source": [
        "twoDimensionalArray[0, 2]"
      ],
      "metadata": {
        "colab": {
          "base_uri": "https://localhost:8080/"
        },
        "id": "DfoSK3ccZ_m7",
        "outputId": "b22531dc-1283-46ef-e11a-52ce1a916dbe"
      },
      "execution_count": null,
      "outputs": [
        {
          "output_type": "execute_result",
          "data": {
            "text/plain": [
              "3"
            ]
          },
          "metadata": {},
          "execution_count": 50
        }
      ]
    },
    {
      "cell_type": "code",
      "source": [
        "threeDimensionalArray = np.array([[[1, 2, 3], [4, 5, 6]], [[7, 8, 9], [10, 11, 12]]])"
      ],
      "metadata": {
        "id": "PQW52cTbaDvM"
      },
      "execution_count": null,
      "outputs": []
    },
    {
      "cell_type": "code",
      "source": [
        "threeDimensionalArray"
      ],
      "metadata": {
        "colab": {
          "base_uri": "https://localhost:8080/"
        },
        "id": "lQeWxxbZarqz",
        "outputId": "6891891f-2c53-412b-8b0a-14848fc1d83d"
      },
      "execution_count": null,
      "outputs": [
        {
          "output_type": "execute_result",
          "data": {
            "text/plain": [
              "array([[[ 1,  2,  3],\n",
              "        [ 4,  5,  6]],\n",
              "\n",
              "       [[ 7,  8,  9],\n",
              "        [10, 11, 12]]])"
            ]
          },
          "metadata": {},
          "execution_count": 52
        }
      ]
    },
    {
      "cell_type": "code",
      "source": [
        "threeDimensionalArray.ndim"
      ],
      "metadata": {
        "colab": {
          "base_uri": "https://localhost:8080/"
        },
        "id": "QYxNghjOauCM",
        "outputId": "06c42418-4dd4-43f3-8236-20a338b0110f"
      },
      "execution_count": null,
      "outputs": [
        {
          "output_type": "execute_result",
          "data": {
            "text/plain": [
              "3"
            ]
          },
          "metadata": {},
          "execution_count": 53
        }
      ]
    },
    {
      "cell_type": "code",
      "source": [
        "threeDimensionalArray.shape"
      ],
      "metadata": {
        "colab": {
          "base_uri": "https://localhost:8080/"
        },
        "id": "gpC0TBoaazQv",
        "outputId": "3108b73a-3816-4834-c868-11c8b33c1463"
      },
      "execution_count": null,
      "outputs": [
        {
          "output_type": "execute_result",
          "data": {
            "text/plain": [
              "(2, 2, 3)"
            ]
          },
          "metadata": {},
          "execution_count": 54
        }
      ]
    },
    {
      "cell_type": "code",
      "source": [
        "threeDimensionalArray[0]"
      ],
      "metadata": {
        "colab": {
          "base_uri": "https://localhost:8080/"
        },
        "id": "TjbItqRLa8Qc",
        "outputId": "9b8c76ab-5c4d-4672-f366-9bb93f8f60ea"
      },
      "execution_count": null,
      "outputs": [
        {
          "output_type": "execute_result",
          "data": {
            "text/plain": [
              "array([[1, 2, 3],\n",
              "       [4, 5, 6]])"
            ]
          },
          "metadata": {},
          "execution_count": 55
        }
      ]
    },
    {
      "cell_type": "code",
      "source": [
        "threeDimensionalArray[1, 0]"
      ],
      "metadata": {
        "colab": {
          "base_uri": "https://localhost:8080/"
        },
        "id": "llD-hm2JbLwy",
        "outputId": "c642433c-a9e5-4fcd-ab12-c367a49ed329"
      },
      "execution_count": null,
      "outputs": [
        {
          "output_type": "execute_result",
          "data": {
            "text/plain": [
              "array([7, 8, 9])"
            ]
          },
          "metadata": {},
          "execution_count": 56
        }
      ]
    },
    {
      "cell_type": "code",
      "source": [
        "array"
      ],
      "metadata": {
        "colab": {
          "base_uri": "https://localhost:8080/"
        },
        "id": "Ruh3ROc1dYTW",
        "outputId": "b8998129-96ec-4dea-cf80-636b3349cdf2"
      },
      "execution_count": null,
      "outputs": [
        {
          "output_type": "execute_result",
          "data": {
            "text/plain": [
              "array([ 0,  1,  2,  3,  4, 64, 64, 64,  8,  9])"
            ]
          },
          "metadata": {},
          "execution_count": 57
        }
      ]
    },
    {
      "cell_type": "code",
      "source": [
        "array[1:6]"
      ],
      "metadata": {
        "colab": {
          "base_uri": "https://localhost:8080/"
        },
        "id": "Tj2s9eaaeU2p",
        "outputId": "ce2d612c-5a26-4a1b-b7ad-b5ede61c4de1"
      },
      "execution_count": null,
      "outputs": [
        {
          "output_type": "execute_result",
          "data": {
            "text/plain": [
              "array([ 1,  2,  3,  4, 64])"
            ]
          },
          "metadata": {},
          "execution_count": 58
        }
      ]
    },
    {
      "cell_type": "code",
      "source": [
        "twoDimensionalArray[:2]"
      ],
      "metadata": {
        "colab": {
          "base_uri": "https://localhost:8080/"
        },
        "id": "lENf1J3GeW3z",
        "outputId": "57e73313-ef5b-4cce-b54f-2dfb93d68c61"
      },
      "execution_count": null,
      "outputs": [
        {
          "output_type": "execute_result",
          "data": {
            "text/plain": [
              "array([[1, 2, 3],\n",
              "       [4, 5, 6]])"
            ]
          },
          "metadata": {},
          "execution_count": 59
        }
      ]
    },
    {
      "cell_type": "code",
      "source": [
        "twoDimensionalArray"
      ],
      "metadata": {
        "colab": {
          "base_uri": "https://localhost:8080/"
        },
        "id": "MmXL-iiCehGV",
        "outputId": "332f610b-dfa1-48a4-d78d-48c19ad4994e"
      },
      "execution_count": null,
      "outputs": [
        {
          "output_type": "execute_result",
          "data": {
            "text/plain": [
              "array([[1, 2, 3],\n",
              "       [4, 5, 6],\n",
              "       [7, 8, 9]])"
            ]
          },
          "metadata": {},
          "execution_count": 60
        }
      ]
    },
    {
      "cell_type": "code",
      "source": [
        "twoDimensionalArray[:2, 1:]"
      ],
      "metadata": {
        "colab": {
          "base_uri": "https://localhost:8080/"
        },
        "id": "tM6fMp-gembe",
        "outputId": "36098a11-3c3a-469b-dbf2-7832a525a631"
      },
      "execution_count": null,
      "outputs": [
        {
          "output_type": "execute_result",
          "data": {
            "text/plain": [
              "array([[2, 3],\n",
              "       [5, 6]])"
            ]
          },
          "metadata": {},
          "execution_count": 61
        }
      ]
    },
    {
      "cell_type": "code",
      "source": [
        "lowerDimensionSlice = twoDimensionalArray[1, :2]"
      ],
      "metadata": {
        "id": "vPAlHVc_fEuj"
      },
      "execution_count": null,
      "outputs": []
    },
    {
      "cell_type": "code",
      "source": [
        "lowerDimensionSlice"
      ],
      "metadata": {
        "colab": {
          "base_uri": "https://localhost:8080/"
        },
        "id": "VleaqL3KfTtt",
        "outputId": "7925e2cf-0135-41c7-f253-9cf4f7eddf61"
      },
      "execution_count": null,
      "outputs": [
        {
          "output_type": "execute_result",
          "data": {
            "text/plain": [
              "array([4, 5])"
            ]
          },
          "metadata": {},
          "execution_count": 63
        }
      ]
    },
    {
      "cell_type": "code",
      "source": [
        "twoDimensionalArray[:2, 2]"
      ],
      "metadata": {
        "colab": {
          "base_uri": "https://localhost:8080/"
        },
        "id": "I5fMM7a1fXau",
        "outputId": "7bb1fba6-a9f7-42c5-f84a-c2a3f2a029d8"
      },
      "execution_count": null,
      "outputs": [
        {
          "output_type": "execute_result",
          "data": {
            "text/plain": [
              "array([3, 6])"
            ]
          },
          "metadata": {},
          "execution_count": 64
        }
      ]
    },
    {
      "cell_type": "code",
      "source": [
        "twoDimensionalArray[:, :1]"
      ],
      "metadata": {
        "colab": {
          "base_uri": "https://localhost:8080/"
        },
        "id": "x52-_6jpfpzI",
        "outputId": "27f97fa5-c2ff-4a5d-c660-0e8343317bcc"
      },
      "execution_count": null,
      "outputs": [
        {
          "output_type": "execute_result",
          "data": {
            "text/plain": [
              "array([[1],\n",
              "       [4],\n",
              "       [7]])"
            ]
          },
          "metadata": {},
          "execution_count": 65
        }
      ]
    },
    {
      "cell_type": "markdown",
      "source": [
        "### Boolean Indexing\n",
        "Let's consider an example where we have some data in an array and an array of names with duplicates:"
      ],
      "metadata": {
        "id": "0P2mtFrvgFnq"
      }
    },
    {
      "cell_type": "code",
      "source": [
        "In [100]: names = np.array([\"Bob\", \"Joe\", \"Will\", \"Bob\", \"Will\", \"Joe\", \"Joe\"])\n",
        "names"
      ],
      "metadata": {
        "colab": {
          "base_uri": "https://localhost:8080/"
        },
        "id": "9H9awiKffu-z",
        "outputId": "4167326e-39f6-442e-aee0-0f2828511d96"
      },
      "execution_count": null,
      "outputs": [
        {
          "output_type": "execute_result",
          "data": {
            "text/plain": [
              "array(['Bob', 'Joe', 'Will', 'Bob', 'Will', 'Joe', 'Joe'], dtype='<U4')"
            ]
          },
          "metadata": {},
          "execution_count": 66
        }
      ]
    },
    {
      "cell_type": "code",
      "source": [
        "data = np.array([[4, 7], [0, 2], [-5, 6], [0, 0], [1, 2], [-12, -4], [3, 4]])\n",
        "\n",
        "data"
      ],
      "metadata": {
        "colab": {
          "base_uri": "https://localhost:8080/"
        },
        "id": "M2VWc9rWgQry",
        "outputId": "cd811392-39ee-476d-f2b0-0faa1ee4bbf2"
      },
      "execution_count": null,
      "outputs": [
        {
          "output_type": "execute_result",
          "data": {
            "text/plain": [
              "array([[  4,   7],\n",
              "       [  0,   2],\n",
              "       [ -5,   6],\n",
              "       [  0,   0],\n",
              "       [  1,   2],\n",
              "       [-12,  -4],\n",
              "       [  3,   4]])"
            ]
          },
          "metadata": {},
          "execution_count": 67
        }
      ]
    },
    {
      "cell_type": "code",
      "source": [
        "names == \"Bob\""
      ],
      "metadata": {
        "colab": {
          "base_uri": "https://localhost:8080/"
        },
        "id": "MePne6MfgjJf",
        "outputId": "5fb6382c-016e-4a40-a695-c7968234637b"
      },
      "execution_count": null,
      "outputs": [
        {
          "output_type": "execute_result",
          "data": {
            "text/plain": [
              "array([ True, False, False,  True, False, False, False])"
            ]
          },
          "metadata": {},
          "execution_count": 68
        }
      ]
    },
    {
      "cell_type": "code",
      "source": [
        "data[names == \"Bob\"]\n"
      ],
      "metadata": {
        "colab": {
          "base_uri": "https://localhost:8080/"
        },
        "id": "e5HgcNqLg4MQ",
        "outputId": "71a43401-e5dc-48e6-ae22-46cc03fc378a"
      },
      "execution_count": null,
      "outputs": [
        {
          "output_type": "execute_result",
          "data": {
            "text/plain": [
              "array([[4, 7],\n",
              "       [0, 0]])"
            ]
          },
          "metadata": {},
          "execution_count": 69
        }
      ]
    },
    {
      "cell_type": "code",
      "source": [
        "data[names == \"Bob\", 1:]"
      ],
      "metadata": {
        "colab": {
          "base_uri": "https://localhost:8080/"
        },
        "id": "hFaRPKTzg9HU",
        "outputId": "ec7065f6-08a4-43f9-afdc-a153aca8478e"
      },
      "execution_count": null,
      "outputs": [
        {
          "output_type": "execute_result",
          "data": {
            "text/plain": [
              "array([[7],\n",
              "       [0]])"
            ]
          },
          "metadata": {},
          "execution_count": 70
        }
      ]
    },
    {
      "cell_type": "code",
      "source": [
        "names != \"Bob\""
      ],
      "metadata": {
        "colab": {
          "base_uri": "https://localhost:8080/"
        },
        "id": "MehQRo1hjthM",
        "outputId": "611e5301-ea3a-4a45-b769-271e37804b54"
      },
      "execution_count": null,
      "outputs": [
        {
          "output_type": "execute_result",
          "data": {
            "text/plain": [
              "array([False,  True,  True, False,  True,  True,  True])"
            ]
          },
          "metadata": {},
          "execution_count": 71
        }
      ]
    },
    {
      "cell_type": "code",
      "source": [
        "~(names == \"Bob\")"
      ],
      "metadata": {
        "colab": {
          "base_uri": "https://localhost:8080/"
        },
        "id": "n4FJHTSAkApO",
        "outputId": "39ae9484-ee26-4e89-9be9-6a5ee428f73a"
      },
      "execution_count": null,
      "outputs": [
        {
          "output_type": "execute_result",
          "data": {
            "text/plain": [
              "array([False,  True,  True, False,  True,  True,  True])"
            ]
          },
          "metadata": {},
          "execution_count": 72
        }
      ]
    },
    {
      "cell_type": "code",
      "source": [
        "data[~(names == \"Bob\")]"
      ],
      "metadata": {
        "colab": {
          "base_uri": "https://localhost:8080/"
        },
        "id": "wPXYHarGkHDQ",
        "outputId": "7bff217e-5dfd-4f1b-ad49-2beb29ea1c97"
      },
      "execution_count": null,
      "outputs": [
        {
          "output_type": "execute_result",
          "data": {
            "text/plain": [
              "array([[  0,   2],\n",
              "       [ -5,   6],\n",
              "       [  1,   2],\n",
              "       [-12,  -4],\n",
              "       [  3,   4]])"
            ]
          },
          "metadata": {},
          "execution_count": 73
        }
      ]
    },
    {
      "cell_type": "code",
      "source": [
        "condition = names == \"Bob\""
      ],
      "metadata": {
        "id": "XIby8p7ikJR8"
      },
      "execution_count": null,
      "outputs": []
    },
    {
      "cell_type": "code",
      "source": [
        "data[~condition]"
      ],
      "metadata": {
        "colab": {
          "base_uri": "https://localhost:8080/"
        },
        "id": "r0SRq26ZkQrH",
        "outputId": "93ba9b29-481f-4613-fb8c-015910c91901"
      },
      "execution_count": null,
      "outputs": [
        {
          "output_type": "execute_result",
          "data": {
            "text/plain": [
              "array([[  0,   2],\n",
              "       [ -5,   6],\n",
              "       [  1,   2],\n",
              "       [-12,  -4],\n",
              "       [  3,   4]])"
            ]
          },
          "metadata": {},
          "execution_count": 75
        }
      ]
    },
    {
      "cell_type": "code",
      "source": [
        "mask = (names == \"Bob\") | (names == \"Will\")\n",
        "mask"
      ],
      "metadata": {
        "colab": {
          "base_uri": "https://localhost:8080/"
        },
        "id": "FoogzH2okTRo",
        "outputId": "c0e8fdac-5357-4944-f61c-b33af374d406"
      },
      "execution_count": null,
      "outputs": [
        {
          "output_type": "execute_result",
          "data": {
            "text/plain": [
              "array([ True, False,  True,  True,  True, False, False])"
            ]
          },
          "metadata": {},
          "execution_count": 76
        }
      ]
    },
    {
      "cell_type": "code",
      "source": [
        "data[mask]"
      ],
      "metadata": {
        "colab": {
          "base_uri": "https://localhost:8080/"
        },
        "id": "ekh10TznkzOz",
        "outputId": "72132744-9092-463e-c4b7-41d0782bcbce"
      },
      "execution_count": null,
      "outputs": [
        {
          "output_type": "execute_result",
          "data": {
            "text/plain": [
              "array([[ 4,  7],\n",
              "       [-5,  6],\n",
              "       [ 0,  0],\n",
              "       [ 1,  2]])"
            ]
          },
          "metadata": {},
          "execution_count": 77
        }
      ]
    },
    {
      "cell_type": "markdown",
      "source": [
        "Selecting data from an array by Boolean indexing and assigning the result to a new variable always creates a copy of the data, even if the returned array is unchanged."
      ],
      "metadata": {
        "id": "YF1J0S6vZfuy"
      }
    },
    {
      "cell_type": "code",
      "source": [
        "data[data < 0] = 0\n",
        "data"
      ],
      "metadata": {
        "id": "Z2kQnnRolFne",
        "colab": {
          "base_uri": "https://localhost:8080/"
        },
        "outputId": "d8ef5877-9082-44a9-9134-2ee568e812f6"
      },
      "execution_count": null,
      "outputs": [
        {
          "output_type": "execute_result",
          "data": {
            "text/plain": [
              "array([[4, 7],\n",
              "       [0, 2],\n",
              "       [0, 6],\n",
              "       [0, 0],\n",
              "       [1, 2],\n",
              "       [0, 0],\n",
              "       [3, 4]])"
            ]
          },
          "metadata": {},
          "execution_count": 78
        }
      ]
    },
    {
      "cell_type": "markdown",
      "source": [
        "### Fancy Indexing\n",
        "\n",
        "Fancy indexing is a term adopted by NumPy to describe indexing using integer arrays. Suppose we had an 8 x 4 array:"
      ],
      "metadata": {
        "id": "Se29Hy_naXJi"
      }
    },
    {
      "cell_type": "code",
      "source": [
        "array = np.zeros((8, 4))"
      ],
      "metadata": {
        "id": "zCr9hjh6aX_e"
      },
      "execution_count": null,
      "outputs": []
    },
    {
      "cell_type": "code",
      "source": [
        "for i in range(8):\n",
        "  array[i] = i"
      ],
      "metadata": {
        "id": "Ia-0BNbpZwMn"
      },
      "execution_count": null,
      "outputs": []
    },
    {
      "cell_type": "code",
      "source": [
        "array"
      ],
      "metadata": {
        "colab": {
          "base_uri": "https://localhost:8080/"
        },
        "id": "qDd5m5RAasIY",
        "outputId": "32a2c893-f606-468d-847a-e0c9b9ba011a"
      },
      "execution_count": null,
      "outputs": [
        {
          "output_type": "execute_result",
          "data": {
            "text/plain": [
              "array([[0., 0., 0., 0.],\n",
              "       [1., 1., 1., 1.],\n",
              "       [2., 2., 2., 2.],\n",
              "       [3., 3., 3., 3.],\n",
              "       [4., 4., 4., 4.],\n",
              "       [5., 5., 5., 5.],\n",
              "       [6., 6., 6., 6.],\n",
              "       [7., 7., 7., 7.]])"
            ]
          },
          "metadata": {},
          "execution_count": 81
        }
      ]
    },
    {
      "cell_type": "code",
      "source": [
        "array[[4, 3, 0, 6]]"
      ],
      "metadata": {
        "colab": {
          "base_uri": "https://localhost:8080/"
        },
        "id": "o65y05Ulaspg",
        "outputId": "d42acadc-10b7-413e-cd36-bccab7b35a1d"
      },
      "execution_count": null,
      "outputs": [
        {
          "output_type": "execute_result",
          "data": {
            "text/plain": [
              "array([[4., 4., 4., 4.],\n",
              "       [3., 3., 3., 3.],\n",
              "       [0., 0., 0., 0.],\n",
              "       [6., 6., 6., 6.]])"
            ]
          },
          "metadata": {},
          "execution_count": 82
        }
      ]
    },
    {
      "cell_type": "code",
      "source": [
        "array = np.arange(32).reshape((8, 4))\n",
        "array"
      ],
      "metadata": {
        "colab": {
          "base_uri": "https://localhost:8080/"
        },
        "id": "TuFSqL1nhSYn",
        "outputId": "75813ab8-8733-4d2e-941b-599ed1e055b5"
      },
      "execution_count": null,
      "outputs": [
        {
          "output_type": "execute_result",
          "data": {
            "text/plain": [
              "array([[ 0,  1,  2,  3],\n",
              "       [ 4,  5,  6,  7],\n",
              "       [ 8,  9, 10, 11],\n",
              "       [12, 13, 14, 15],\n",
              "       [16, 17, 18, 19],\n",
              "       [20, 21, 22, 23],\n",
              "       [24, 25, 26, 27],\n",
              "       [28, 29, 30, 31]])"
            ]
          },
          "metadata": {},
          "execution_count": 83
        }
      ]
    },
    {
      "cell_type": "code",
      "source": [
        "array[[1, 5, 7, 2]][:, [0, 3, 1, 2]]"
      ],
      "metadata": {
        "colab": {
          "base_uri": "https://localhost:8080/"
        },
        "id": "aEyRJ3MbhvFm",
        "outputId": "0c1adf07-863a-4cc1-e35e-86a9cd59727c"
      },
      "execution_count": null,
      "outputs": [
        {
          "output_type": "execute_result",
          "data": {
            "text/plain": [
              "array([[ 4,  7,  5,  6],\n",
              "       [20, 23, 21, 22],\n",
              "       [28, 31, 29, 30],\n",
              "       [ 8, 11,  9, 10]])"
            ]
          },
          "metadata": {},
          "execution_count": 84
        }
      ]
    },
    {
      "cell_type": "markdown",
      "source": [
        "### Transposing Arrays and Swapping Axes\n"
      ],
      "metadata": {
        "id": "t9Vt5XVrkNFY"
      }
    },
    {
      "cell_type": "code",
      "source": [
        "array = np.arange(15).reshape((3, 5))\n",
        "array"
      ],
      "metadata": {
        "colab": {
          "base_uri": "https://localhost:8080/"
        },
        "id": "0wlsN8J5idlP",
        "outputId": "eadd02e7-3b62-49c3-954c-9b3c97299dce"
      },
      "execution_count": null,
      "outputs": [
        {
          "output_type": "execute_result",
          "data": {
            "text/plain": [
              "array([[ 0,  1,  2,  3,  4],\n",
              "       [ 5,  6,  7,  8,  9],\n",
              "       [10, 11, 12, 13, 14]])"
            ]
          },
          "metadata": {},
          "execution_count": 85
        }
      ]
    },
    {
      "cell_type": "code",
      "source": [
        "array.transpose()"
      ],
      "metadata": {
        "colab": {
          "base_uri": "https://localhost:8080/"
        },
        "id": "DZRikP4CkXC2",
        "outputId": "0b20f8ef-5b08-46e1-d96e-09d47f6fba9e"
      },
      "execution_count": null,
      "outputs": [
        {
          "output_type": "execute_result",
          "data": {
            "text/plain": [
              "array([[ 0,  5, 10],\n",
              "       [ 1,  6, 11],\n",
              "       [ 2,  7, 12],\n",
              "       [ 3,  8, 13],\n",
              "       [ 4,  9, 14]])"
            ]
          },
          "metadata": {},
          "execution_count": 86
        }
      ]
    },
    {
      "cell_type": "code",
      "source": [
        "arr = np.array([[0, 1, 0], [1, 2, -2], [6, 3, 2], [-1, 0, -1], [1, 0, 1]])\n",
        "arr"
      ],
      "metadata": {
        "colab": {
          "base_uri": "https://localhost:8080/"
        },
        "id": "2GeysVUakabn",
        "outputId": "9f67102c-0564-4b72-983c-5888934b0cd3"
      },
      "execution_count": null,
      "outputs": [
        {
          "output_type": "execute_result",
          "data": {
            "text/plain": [
              "array([[ 0,  1,  0],\n",
              "       [ 1,  2, -2],\n",
              "       [ 6,  3,  2],\n",
              "       [-1,  0, -1],\n",
              "       [ 1,  0,  1]])"
            ]
          },
          "metadata": {},
          "execution_count": 87
        }
      ]
    },
    {
      "cell_type": "code",
      "source": [
        "np.dot(arr.T, arr)"
      ],
      "metadata": {
        "colab": {
          "base_uri": "https://localhost:8080/"
        },
        "id": "Tn5y0rUxkonI",
        "outputId": "5933fcbd-6c63-4edd-b3a1-9f342b8bf1d8"
      },
      "execution_count": null,
      "outputs": [
        {
          "output_type": "execute_result",
          "data": {
            "text/plain": [
              "array([[39, 20, 12],\n",
              "       [20, 14,  2],\n",
              "       [12,  2, 10]])"
            ]
          },
          "metadata": {},
          "execution_count": 88
        }
      ]
    },
    {
      "cell_type": "code",
      "source": [
        "arr.T @ arr"
      ],
      "metadata": {
        "colab": {
          "base_uri": "https://localhost:8080/"
        },
        "id": "rFB-kkldks-M",
        "outputId": "4ed78bff-37dd-481e-b5d4-a59c130ae5b1"
      },
      "execution_count": null,
      "outputs": [
        {
          "output_type": "execute_result",
          "data": {
            "text/plain": [
              "array([[39, 20, 12],\n",
              "       [20, 14,  2],\n",
              "       [12,  2, 10]])"
            ]
          },
          "metadata": {},
          "execution_count": 89
        }
      ]
    },
    {
      "cell_type": "code",
      "source": [
        "arr.swapaxes(0, 1)"
      ],
      "metadata": {
        "colab": {
          "base_uri": "https://localhost:8080/"
        },
        "id": "f80A27DVkzQc",
        "outputId": "c45efa3e-c028-4ffc-e4ee-d063932bcac7"
      },
      "execution_count": null,
      "outputs": [
        {
          "output_type": "execute_result",
          "data": {
            "text/plain": [
              "array([[ 0,  1,  6, -1,  1],\n",
              "       [ 1,  2,  3,  0,  0],\n",
              "       [ 0, -2,  2, -1,  1]])"
            ]
          },
          "metadata": {},
          "execution_count": 90
        }
      ]
    },
    {
      "cell_type": "markdown",
      "source": [
        "###4.2 Pseudorandom Number Generation\n",
        "\n",
        "  The numpy.random module supplements the built-in Python random module with functions for efficiently generating whole arrays of sample values from many kinds of probability distributions. For example, you cvan get a 4 x 4 array of samples from the standaard normal distribution using numpy.random.standard_normal:"
      ],
      "metadata": {
        "id": "032C1n6aF_KA"
      }
    },
    {
      "cell_type": "code",
      "source": [
        "samples = np.random.standard_normal(size = (4, 4))\n",
        "samples"
      ],
      "metadata": {
        "id": "osdDNrouNAj5",
        "colab": {
          "base_uri": "https://localhost:8080/"
        },
        "outputId": "ffe87182-4937-4d50-883b-d3cfe6ede824"
      },
      "execution_count": null,
      "outputs": [
        {
          "output_type": "execute_result",
          "data": {
            "text/plain": [
              "array([[-0.53980979,  0.02239218,  0.13942803,  0.64665541],\n",
              "       [-0.418041  ,  1.23279435,  0.30342505,  0.5700871 ],\n",
              "       [-0.13051271, -0.98562493, -0.02405334,  0.04993265],\n",
              "       [-0.7965557 ,  0.52090302, -0.85783086,  0.76028538]])"
            ]
          },
          "metadata": {},
          "execution_count": 91
        }
      ]
    },
    {
      "cell_type": "code",
      "source": [
        "from random import normalvariate\n",
        "N = 1_000_000\n",
        "%timeit smples = [normalvariate(0,1) for _ in range(N)]\n"
      ],
      "metadata": {
        "colab": {
          "base_uri": "https://localhost:8080/"
        },
        "id": "7zmDR2WRGn-X",
        "outputId": "8152dde6-82fa-4271-abf1-c23e399f6bcd"
      },
      "execution_count": null,
      "outputs": [
        {
          "output_type": "stream",
          "name": "stdout",
          "text": [
            "822 ms ± 273 ms per loop (mean ± std. dev. of 7 runs, 1 loop each)\n"
          ]
        }
      ]
    },
    {
      "cell_type": "code",
      "source": [
        "%timeit np.random.standard_normal(N)"
      ],
      "metadata": {
        "colab": {
          "base_uri": "https://localhost:8080/"
        },
        "id": "Ilw9oEVHHMUd",
        "outputId": "451077ba-d6eb-48da-9f8f-6c84b534f038"
      },
      "execution_count": null,
      "outputs": [
        {
          "output_type": "stream",
          "name": "stdout",
          "text": [
            "29.5 ms ± 570 µs per loop (mean ± std. dev. of 7 runs, 10 loops each)\n"
          ]
        }
      ]
    },
    {
      "cell_type": "code",
      "source": [
        "rng = np.random.default_rng(seed=12345)\n",
        "data = rng.standard_normal((2,3))"
      ],
      "metadata": {
        "id": "JbG1_XaGHQCV"
      },
      "execution_count": 95,
      "outputs": []
    },
    {
      "cell_type": "markdown",
      "source": [
        "![image.png](data:image/png;base64,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)"
      ],
      "metadata": {
        "id": "eehbYnJPJNet"
      }
    },
    {
      "cell_type": "markdown",
      "source": [
        "###4.3 Universal Functions: Fast Element-Wise Array Functions"
      ],
      "metadata": {
        "id": "_Hf0dqGxKCrC"
      }
    },
    {
      "cell_type": "code",
      "source": [
        "array = np.arange(10)\n",
        "array"
      ],
      "metadata": {
        "colab": {
          "base_uri": "https://localhost:8080/"
        },
        "id": "zvBovqngJIZc",
        "outputId": "a2706b16-f3e0-4fb9-feb1-95ff2258cf6f"
      },
      "execution_count": 96,
      "outputs": [
        {
          "output_type": "execute_result",
          "data": {
            "text/plain": [
              "array([0, 1, 2, 3, 4, 5, 6, 7, 8, 9])"
            ]
          },
          "metadata": {},
          "execution_count": 96
        }
      ]
    },
    {
      "cell_type": "code",
      "source": [
        "np.sqrt(array)"
      ],
      "metadata": {
        "colab": {
          "base_uri": "https://localhost:8080/"
        },
        "id": "Kax_cXKVKf5n",
        "outputId": "96ce2917-cf63-4c33-f761-200fa2b47e1d"
      },
      "execution_count": 97,
      "outputs": [
        {
          "output_type": "execute_result",
          "data": {
            "text/plain": [
              "array([0.        , 1.        , 1.41421356, 1.73205081, 2.        ,\n",
              "       2.23606798, 2.44948974, 2.64575131, 2.82842712, 3.        ])"
            ]
          },
          "metadata": {},
          "execution_count": 97
        }
      ]
    },
    {
      "cell_type": "code",
      "source": [
        "np.exp(array)"
      ],
      "metadata": {
        "colab": {
          "base_uri": "https://localhost:8080/"
        },
        "id": "eyLK_YjlKh2D",
        "outputId": "402b6c7a-8829-4d06-f0cc-eabb3d697f9b"
      },
      "execution_count": 98,
      "outputs": [
        {
          "output_type": "execute_result",
          "data": {
            "text/plain": [
              "array([1.00000000e+00, 2.71828183e+00, 7.38905610e+00, 2.00855369e+01,\n",
              "       5.45981500e+01, 1.48413159e+02, 4.03428793e+02, 1.09663316e+03,\n",
              "       2.98095799e+03, 8.10308393e+03])"
            ]
          },
          "metadata": {},
          "execution_count": 98
        }
      ]
    },
    {
      "cell_type": "code",
      "source": [
        "x = rng.standard_normal(8)\n",
        "y = rng.standard_normal(8)"
      ],
      "metadata": {
        "id": "rPIb1UXYKkHq"
      },
      "execution_count": 99,
      "outputs": []
    },
    {
      "cell_type": "code",
      "source": [
        "x"
      ],
      "metadata": {
        "colab": {
          "base_uri": "https://localhost:8080/"
        },
        "id": "WNBj_YwULCdX",
        "outputId": "0b19ac10-9815-47a3-cadc-e346545c696c"
      },
      "execution_count": 100,
      "outputs": [
        {
          "output_type": "execute_result",
          "data": {
            "text/plain": [
              "array([-1.3677927 ,  0.6488928 ,  0.36105811, -1.95286306,  2.34740965,\n",
              "        0.96849691, -0.75938718,  0.90219827])"
            ]
          },
          "metadata": {},
          "execution_count": 100
        }
      ]
    },
    {
      "cell_type": "code",
      "source": [
        "y"
      ],
      "metadata": {
        "colab": {
          "base_uri": "https://localhost:8080/"
        },
        "id": "BcgaU0fWLDIl",
        "outputId": "7404901a-4dc1-44a8-9fb0-a0e6dc1851a6"
      },
      "execution_count": 101,
      "outputs": [
        {
          "output_type": "execute_result",
          "data": {
            "text/plain": [
              "array([-0.46695317, -0.06068952,  0.78884434, -1.25666813,  0.57585751,\n",
              "        1.39897899,  1.32229806, -0.29969852])"
            ]
          },
          "metadata": {},
          "execution_count": 101
        }
      ]
    },
    {
      "cell_type": "code",
      "source": [
        "np.maximum(x,y)"
      ],
      "metadata": {
        "colab": {
          "base_uri": "https://localhost:8080/"
        },
        "id": "dc3d7RWSLDWH",
        "outputId": "9aac4185-f44f-4e39-e3f9-d94b507e3b86"
      },
      "execution_count": 102,
      "outputs": [
        {
          "output_type": "execute_result",
          "data": {
            "text/plain": [
              "array([-0.46695317,  0.6488928 ,  0.78884434, -1.25666813,  2.34740965,\n",
              "        1.39897899,  1.32229806,  0.90219827])"
            ]
          },
          "metadata": {},
          "execution_count": 102
        }
      ]
    },
    {
      "cell_type": "code",
      "source": [
        "array = rng.standard_normal(7) * 5\n",
        "array"
      ],
      "metadata": {
        "colab": {
          "base_uri": "https://localhost:8080/"
        },
        "id": "XmVQdFgVLE8X",
        "outputId": "947cda29-ead8-4c71-f955-e03c84f173a4"
      },
      "execution_count": 103,
      "outputs": [
        {
          "output_type": "execute_result",
          "data": {
            "text/plain": [
              "array([ 4.51459671, -8.10791367, -0.7909463 ,  2.24741966, -6.71800536,\n",
              "       -0.40843795,  8.62369966])"
            ]
          },
          "metadata": {},
          "execution_count": 103
        }
      ]
    },
    {
      "cell_type": "code",
      "source": [
        "remainder, wholePart = np.modf(array)"
      ],
      "metadata": {
        "id": "kFrORb03Luol"
      },
      "execution_count": 104,
      "outputs": []
    },
    {
      "cell_type": "code",
      "source": [
        "remainder"
      ],
      "metadata": {
        "colab": {
          "base_uri": "https://localhost:8080/"
        },
        "id": "V-1bkFtSLzVZ",
        "outputId": "14bba7be-2c53-43b2-9032-fdddfea439bf"
      },
      "execution_count": 105,
      "outputs": [
        {
          "output_type": "execute_result",
          "data": {
            "text/plain": [
              "array([ 0.51459671, -0.10791367, -0.7909463 ,  0.24741966, -0.71800536,\n",
              "       -0.40843795,  0.62369966])"
            ]
          },
          "metadata": {},
          "execution_count": 105
        }
      ]
    },
    {
      "cell_type": "code",
      "source": [
        "wholePart"
      ],
      "metadata": {
        "colab": {
          "base_uri": "https://localhost:8080/"
        },
        "id": "aEvPQDw7Lz_L",
        "outputId": "cfc6b45e-346c-4ded-8d18-13a35c207cd5"
      },
      "execution_count": 106,
      "outputs": [
        {
          "output_type": "execute_result",
          "data": {
            "text/plain": [
              "array([ 4., -8., -0.,  2., -6., -0.,  8.])"
            ]
          },
          "metadata": {},
          "execution_count": 106
        }
      ]
    },
    {
      "cell_type": "code",
      "source": [
        "out = np.zeros_like(array)"
      ],
      "metadata": {
        "id": "0DfW1BvyL0nT"
      },
      "execution_count": 107,
      "outputs": []
    },
    {
      "cell_type": "code",
      "source": [
        "np.add(array, 1)"
      ],
      "metadata": {
        "colab": {
          "base_uri": "https://localhost:8080/"
        },
        "id": "cMPeit-eMkY-",
        "outputId": "a4154b86-2245-43f2-baf5-d55e2bed7b37"
      },
      "execution_count": 108,
      "outputs": [
        {
          "output_type": "execute_result",
          "data": {
            "text/plain": [
              "array([ 5.51459671, -7.10791367,  0.2090537 ,  3.24741966, -5.71800536,\n",
              "        0.59156205,  9.62369966])"
            ]
          },
          "metadata": {},
          "execution_count": 108
        }
      ]
    },
    {
      "cell_type": "code",
      "source": [
        "np.add(array, 1, out=out)"
      ],
      "metadata": {
        "colab": {
          "base_uri": "https://localhost:8080/"
        },
        "id": "fw4Bha-1MmWQ",
        "outputId": "229008e9-d7c4-4739-b229-5b3ce3bcd090"
      },
      "execution_count": 109,
      "outputs": [
        {
          "output_type": "execute_result",
          "data": {
            "text/plain": [
              "array([ 5.51459671, -7.10791367,  0.2090537 ,  3.24741966, -5.71800536,\n",
              "        0.59156205,  9.62369966])"
            ]
          },
          "metadata": {},
          "execution_count": 109
        }
      ]
    },
    {
      "cell_type": "code",
      "source": [
        "out"
      ],
      "metadata": {
        "colab": {
          "base_uri": "https://localhost:8080/"
        },
        "id": "JQ22TkZ8MpKy",
        "outputId": "8d0229e1-1d58-4773-dc04-da600221d8bf"
      },
      "execution_count": 110,
      "outputs": [
        {
          "output_type": "execute_result",
          "data": {
            "text/plain": [
              "array([ 5.51459671, -7.10791367,  0.2090537 ,  3.24741966, -5.71800536,\n",
              "        0.59156205,  9.62369966])"
            ]
          },
          "metadata": {},
          "execution_count": 110
        }
      ]
    },
    {
      "cell_type": "markdown",
      "source": [
        "![image.png](data:image/png;base64,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)"
      ],
      "metadata": {
        "id": "I5kfAD75M4Oe"
      }
    },
    {
      "cell_type": "markdown",
      "source": [
        "![image.png](data:image/png;base64,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)"
      ],
      "metadata": {
        "id": "vW5SQL4pNEUq"
      }
    },
    {
      "cell_type": "markdown",
      "source": [
        "###4.4 Array-Oriented Programming with Arrays\n",
        "\n",
        "Using NumPy arrays enables you to express many kinds of data processing tasks as concise array expressions that might otherwise require writing loops. This practice of replacing explicit loops with array expressions is referred to by some people as verctorization. In general, vectorized array operations will usually be significantly faster than their pure Python equivalents, with the biggest impact in any kind of numerical computations."
      ],
      "metadata": {
        "id": "quYclqCWNLs-"
      }
    },
    {
      "cell_type": "markdown",
      "source": [
        "As a simple example, suppose we wished to evaluate the function sqrt(x^2 + y^2) across a regular grid of values. The numpy.meshgrid function takes two one-dimensional array and produces two two-dimensional matrices corresponding to all pairs of (x, y) in the two arrays:"
      ],
      "metadata": {
        "id": "kJrnuCWeOtb6"
      }
    },
    {
      "cell_type": "code",
      "source": [
        "points = np.arange(-5, 5, 0.01)"
      ],
      "metadata": {
        "id": "z_7TQPGYMpgY"
      },
      "execution_count": 111,
      "outputs": []
    },
    {
      "cell_type": "code",
      "source": [
        "xs, ys = np.meshgrid(points, points)"
      ],
      "metadata": {
        "id": "A_5rx1cSPKnf"
      },
      "execution_count": 112,
      "outputs": []
    },
    {
      "cell_type": "code",
      "source": [
        "ys"
      ],
      "metadata": {
        "colab": {
          "base_uri": "https://localhost:8080/"
        },
        "id": "RuOU3WDAPOmP",
        "outputId": "0f74de6f-7c82-402d-c8df-0d47130e0fec"
      },
      "execution_count": 113,
      "outputs": [
        {
          "output_type": "execute_result",
          "data": {
            "text/plain": [
              "array([[-5.  , -5.  , -5.  , ..., -5.  , -5.  , -5.  ],\n",
              "       [-4.99, -4.99, -4.99, ..., -4.99, -4.99, -4.99],\n",
              "       [-4.98, -4.98, -4.98, ..., -4.98, -4.98, -4.98],\n",
              "       ...,\n",
              "       [ 4.97,  4.97,  4.97, ...,  4.97,  4.97,  4.97],\n",
              "       [ 4.98,  4.98,  4.98, ...,  4.98,  4.98,  4.98],\n",
              "       [ 4.99,  4.99,  4.99, ...,  4.99,  4.99,  4.99]])"
            ]
          },
          "metadata": {},
          "execution_count": 113
        }
      ]
    },
    {
      "cell_type": "code",
      "source": [
        "z = np.sqrt(xs ** 2 + ys ** 2)\n",
        "z"
      ],
      "metadata": {
        "colab": {
          "base_uri": "https://localhost:8080/"
        },
        "id": "vJqWFm8GPPEQ",
        "outputId": "f9a139cd-7ac8-4ce3-a60d-651d5f94befd"
      },
      "execution_count": 114,
      "outputs": [
        {
          "output_type": "execute_result",
          "data": {
            "text/plain": [
              "array([[7.07106781, 7.06400028, 7.05693985, ..., 7.04988652, 7.05693985,\n",
              "        7.06400028],\n",
              "       [7.06400028, 7.05692568, 7.04985815, ..., 7.04279774, 7.04985815,\n",
              "        7.05692568],\n",
              "       [7.05693985, 7.04985815, 7.04278354, ..., 7.03571603, 7.04278354,\n",
              "        7.04985815],\n",
              "       ...,\n",
              "       [7.04988652, 7.04279774, 7.03571603, ..., 7.0286414 , 7.03571603,\n",
              "        7.04279774],\n",
              "       [7.05693985, 7.04985815, 7.04278354, ..., 7.03571603, 7.04278354,\n",
              "        7.04985815],\n",
              "       [7.06400028, 7.05692568, 7.04985815, ..., 7.04279774, 7.04985815,\n",
              "        7.05692568]])"
            ]
          },
          "metadata": {},
          "execution_count": 114
        }
      ]
    },
    {
      "cell_type": "code",
      "source": [
        "import matplotlib.pyplot as plt\n",
        "plt.imshow(z, cmap = plt.cm.gray, extent = [-5, 5, -5, 5])\n",
        "plt.colorbar()\n",
        "plt.title(\"Image plot of $\\sqrt{x^2 + y^2}$ for a grid of values\")\n"
      ],
      "metadata": {
        "colab": {
          "base_uri": "https://localhost:8080/",
          "height": 479
        },
        "id": "JuM-GdrFQuW3",
        "outputId": "426b4800-04e2-4a28-ddbe-09119971b92f"
      },
      "execution_count": 116,
      "outputs": [
        {
          "output_type": "execute_result",
          "data": {
            "text/plain": [
              "Text(0.5, 1.0, 'Image plot of $\\\\sqrt{x^2 + y^2}$ for a grid of values')"
            ]
          },
          "metadata": {},
          "execution_count": 116
        },
        {
          "output_type": "display_data",
          "data": {
            "text/plain": [
              "<Figure size 640x480 with 2 Axes>"
            ],
            "image/png": "[encoded data removed]"
          },
          "metadata": {}
        }
      ]
    },
    {
      "cell_type": "markdown",
      "source": [
        "Expressing Conditional Logic as Array Operations\n",
        "\n",
        "The numpy.where function is a vectorized version of the ternary expression 'x if condition else y'. Suppose we had a Boolean array and two arrays of values:"
      ],
      "metadata": {
        "id": "RRHjWRPkRTWc"
      }
    },
    {
      "cell_type": "code",
      "source": [
        "xArray = np.array([1.1, 1.2, 1.3, 1.4, 1.5])\n",
        "yArray = np.zeros_like(xArray)\n",
        "np.add(xArray, 1, out=yArray)"
      ],
      "metadata": {
        "colab": {
          "base_uri": "https://localhost:8080/"
        },
        "id": "HlQFeTJEQ615",
        "outputId": "e5fd7ef2-3ada-4674-bfed-1c949bf10c90"
      },
      "execution_count": 122,
      "outputs": [
        {
          "output_type": "execute_result",
          "data": {
            "text/plain": [
              "array([2.1, 2.2, 2.3, 2.4, 2.5])"
            ]
          },
          "metadata": {},
          "execution_count": 122
        }
      ]
    },
    {
      "cell_type": "code",
      "source": [
        "condition = np.array([True, False, True, True, False])"
      ],
      "metadata": {
        "id": "Uk73TyKIR6xv"
      },
      "execution_count": 123,
      "outputs": []
    },
    {
      "cell_type": "markdown",
      "source": [
        "Suppose we wanted to take a value from xArray whenever the corresponding value in condition is True, and otherwise take the value from yArray. A list comprehension doing this might look like:"
      ],
      "metadata": {
        "id": "Ib_B4tGxSE-H"
      }
    },
    {
      "cell_type": "code",
      "source": [
        "result = [(x if c else y) for x, y, c in zip (xArray, yArray, condition)]\n",
        "result"
      ],
      "metadata": {
        "colab": {
          "base_uri": "https://localhost:8080/"
        },
        "id": "szikJQDOSAVG",
        "outputId": "76c67870-5654-495b-96e4-5859f61cf119"
      },
      "execution_count": 124,
      "outputs": [
        {
          "output_type": "execute_result",
          "data": {
            "text/plain": [
              "[1.1, 2.2, 1.3, 1.4, 2.5]"
            ]
          },
          "metadata": {},
          "execution_count": 124
        }
      ]
    },
    {
      "cell_type": "markdown",
      "source": [
        "This has multiple problems. First, it will not be very fast for large arrays (because all the work is being done in interpreted Python code). Second, it will not work with multidimensional arrays. With numpy.where we can do this with a single function call:\n"
      ],
      "metadata": {
        "id": "RfmqiikxS6W-"
      }
    },
    {
      "cell_type": "code",
      "source": [
        "result = np.where(condition, xArray, yArray)\n",
        "result"
      ],
      "metadata": {
        "colab": {
          "base_uri": "https://localhost:8080/"
        },
        "id": "-ltpeRM2Sggu",
        "outputId": "1bc089e5-9426-4726-82c7-f229e9e348ca"
      },
      "execution_count": 125,
      "outputs": [
        {
          "output_type": "execute_result",
          "data": {
            "text/plain": [
              "array([1.1, 2.2, 1.3, 1.4, 2.5])"
            ]
          },
          "metadata": {},
          "execution_count": 125
        }
      ]
    },
    {
      "cell_type": "markdown",
      "source": [
        "The second and third arguments to numpy.where don't need to be arrays; one or both of them can be scalars. A typical use of where in data analysis is to produce a new array of values based on another array. Suppose we had a matrix of randomly generated data and we wanted to replace all positive values with 2 and all negative values with -2. This is possible to do with numpy.where:"
      ],
      "metadata": {
        "id": "TKY_xnGcTk4S"
      }
    },
    {
      "cell_type": "code",
      "source": [
        "array = rng.standard_normal((4, 4))\n",
        "array"
      ],
      "metadata": {
        "colab": {
          "base_uri": "https://localhost:8080/"
        },
        "id": "yRvNZWoFTTdx",
        "outputId": "d45e698d-6078-43a8-ff57-d34e5c7c6565"
      },
      "execution_count": 126,
      "outputs": [
        {
          "output_type": "execute_result",
          "data": {
            "text/plain": [
              "array([[ 2.61815943,  0.77736134,  0.8286332 , -0.95898831],\n",
              "       [-1.20938829, -1.41229201,  0.54154683,  0.7519394 ],\n",
              "       [-0.65876032, -1.22867499,  0.25755777,  0.31290292],\n",
              "       [-0.13081169,  1.26998312, -0.09296246, -0.06615089]])"
            ]
          },
          "metadata": {},
          "execution_count": 126
        }
      ]
    },
    {
      "cell_type": "code",
      "source": [
        "array > 0"
      ],
      "metadata": {
        "colab": {
          "base_uri": "https://localhost:8080/"
        },
        "id": "8X9nzKosT_u2",
        "outputId": "b1858936-db52-49ce-ecd4-2e705c088c5f"
      },
      "execution_count": 127,
      "outputs": [
        {
          "output_type": "execute_result",
          "data": {
            "text/plain": [
              "array([[ True,  True,  True, False],\n",
              "       [False, False,  True,  True],\n",
              "       [False, False,  True,  True],\n",
              "       [False,  True, False, False]])"
            ]
          },
          "metadata": {},
          "execution_count": 127
        }
      ]
    },
    {
      "cell_type": "code",
      "source": [
        "np.where(array > 0, 2, -2)"
      ],
      "metadata": {
        "colab": {
          "base_uri": "https://localhost:8080/"
        },
        "id": "W0-qikbGUA6t",
        "outputId": "2577eb74-77b6-4d1b-be23-9258b26868b4"
      },
      "execution_count": 128,
      "outputs": [
        {
          "output_type": "execute_result",
          "data": {
            "text/plain": [
              "array([[ 2,  2,  2, -2],\n",
              "       [-2, -2,  2,  2],\n",
              "       [-2, -2,  2,  2],\n",
              "       [-2,  2, -2, -2]])"
            ]
          },
          "metadata": {},
          "execution_count": 128
        }
      ]
    },
    {
      "cell_type": "code",
      "source": [
        "np.where(array > 0, 2, array)"
      ],
      "metadata": {
        "colab": {
          "base_uri": "https://localhost:8080/"
        },
        "id": "PFkzgVAVUKEl",
        "outputId": "f5083a1d-0570-4b63-b649-0c314a6996ab"
      },
      "execution_count": 129,
      "outputs": [
        {
          "output_type": "execute_result",
          "data": {
            "text/plain": [
              "array([[ 2.        ,  2.        ,  2.        , -0.95898831],\n",
              "       [-1.20938829, -1.41229201,  2.        ,  2.        ],\n",
              "       [-0.65876032, -1.22867499,  2.        ,  2.        ],\n",
              "       [-0.13081169,  2.        , -0.09296246, -0.06615089]])"
            ]
          },
          "metadata": {},
          "execution_count": 129
        }
      ]
    },
    {
      "cell_type": "markdown",
      "source": [
        "Mathematical and Statistical Methods\n",
        "\n",
        "A set of mathematical functions that compute statistics about an entire array or about the data along an axis are accessibile as methods of the array class. We can use aggregations (sometimes called reductions) likesum, mean, and std either by calling the array instance method or using the top-level NumPy function. When we use the NumPy function, like numpy.sum, we have to pass the array we want to aggreagate as the first argument."
      ],
      "metadata": {
        "id": "2Ls4yonbUpeh"
      }
    },
    {
      "cell_type": "code",
      "source": [
        "array = rng. standard_normal((5, 4))\n",
        "\n",
        "array"
      ],
      "metadata": {
        "colab": {
          "base_uri": "https://localhost:8080/"
        },
        "id": "mz_wR4gFUObI",
        "outputId": "16b0073b-e54a-4569-ac1d-df737d5f1bce"
      },
      "execution_count": 130,
      "outputs": [
        {
          "output_type": "execute_result",
          "data": {
            "text/plain": [
              "array([[-1.10821447,  0.13595685,  1.34707776,  0.06114402],\n",
              "       [ 0.0709146 ,  0.43365454,  0.27748366,  0.53025239],\n",
              "       [ 0.53672097,  0.61835001, -0.79501746,  0.30003095],\n",
              "       [-1.60270159,  0.26679883, -1.26162378, -0.07127081],\n",
              "       [ 0.47404973, -0.41485376,  0.0977165 , -1.64041784]])"
            ]
          },
          "metadata": {},
          "execution_count": 130
        }
      ]
    },
    {
      "cell_type": "code",
      "source": [
        "array.mean()"
      ],
      "metadata": {
        "colab": {
          "base_uri": "https://localhost:8080/"
        },
        "id": "YYaZITiyVdDk",
        "outputId": "31bb1e8b-ff1a-4415-d72c-025d4d99373f"
      },
      "execution_count": 131,
      "outputs": [
        {
          "output_type": "execute_result",
          "data": {
            "text/plain": [
              "-0.08719744457434529"
            ]
          },
          "metadata": {},
          "execution_count": 131
        }
      ]
    },
    {
      "cell_type": "code",
      "source": [
        "np.mean(array)"
      ],
      "metadata": {
        "colab": {
          "base_uri": "https://localhost:8080/"
        },
        "id": "ZSiLBoApVeIa",
        "outputId": "77ac426f-c451-4740-aeca-e652969ba281"
      },
      "execution_count": 132,
      "outputs": [
        {
          "output_type": "execute_result",
          "data": {
            "text/plain": [
              "-0.08719744457434529"
            ]
          },
          "metadata": {},
          "execution_count": 132
        }
      ]
    },
    {
      "cell_type": "code",
      "source": [
        "array.sum()"
      ],
      "metadata": {
        "colab": {
          "base_uri": "https://localhost:8080/"
        },
        "id": "pN7gQ-SlVfUa",
        "outputId": "741a581a-4d4a-4e28-e57f-be318440bb50"
      },
      "execution_count": 133,
      "outputs": [
        {
          "output_type": "execute_result",
          "data": {
            "text/plain": [
              "-1.743948891486906"
            ]
          },
          "metadata": {},
          "execution_count": 133
        }
      ]
    },
    {
      "cell_type": "code",
      "source": [
        "array.mean(axis=1)"
      ],
      "metadata": {
        "colab": {
          "base_uri": "https://localhost:8080/"
        },
        "id": "8zfl7slvVhqK",
        "outputId": "a1403b1d-38bf-4178-fedd-7fa13de80bcd"
      },
      "execution_count": 134,
      "outputs": [
        {
          "output_type": "execute_result",
          "data": {
            "text/plain": [
              "array([ 0.10899104,  0.3280763 ,  0.16502112, -0.66719934, -0.37087634])"
            ]
          },
          "metadata": {},
          "execution_count": 134
        }
      ]
    },
    {
      "cell_type": "code",
      "source": [
        "array.sum(axis=0)"
      ],
      "metadata": {
        "colab": {
          "base_uri": "https://localhost:8080/"
        },
        "id": "9D5AeaEnVnN2",
        "outputId": "f925bd8b-f90e-4524-bc20-42d38a2383ef"
      },
      "execution_count": 135,
      "outputs": [
        {
          "output_type": "execute_result",
          "data": {
            "text/plain": [
              "array([-1.62923076,  1.03990647, -0.33436331, -0.82026129])"
            ]
          },
          "metadata": {},
          "execution_count": 135
        }
      ]
    },
    {
      "cell_type": "code",
      "source": [
        "array = np.arange(10)"
      ],
      "metadata": {
        "id": "v4N_gz2kVvlQ"
      },
      "execution_count": 136,
      "outputs": []
    },
    {
      "cell_type": "code",
      "source": [
        "array.cumsum()"
      ],
      "metadata": {
        "colab": {
          "base_uri": "https://localhost:8080/"
        },
        "id": "eblnkoBbV7nD",
        "outputId": "623ed42a-107a-4ea6-cf13-e0a6ac6c361b"
      },
      "execution_count": 137,
      "outputs": [
        {
          "output_type": "execute_result",
          "data": {
            "text/plain": [
              "array([ 0,  1,  3,  6, 10, 15, 21, 28, 36, 45])"
            ]
          },
          "metadata": {},
          "execution_count": 137
        }
      ]
    },
    {
      "cell_type": "code",
      "source": [
        "array = np.arange(9).reshape((3,3))"
      ],
      "metadata": {
        "id": "YFB5rpRUWnto"
      },
      "execution_count": 139,
      "outputs": []
    },
    {
      "cell_type": "code",
      "source": [
        "array"
      ],
      "metadata": {
        "colab": {
          "base_uri": "https://localhost:8080/"
        },
        "id": "KvJwUv9cX8wP",
        "outputId": "64014289-3572-4f96-f2bf-824b57d4e18e"
      },
      "execution_count": 140,
      "outputs": [
        {
          "output_type": "execute_result",
          "data": {
            "text/plain": [
              "array([[0, 1, 2],\n",
              "       [3, 4, 5],\n",
              "       [6, 7, 8]])"
            ]
          },
          "metadata": {},
          "execution_count": 140
        }
      ]
    },
    {
      "cell_type": "code",
      "source": [
        "array.cumsum(axis=0)"
      ],
      "metadata": {
        "colab": {
          "base_uri": "https://localhost:8080/"
        },
        "id": "3vW9cidlX-2N",
        "outputId": "7c7c00ca-059b-4d19-94a0-31cceb3b492c"
      },
      "execution_count": 141,
      "outputs": [
        {
          "output_type": "execute_result",
          "data": {
            "text/plain": [
              "array([[ 0,  1,  2],\n",
              "       [ 3,  5,  7],\n",
              "       [ 9, 12, 15]])"
            ]
          },
          "metadata": {},
          "execution_count": 141
        }
      ]
    },
    {
      "cell_type": "code",
      "source": [
        "array.cumsum(axis=1)"
      ],
      "metadata": {
        "colab": {
          "base_uri": "https://localhost:8080/"
        },
        "id": "vhXNcumJYCjN",
        "outputId": "ba625a87-7b9d-42b1-b216-75020b4116da"
      },
      "execution_count": 142,
      "outputs": [
        {
          "output_type": "execute_result",
          "data": {
            "text/plain": [
              "array([[ 0,  1,  3],\n",
              "       [ 3,  7, 12],\n",
              "       [ 6, 13, 21]])"
            ]
          },
          "metadata": {},
          "execution_count": 142
        }
      ]
    },
    {
      "cell_type": "markdown",
      "source": [
        "![image.png](data:image/png;base64,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)"
      ],
      "metadata": {
        "id": "MoVjTQB8YH6B"
      }
    },
    {
      "cell_type": "code",
      "source": [
        "array = rng.standard_normal(100)"
      ],
      "metadata": {
        "id": "AJTVZ7puYE75"
      },
      "execution_count": 143,
      "outputs": []
    },
    {
      "cell_type": "code",
      "source": [
        "(array > 0).sum()"
      ],
      "metadata": {
        "colab": {
          "base_uri": "https://localhost:8080/"
        },
        "id": "keme210XY90B",
        "outputId": "e5ecad13-293a-4eb5-a54f-c0f6b48284b3"
      },
      "execution_count": 144,
      "outputs": [
        {
          "output_type": "execute_result",
          "data": {
            "text/plain": [
              "48"
            ]
          },
          "metadata": {},
          "execution_count": 144
        }
      ]
    },
    {
      "cell_type": "code",
      "source": [
        "(array <= 0).sum()"
      ],
      "metadata": {
        "colab": {
          "base_uri": "https://localhost:8080/"
        },
        "id": "ASHDo27_ZAOM",
        "outputId": "36940a59-379d-478e-e13b-c63fc2dad966"
      },
      "execution_count": 145,
      "outputs": [
        {
          "output_type": "execute_result",
          "data": {
            "text/plain": [
              "52"
            ]
          },
          "metadata": {},
          "execution_count": 145
        }
      ]
    },
    {
      "cell_type": "markdown",
      "source": [
        "Two additional methods, \"any\" and \"all\", are useful especially for Boolean arrays. \"any\" tests whether one or more values in an array is True, while \"all\" checks if every values is True:"
      ],
      "metadata": {
        "id": "_Ajjnm4nZJau"
      }
    },
    {
      "cell_type": "code",
      "source": [
        "booleans = np.array([False, False, True, False])\n",
        "booleans.any()"
      ],
      "metadata": {
        "colab": {
          "base_uri": "https://localhost:8080/"
        },
        "id": "HSNWn43BZDE2",
        "outputId": "19f2e8aa-8241-400b-d64e-1377807a20f3"
      },
      "execution_count": 146,
      "outputs": [
        {
          "output_type": "execute_result",
          "data": {
            "text/plain": [
              "True"
            ]
          },
          "metadata": {},
          "execution_count": 146
        }
      ]
    },
    {
      "cell_type": "code",
      "source": [
        "booleans.all()"
      ],
      "metadata": {
        "colab": {
          "base_uri": "https://localhost:8080/"
        },
        "id": "zQUV0F2XZhFK",
        "outputId": "f3b05b35-9d7e-41a8-9150-928194e3fee6"
      },
      "execution_count": 148,
      "outputs": [
        {
          "output_type": "execute_result",
          "data": {
            "text/plain": [
              "False"
            ]
          },
          "metadata": {},
          "execution_count": 148
        }
      ]
    },
    {
      "cell_type": "markdown",
      "source": [
        "Sorting"
      ],
      "metadata": {
        "id": "fpXHqy5Tactv"
      }
    },
    {
      "cell_type": "code",
      "source": [
        "array = rng.standard_normal(6)\n",
        "array"
      ],
      "metadata": {
        "colab": {
          "base_uri": "https://localhost:8080/"
        },
        "id": "6idiXBtMZimF",
        "outputId": "7553f324-edd4-4352-809b-e6f6a02461c3"
      },
      "execution_count": 149,
      "outputs": [
        {
          "output_type": "execute_result",
          "data": {
            "text/plain": [
              "array([ 0.07726066, -0.68391322, -0.72083767,  1.12062282, -0.05481416,\n",
              "       -0.08241372])"
            ]
          },
          "metadata": {},
          "execution_count": 149
        }
      ]
    },
    {
      "cell_type": "code",
      "source": [
        "array.sort()\n",
        "array"
      ],
      "metadata": {
        "colab": {
          "base_uri": "https://localhost:8080/"
        },
        "id": "KeZu3M9xaj1u",
        "outputId": "81cb9bfa-43ca-478c-c4a6-36086ccde03a"
      },
      "execution_count": 151,
      "outputs": [
        {
          "output_type": "execute_result",
          "data": {
            "text/plain": [
              "array([-0.72083767, -0.68391322, -0.08241372, -0.05481416,  0.07726066,\n",
              "        1.12062282])"
            ]
          },
          "metadata": {},
          "execution_count": 151
        }
      ]
    },
    {
      "cell_type": "code",
      "source": [
        "array = rng.standard_normal((5, 3))\n",
        "array"
      ],
      "metadata": {
        "colab": {
          "base_uri": "https://localhost:8080/"
        },
        "id": "ViVmbrE9akxn",
        "outputId": "1e3f7584-ee8c-42d4-d943-2a88b6a97c5e"
      },
      "execution_count": 152,
      "outputs": [
        {
          "output_type": "execute_result",
          "data": {
            "text/plain": [
              "array([[ 0.9359865 ,  1.23853712,  1.27279553],\n",
              "       [ 0.40589222, -0.05032522,  0.28931754],\n",
              "       [ 0.17930568,  1.39748056,  0.29204679],\n",
              "       [ 0.63840567, -0.02788771,  1.37105185],\n",
              "       [-2.05280763,  0.38050908,  0.75539067]])"
            ]
          },
          "metadata": {},
          "execution_count": 152
        }
      ]
    },
    {
      "cell_type": "code",
      "source": [
        "array.sort(axis=0)\n",
        "array"
      ],
      "metadata": {
        "colab": {
          "base_uri": "https://localhost:8080/"
        },
        "id": "fKbtD0Uea7yM",
        "outputId": "57f9ac03-a6dc-44c2-8a06-c5f7963caa8f"
      },
      "execution_count": 154,
      "outputs": [
        {
          "output_type": "execute_result",
          "data": {
            "text/plain": [
              "array([[-2.05280763, -0.05032522,  0.28931754],\n",
              "       [ 0.17930568, -0.02788771,  0.29204679],\n",
              "       [ 0.40589222,  0.38050908,  0.75539067],\n",
              "       [ 0.63840567,  1.23853712,  1.27279553],\n",
              "       [ 0.9359865 ,  1.39748056,  1.37105185]])"
            ]
          },
          "metadata": {},
          "execution_count": 154
        }
      ]
    },
    {
      "cell_type": "code",
      "source": [
        "array.sort(axis=1)\n",
        "array"
      ],
      "metadata": {
        "colab": {
          "base_uri": "https://localhost:8080/"
        },
        "id": "PDkuoxTda_fb",
        "outputId": "5cbb4a91-cd46-414a-89f5-1373356e8a99"
      },
      "execution_count": 155,
      "outputs": [
        {
          "output_type": "execute_result",
          "data": {
            "text/plain": [
              "array([[-2.05280763, -0.05032522,  0.28931754],\n",
              "       [-0.02788771,  0.17930568,  0.29204679],\n",
              "       [ 0.38050908,  0.40589222,  0.75539067],\n",
              "       [ 0.63840567,  1.23853712,  1.27279553],\n",
              "       [ 0.9359865 ,  1.37105185,  1.39748056]])"
            ]
          },
          "metadata": {},
          "execution_count": 155
        }
      ]
    },
    {
      "cell_type": "code",
      "source": [
        "array2 = np.array([5, -10, 7, 1, 0, -3])\n",
        "sortedArray2 = np.sort(array2)\n",
        "sortedArray2"
      ],
      "metadata": {
        "colab": {
          "base_uri": "https://localhost:8080/"
        },
        "id": "oBEgUF9pbCub",
        "outputId": "a35475ec-5c8b-41ae-b55b-705ae2daead0"
      },
      "execution_count": 156,
      "outputs": [
        {
          "output_type": "execute_result",
          "data": {
            "text/plain": [
              "array([-10,  -3,   0,   1,   5,   7])"
            ]
          },
          "metadata": {},
          "execution_count": 156
        }
      ]
    },
    {
      "cell_type": "markdown",
      "source": [
        "Unique and Other Set Logic"
      ],
      "metadata": {
        "id": "j-gqM1CgcFmD"
      }
    },
    {
      "cell_type": "code",
      "source": [
        "names = np.array([\"Bob\", \"Will\", \"Joe\", \"Bob\", \"Will\", \"Joe\", \"Joe\"])\n",
        "np.unique(names)"
      ],
      "metadata": {
        "colab": {
          "base_uri": "https://localhost:8080/"
        },
        "id": "oHQ9MWlCbg__",
        "outputId": "e23feeb7-f2d5-49e9-dfd7-e89196428999"
      },
      "execution_count": 157,
      "outputs": [
        {
          "output_type": "execute_result",
          "data": {
            "text/plain": [
              "array(['Bob', 'Joe', 'Will'], dtype='<U4')"
            ]
          },
          "metadata": {},
          "execution_count": 157
        }
      ]
    },
    {
      "cell_type": "code",
      "source": [
        "ints = np.array([3, 3, 3, 2, 2, 1, 1, 4, 4])\n",
        "np.unique(ints)"
      ],
      "metadata": {
        "colab": {
          "base_uri": "https://localhost:8080/"
        },
        "id": "IbqlpN4XcW7E",
        "outputId": "a9cf3608-902a-4a46-cc67-e98d67dd84c1"
      },
      "execution_count": 158,
      "outputs": [
        {
          "output_type": "execute_result",
          "data": {
            "text/plain": [
              "array([1, 2, 3, 4])"
            ]
          },
          "metadata": {},
          "execution_count": 158
        }
      ]
    },
    {
      "cell_type": "code",
      "source": [
        "sorted(set(names))"
      ],
      "metadata": {
        "colab": {
          "base_uri": "https://localhost:8080/"
        },
        "id": "fXD8aqhqcZ43",
        "outputId": "86f588a5-caf7-4e1f-b3f2-832c2179ddb4"
      },
      "execution_count": 159,
      "outputs": [
        {
          "output_type": "execute_result",
          "data": {
            "text/plain": [
              "['Bob', 'Joe', 'Will']"
            ]
          },
          "metadata": {},
          "execution_count": 159
        }
      ]
    },
    {
      "cell_type": "code",
      "source": [
        "values = np.array([6, 0, 0, 3, 2, 5, 6])\n",
        "\n",
        "np.in1d(values, [2,3,6])"
      ],
      "metadata": {
        "colab": {
          "base_uri": "https://localhost:8080/"
        },
        "id": "ZIyIt6Uecehj",
        "outputId": "92d0f897-bbdc-4464-fe20-59c694e152b5"
      },
      "execution_count": 160,
      "outputs": [
        {
          "output_type": "execute_result",
          "data": {
            "text/plain": [
              "array([ True, False, False,  True,  True, False,  True])"
            ]
          },
          "metadata": {},
          "execution_count": 160
        }
      ]
    },
    {
      "cell_type": "markdown",
      "source": [
        "![image.png](data:image/png;base64,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)"
      ],
      "metadata": {
        "id": "111kG-w_cxiJ"
      }
    },
    {
      "cell_type": "code",
      "source": [
        "array = np.arange(10)\n",
        "np.save(\"some_array\", array)"
      ],
      "metadata": {
        "id": "ETR_TTo7cvRF"
      },
      "execution_count": 161,
      "outputs": []
    },
    {
      "cell_type": "code",
      "source": [
        "np.load(\"some_array.npy\")"
      ],
      "metadata": {
        "colab": {
          "base_uri": "https://localhost:8080/"
        },
        "id": "Oo3wcF9cdu12",
        "outputId": "6cce9621-1d52-4e65-faed-f7d46cc36e0f"
      },
      "execution_count": 162,
      "outputs": [
        {
          "output_type": "execute_result",
          "data": {
            "text/plain": [
              "array([0, 1, 2, 3, 4, 5, 6, 7, 8, 9])"
            ]
          },
          "metadata": {},
          "execution_count": 162
        }
      ]
    },
    {
      "cell_type": "code",
      "source": [
        "np.savez(\"array_archive.npz\", a=array, b=array)"
      ],
      "metadata": {
        "id": "sNaYWvVed1AT"
      },
      "execution_count": 165,
      "outputs": []
    },
    {
      "cell_type": "code",
      "source": [
        "archive = np.load(\"array_archive.npz\")"
      ],
      "metadata": {
        "id": "lXBHXz8Md_KE"
      },
      "execution_count": 166,
      "outputs": []
    },
    {
      "cell_type": "code",
      "source": [
        "archive[\"b\"]"
      ],
      "metadata": {
        "colab": {
          "base_uri": "https://localhost:8080/"
        },
        "id": "5ZpDy_fkeBQH",
        "outputId": "3d7a6132-2b73-469e-d882-5f03cd5c01ed"
      },
      "execution_count": 167,
      "outputs": [
        {
          "output_type": "execute_result",
          "data": {
            "text/plain": [
              "array([0, 1, 2, 3, 4, 5, 6, 7, 8, 9])"
            ]
          },
          "metadata": {},
          "execution_count": 167
        }
      ]
    },
    {
      "cell_type": "markdown",
      "source": [
        "Linear Algebra\n",
        "\n",
        "\n"
      ],
      "metadata": {
        "id": "aAoAwk6ved4V"
      }
    },
    {
      "cell_type": "code",
      "source": [
        "x = np.arange(1,7).astype(\"float64\").reshape((2, 3))\n",
        "x"
      ],
      "metadata": {
        "colab": {
          "base_uri": "https://localhost:8080/"
        },
        "id": "XY5IeKDseE2O",
        "outputId": "8f295e4a-f42f-422b-e27a-32beac69f12e"
      },
      "execution_count": 168,
      "outputs": [
        {
          "output_type": "execute_result",
          "data": {
            "text/plain": [
              "array([[1., 2., 3.],\n",
              "       [4., 5., 6.]])"
            ]
          },
          "metadata": {},
          "execution_count": 168
        }
      ]
    },
    {
      "cell_type": "code",
      "source": [
        "y = np.array([[6., 23.], [-1, 7], [8, 9]])\n",
        "y"
      ],
      "metadata": {
        "colab": {
          "base_uri": "https://localhost:8080/"
        },
        "id": "a7pmkmOUeq6O",
        "outputId": "30e3286f-788b-464d-ec9f-529a83c33b63"
      },
      "execution_count": 170,
      "outputs": [
        {
          "output_type": "execute_result",
          "data": {
            "text/plain": [
              "array([[ 6., 23.],\n",
              "       [-1.,  7.],\n",
              "       [ 8.,  9.]])"
            ]
          },
          "metadata": {},
          "execution_count": 170
        }
      ]
    },
    {
      "cell_type": "code",
      "source": [
        "x.dot(y)"
      ],
      "metadata": {
        "colab": {
          "base_uri": "https://localhost:8080/"
        },
        "id": "wK6E7hmVexfT",
        "outputId": "1e888fab-793f-48d5-faba-a67ec5a4e790"
      },
      "execution_count": 171,
      "outputs": [
        {
          "output_type": "execute_result",
          "data": {
            "text/plain": [
              "array([[ 28.,  64.],\n",
              "       [ 67., 181.]])"
            ]
          },
          "metadata": {},
          "execution_count": 171
        }
      ]
    },
    {
      "cell_type": "code",
      "source": [
        "np.dot(x,y)"
      ],
      "metadata": {
        "colab": {
          "base_uri": "https://localhost:8080/"
        },
        "id": "3EqiP7mpe2pz",
        "outputId": "c90a90b0-c86b-4224-e88c-cbb30cbd9692"
      },
      "execution_count": 172,
      "outputs": [
        {
          "output_type": "execute_result",
          "data": {
            "text/plain": [
              "array([[ 28.,  64.],\n",
              "       [ 67., 181.]])"
            ]
          },
          "metadata": {},
          "execution_count": 172
        }
      ]
    },
    {
      "cell_type": "code",
      "source": [
        "from numpy.linalg import inv, qr\n",
        "\n",
        "X = rng.standard_normal((5,5))"
      ],
      "metadata": {
        "id": "ttn9QgQafPXI"
      },
      "execution_count": 173,
      "outputs": []
    },
    {
      "cell_type": "code",
      "source": [
        "mat = X.T @ X"
      ],
      "metadata": {
        "id": "g3RQqULRfcZ8"
      },
      "execution_count": 174,
      "outputs": []
    },
    {
      "cell_type": "code",
      "source": [
        "inv(mat)"
      ],
      "metadata": {
        "colab": {
          "base_uri": "https://localhost:8080/"
        },
        "id": "CHBEXd8iffP0",
        "outputId": "d8243035-01ee-4de7-a555-329ac15e9e53"
      },
      "execution_count": 175,
      "outputs": [
        {
          "output_type": "execute_result",
          "data": {
            "text/plain": [
              "array([[  3.49932285,   2.84436268,   3.59557002, -16.55376878,\n",
              "          4.47325573],\n",
              "       [  2.84436268,   2.56666253,   2.9001963 , -13.57742   ,\n",
              "          3.76776505],\n",
              "       [  3.59557002,   2.9001963 ,   4.48232906, -18.34525499,\n",
              "          4.70660032],\n",
              "       [-16.55376878, -13.57742   , -18.34525499,  84.01018808,\n",
              "        -22.04840478],\n",
              "       [  4.47325573,   3.76776505,   4.70660032, -22.04840478,\n",
              "          6.05251342]])"
            ]
          },
          "metadata": {},
          "execution_count": 175
        }
      ]
    },
    {
      "cell_type": "code",
      "source": [
        "mat @inv(mat)"
      ],
      "metadata": {
        "colab": {
          "base_uri": "https://localhost:8080/"
        },
        "id": "8qjxlNA0fgIy",
        "outputId": "712a54ee-27a0-4e08-9368-82374cb4abcd"
      },
      "execution_count": 176,
      "outputs": [
        {
          "output_type": "execute_result",
          "data": {
            "text/plain": [
              "array([[ 1.00000000e+00,  1.75067964e-15, -2.80207584e-15,\n",
              "         9.86737630e-16, -1.66652414e-15],\n",
              "       [ 1.65521536e-17,  1.00000000e+00,  6.05561798e-16,\n",
              "         4.15196154e-15, -2.52119478e-15],\n",
              "       [ 3.86407015e-16, -7.07260933e-16,  1.00000000e+00,\n",
              "        -6.75452839e-15, -1.18024337e-15],\n",
              "       [ 1.82488652e-16, -1.79488644e-17,  2.45759362e-16,\n",
              "         1.00000000e+00, -8.63545476e-16],\n",
              "       [ 3.45446591e-16, -1.23954858e-15,  2.22757702e-15,\n",
              "        -1.91689727e-14,  1.00000000e+00]])"
            ]
          },
          "metadata": {},
          "execution_count": 176
        }
      ]
    },
    {
      "cell_type": "markdown",
      "source": [
        "![image.png](data:image/png;base64,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)"
      ],
      "metadata": {
        "id": "1S5dIi2hfpde"
      }
    },
    {
      "cell_type": "code",
      "source": [
        "import random\n",
        "\n",
        "position = 0\n",
        "walk = [position]\n",
        "nsteps = 1000\n",
        "\n",
        "for _ in range(nsteps):\n",
        "  step = 1 if random.randint(0,1) else -1\n",
        "  position += step\n",
        "  walk.append(position)"
      ],
      "metadata": {
        "id": "6b4VUuO_fjfu"
      },
      "execution_count": 180,
      "outputs": []
    },
    {
      "cell_type": "code",
      "source": [
        "plt.plot(walk[:100])"
      ],
      "metadata": {
        "colab": {
          "base_uri": "https://localhost:8080/",
          "height": 447
        },
        "id": "a7jAYCn_gqzS",
        "outputId": "4624c570-6356-4ef7-9af8-82020c1074a1"
      },
      "execution_count": 181,
      "outputs": [
        {
          "output_type": "execute_result",
          "data": {
            "text/plain": [
              "[<matplotlib.lines.Line2D at 0x7d59c8e406d0>]"
            ]
          },
          "metadata": {},
          "execution_count": 181
        },
        {
          "output_type": "display_data",
          "data": {
            "text/plain": [
              "<Figure size 640x480 with 1 Axes>"
            ],
            "image/png": "[encoded data removed]"
          },
          "metadata": {}
        }
      ]
    },
    {
      "cell_type": "code",
      "source": [
        "nsteps = 1000"
      ],
      "metadata": {
        "id": "hs-DDo1Pg4uY"
      },
      "execution_count": 182,
      "outputs": []
    },
    {
      "cell_type": "code",
      "source": [
        "rng = np.random.default_rng(seed=12345)"
      ],
      "metadata": {
        "id": "y90zdnEGhQy7"
      },
      "execution_count": 183,
      "outputs": []
    },
    {
      "cell_type": "code",
      "source": [
        "draws = rng.integers(0, 2, size=nsteps)"
      ],
      "metadata": {
        "id": "h8lN_QBahVPr"
      },
      "execution_count": 184,
      "outputs": []
    },
    {
      "cell_type": "code",
      "source": [
        "steps = np.where(draws == 0, 1, -1)\n",
        "walk = steps.cumsum()"
      ],
      "metadata": {
        "id": "_UlLFW3GhY1b"
      },
      "execution_count": 185,
      "outputs": []
    },
    {
      "cell_type": "code",
      "source": [
        "plt.plot(walk[:100])"
      ],
      "metadata": {
        "colab": {
          "base_uri": "https://localhost:8080/",
          "height": 447
        },
        "id": "ucWuLNwFhepZ",
        "outputId": "ff1c1595-4c98-4404-9b8e-15453db8c505"
      },
      "execution_count": 186,
      "outputs": [
        {
          "output_type": "execute_result",
          "data": {
            "text/plain": [
              "[<matplotlib.lines.Line2D at 0x7d59c8939c90>]"
            ]
          },
          "metadata": {},
          "execution_count": 186
        },
        {
          "output_type": "display_data",
          "data": {
            "text/plain": [
              "<Figure size 640x480 with 1 Axes>"
            ],
            "image/png": "[encoded data removed]"
          },
          "metadata": {}
        }
      ]
    },
    {
      "cell_type": "code",
      "source": [
        "(np.abs(walk) >= 10).argmax()"
      ],
      "metadata": {
        "colab": {
          "base_uri": "https://localhost:8080/"
        },
        "id": "_1F1vu13hkin",
        "outputId": "09b7bc21-37b2-4438-8018-ca903c9fc4bc"
      },
      "execution_count": 187,
      "outputs": [
        {
          "output_type": "execute_result",
          "data": {
            "text/plain": [
              "155"
            ]
          },
          "metadata": {},
          "execution_count": 187
        }
      ]
    },
    {
      "cell_type": "code",
      "source": [],
      "metadata": {
        "id": "3m7bLG8Zh5RG"
      },
      "execution_count": null,
      "outputs": []
    }
  ]
}